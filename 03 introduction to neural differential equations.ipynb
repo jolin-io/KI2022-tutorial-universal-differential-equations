{
 "cells": [
  {
   "cell_type": "markdown",
   "metadata": {},
   "source": [
    "[![Binder](https://mybinder.org/badge_logo.svg)](https://mybinder.org/v2/gh/jolin-io/KI2022-tutorial-universal-differential-equations/main?filepath=03%20introduction%20to%20neural%20differential%20equations.ipynb)"
   ]
  },
  {
   "cell_type": "markdown",
   "metadata": {},
   "source": [
    "<a href=\"https://www.jolin.io\" target=\"_blank\" rel=\"noreferrer noopener\">\n",
    "<img src=\"https://www.jolin.io/assets/Jolin/Jolin-Banner-Website-v1.1-darkmode.webp\">\n",
    "</a>"
   ]
  },
  {
   "cell_type": "markdown",
   "metadata": {},
   "source": [
    "# Introduction to Universal Differential Equations in <img height=\"60px\" style='height:60px;display:inline;' alt=\"Julia\" src=\"https://julialang.org/assets/infra/logo.svg\">\n",
    "\n",
    "The term Universal Differential Equations was introduced in the paper [Universal Differential Equations for Scientific\n",
    "Machine Learning by Rackauckas et. al. 2021](https://arxiv.org/pdf/2001.04385.pdf)\n",
    "\n",
    "It is about one using machine learning as part of differential equation problems. As such it is one way of combining scientific model-based approaches with machine learning techniques, which is often named scientific machine learning.\n",
    "\n",
    "Here an overview over the scientific machine learning ecosystem as described in the UDE paper:\n",
    "![](./assets/overview_sciml_ecosystem.png)"
   ]
  },
  {
   "cell_type": "markdown",
   "metadata": {},
   "source": [
    "This is a huge ecosystem. For today we focuse mostly on the last layer of implementing Differential Equations which depend on Neural Networks directly."
   ]
  },
  {
   "cell_type": "code",
   "execution_count": 1,
   "metadata": {},
   "outputs": [
    {
     "name": "stderr",
     "output_type": "stream",
     "text": [
      "┌ Info: Precompiling DifferentialEquations [0c46a032-eb83-5123-abaf-570d42b7fbaa]\n",
      "└ @ Base loading.jl:1423\n",
      "┌ Info: Precompiling DiffEqSensitivity [41bf760c-e81c-5289-8e54-58b1f1f8abe2]\n",
      "└ @ Base loading.jl:1423\n"
     ]
    },
    {
     "data": {
      "text/plain": [
       "Random.MersenneTwister(12345)"
      ]
     },
     "execution_count": 1,
     "metadata": {},
     "output_type": "execute_result"
    }
   ],
   "source": [
    "import DifferentialEquations, Plots, Lux, Zygote, DiffEqSensitivity, Optimisers, Random, Statistics\n",
    "\n",
    "rng = Random.MersenneTwister()\n",
    "Random.seed!(rng, 12345)"
   ]
  },
  {
   "cell_type": "markdown",
   "metadata": {},
   "source": [
    "# DifferentialEquations.jl\n",
    "\n",
    "Example [Lotka-Volterra equations](https://en.wikipedia.org/wiki/Lotka%E2%80%93Volterra_equations): Population of rabbits and foxes\n",
    "\n",
    "<center>\n",
    "\n",
    "rabbits: $ x^\\prime = \\alpha x - \\beta x y $\n",
    "\n",
    "</center>\n",
    "\n",
    "the rate of change of the prey's population is given by its own growth rate ($\\alpha$) minus the rate at which it is preyed upon ($\\beta$).\n",
    "\n",
    "\n",
    "<center>\n",
    "\n",
    "foxes: $ y^\\prime = \\gamma x y - \\delta y $\n",
    "\n",
    "</center>\n",
    "\n",
    "the rate of change of the predator's population depends upon the rate at which it consumes prey ($\\gamma$), minus its intrinsic death rate ($\\delta$)"
   ]
  },
  {
   "cell_type": "code",
   "execution_count": 4,
   "metadata": {},
   "outputs": [
    {
     "data": {
      "text/plain": [
       "\u001b[36mODEProblem\u001b[0m with uType \u001b[36mVector{Float64}\u001b[0m and tType \u001b[36mFloat64\u001b[0m. In-place: \u001b[36mtrue\u001b[0m\n",
       "timespan: (0.0, 10.0)\n",
       "u0: 2-element Vector{Float64}:\n",
       " 1.0\n",
       " 1.0"
      ]
     },
     "execution_count": 4,
     "metadata": {},
     "output_type": "execute_result"
    }
   ],
   "source": [
    "function lotka_volterra(du, u, p, t)\n",
    "    x, y = u\n",
    "    α, β, δ, γ = p\n",
    "    du[1] = dx = α*x - β*x*y\n",
    "    du[2] = dy = -δ*y + γ*x*y\n",
    "end\n",
    "u0 = [1.0, 1.0]\n",
    "tspan = (0.0, 10.0)\n",
    "p = [1.5, 1.0, 3.0, 1.0]\n",
    "ode_prob = DifferentialEquations.ODEProblem(lotka_volterra, u0, tspan, p)"
   ]
  },
  {
   "cell_type": "code",
   "execution_count": 5,
   "metadata": {},
   "outputs": [
    {
     "data": {
      "image/svg+xml": [
       "<?xml version=\"1.0\" encoding=\"utf-8\"?>\n",
       "<svg xmlns=\"http://www.w3.org/2000/svg\" xmlns:xlink=\"http://www.w3.org/1999/xlink\" width=\"600\" height=\"400\" viewBox=\"0 0 2400 1600\">\n",
       "<defs>\n",
       "  <clipPath id=\"clip580\">\n",
       "    <rect x=\"0\" y=\"0\" width=\"2400\" height=\"1600\"/>\n",
       "  </clipPath>\n",
       "</defs>\n",
       "<path clip-path=\"url(#clip580)\" d=\"\n",
       "M0 1600 L2400 1600 L2400 0 L0 0  Z\n",
       "  \" fill=\"#ffffff\" fill-rule=\"evenodd\" fill-opacity=\"1\"/>\n",
       "<defs>\n",
       "  <clipPath id=\"clip581\">\n",
       "    <rect x=\"480\" y=\"0\" width=\"1681\" height=\"1600\"/>\n",
       "  </clipPath>\n",
       "</defs>\n",
       "<path clip-path=\"url(#clip580)\" d=\"\n",
       "M112.177 1423.18 L2352.76 1423.18 L2352.76 47.2441 L112.177 47.2441  Z\n",
       "  \" fill=\"#ffffff\" fill-rule=\"evenodd\" fill-opacity=\"1\"/>\n",
       "<defs>\n",
       "  <clipPath id=\"clip582\">\n",
       "    <rect x=\"112\" y=\"47\" width=\"2242\" height=\"1377\"/>\n",
       "  </clipPath>\n",
       "</defs>\n",
       "<polyline clip-path=\"url(#clip582)\" style=\"stroke:#000000; stroke-linecap:butt; stroke-linejoin:round; stroke-width:2; stroke-opacity:0.1; fill:none\" points=\"\n",
       "  112.177,1423.18 112.177,47.2441 \n",
       "  \"/>\n",
       "<polyline clip-path=\"url(#clip582)\" style=\"stroke:#000000; stroke-linecap:butt; stroke-linejoin:round; stroke-width:2; stroke-opacity:0.1; fill:none\" points=\"\n",
       "  560.293,1423.18 560.293,47.2441 \n",
       "  \"/>\n",
       "<polyline clip-path=\"url(#clip582)\" style=\"stroke:#000000; stroke-linecap:butt; stroke-linejoin:round; stroke-width:2; stroke-opacity:0.1; fill:none\" points=\"\n",
       "  1008.41,1423.18 1008.41,47.2441 \n",
       "  \"/>\n",
       "<polyline clip-path=\"url(#clip582)\" style=\"stroke:#000000; stroke-linecap:butt; stroke-linejoin:round; stroke-width:2; stroke-opacity:0.1; fill:none\" points=\"\n",
       "  1456.52,1423.18 1456.52,47.2441 \n",
       "  \"/>\n",
       "<polyline clip-path=\"url(#clip582)\" style=\"stroke:#000000; stroke-linecap:butt; stroke-linejoin:round; stroke-width:2; stroke-opacity:0.1; fill:none\" points=\"\n",
       "  1904.64,1423.18 1904.64,47.2441 \n",
       "  \"/>\n",
       "<polyline clip-path=\"url(#clip582)\" style=\"stroke:#000000; stroke-linecap:butt; stroke-linejoin:round; stroke-width:2; stroke-opacity:0.1; fill:none\" points=\"\n",
       "  2352.76,1423.18 2352.76,47.2441 \n",
       "  \"/>\n",
       "<polyline clip-path=\"url(#clip580)\" style=\"stroke:#000000; stroke-linecap:butt; stroke-linejoin:round; stroke-width:4; stroke-opacity:1; fill:none\" points=\"\n",
       "  112.177,1423.18 2352.76,1423.18 \n",
       "  \"/>\n",
       "<polyline clip-path=\"url(#clip580)\" style=\"stroke:#000000; stroke-linecap:butt; stroke-linejoin:round; stroke-width:4; stroke-opacity:1; fill:none\" points=\"\n",
       "  112.177,1423.18 112.177,1404.28 \n",
       "  \"/>\n",
       "<polyline clip-path=\"url(#clip580)\" style=\"stroke:#000000; stroke-linecap:butt; stroke-linejoin:round; stroke-width:4; stroke-opacity:1; fill:none\" points=\"\n",
       "  560.293,1423.18 560.293,1404.28 \n",
       "  \"/>\n",
       "<polyline clip-path=\"url(#clip580)\" style=\"stroke:#000000; stroke-linecap:butt; stroke-linejoin:round; stroke-width:4; stroke-opacity:1; fill:none\" points=\"\n",
       "  1008.41,1423.18 1008.41,1404.28 \n",
       "  \"/>\n",
       "<polyline clip-path=\"url(#clip580)\" style=\"stroke:#000000; stroke-linecap:butt; stroke-linejoin:round; stroke-width:4; stroke-opacity:1; fill:none\" points=\"\n",
       "  1456.52,1423.18 1456.52,1404.28 \n",
       "  \"/>\n",
       "<polyline clip-path=\"url(#clip580)\" style=\"stroke:#000000; stroke-linecap:butt; stroke-linejoin:round; stroke-width:4; stroke-opacity:1; fill:none\" points=\"\n",
       "  1904.64,1423.18 1904.64,1404.28 \n",
       "  \"/>\n",
       "<polyline clip-path=\"url(#clip580)\" style=\"stroke:#000000; stroke-linecap:butt; stroke-linejoin:round; stroke-width:4; stroke-opacity:1; fill:none\" points=\"\n",
       "  2352.76,1423.18 2352.76,1404.28 \n",
       "  \"/>\n",
       "<path clip-path=\"url(#clip580)\" d=\"M112.177 1454.1 Q108.566 1454.1 106.737 1457.66 Q104.932 1461.2 104.932 1468.33 Q104.932 1475.44 106.737 1479.01 Q108.566 1482.55 112.177 1482.55 Q115.811 1482.55 117.617 1479.01 Q119.446 1475.44 119.446 1468.33 Q119.446 1461.2 117.617 1457.66 Q115.811 1454.1 112.177 1454.1 M112.177 1450.39 Q117.987 1450.39 121.043 1455 Q124.122 1459.58 124.122 1468.33 Q124.122 1477.06 121.043 1481.67 Q117.987 1486.25 112.177 1486.25 Q106.367 1486.25 103.288 1481.67 Q100.233 1477.06 100.233 1468.33 Q100.233 1459.58 103.288 1455 Q106.367 1450.39 112.177 1450.39 Z\" fill=\"#000000\" fill-rule=\"evenodd\" fill-opacity=\"1\" /><path clip-path=\"url(#clip580)\" d=\"M554.946 1481.64 L571.265 1481.64 L571.265 1485.58 L549.321 1485.58 L549.321 1481.64 Q551.983 1478.89 556.566 1474.26 Q561.173 1469.61 562.353 1468.27 Q564.598 1465.74 565.478 1464.01 Q566.381 1462.25 566.381 1460.56 Q566.381 1457.8 564.436 1456.07 Q562.515 1454.33 559.413 1454.33 Q557.214 1454.33 554.761 1455.09 Q552.33 1455.86 549.552 1457.41 L549.552 1452.69 Q552.376 1451.55 554.83 1450.97 Q557.284 1450.39 559.321 1450.39 Q564.691 1450.39 567.885 1453.08 Q571.08 1455.77 571.08 1460.26 Q571.08 1462.39 570.27 1464.31 Q569.483 1466.2 567.376 1468.8 Q566.798 1469.47 563.696 1472.69 Q560.594 1475.88 554.946 1481.64 Z\" fill=\"#000000\" fill-rule=\"evenodd\" fill-opacity=\"1\" /><path clip-path=\"url(#clip580)\" d=\"M1011.42 1455.09 L999.612 1473.54 L1011.42 1473.54 L1011.42 1455.09 M1010.19 1451.02 L1016.07 1451.02 L1016.07 1473.54 L1021 1473.54 L1021 1477.43 L1016.07 1477.43 L1016.07 1485.58 L1011.42 1485.58 L1011.42 1477.43 L995.816 1477.43 L995.816 1472.92 L1010.19 1451.02 Z\" fill=\"#000000\" fill-rule=\"evenodd\" fill-opacity=\"1\" /><path clip-path=\"url(#clip580)\" d=\"M1456.93 1466.44 Q1453.78 1466.44 1451.93 1468.59 Q1450.1 1470.74 1450.1 1474.49 Q1450.1 1478.22 1451.93 1480.39 Q1453.78 1482.55 1456.93 1482.55 Q1460.08 1482.55 1461.91 1480.39 Q1463.76 1478.22 1463.76 1474.49 Q1463.76 1470.74 1461.91 1468.59 Q1460.08 1466.44 1456.93 1466.44 M1466.21 1451.78 L1466.21 1456.04 Q1464.45 1455.21 1462.65 1454.77 Q1460.86 1454.33 1459.11 1454.33 Q1454.48 1454.33 1452.02 1457.45 Q1449.59 1460.58 1449.24 1466.9 Q1450.61 1464.89 1452.67 1463.82 Q1454.73 1462.73 1457.21 1462.73 Q1462.42 1462.73 1465.42 1465.9 Q1468.46 1469.05 1468.46 1474.49 Q1468.46 1479.82 1465.31 1483.03 Q1462.16 1486.25 1456.93 1486.25 Q1450.93 1486.25 1447.76 1481.67 Q1444.59 1477.06 1444.59 1468.33 Q1444.59 1460.14 1448.48 1455.28 Q1452.37 1450.39 1458.92 1450.39 Q1460.68 1450.39 1462.46 1450.74 Q1464.27 1451.09 1466.21 1451.78 Z\" fill=\"#000000\" fill-rule=\"evenodd\" fill-opacity=\"1\" /><path clip-path=\"url(#clip580)\" d=\"M1904.64 1469.17 Q1901.31 1469.17 1899.39 1470.95 Q1897.49 1472.73 1897.49 1475.86 Q1897.49 1478.98 1899.39 1480.77 Q1901.31 1482.55 1904.64 1482.55 Q1907.97 1482.55 1909.89 1480.77 Q1911.82 1478.96 1911.82 1475.86 Q1911.82 1472.73 1909.89 1470.95 Q1908 1469.17 1904.64 1469.17 M1899.96 1467.18 Q1896.96 1466.44 1895.27 1464.38 Q1893.6 1462.32 1893.6 1459.35 Q1893.6 1455.21 1896.54 1452.8 Q1899.5 1450.39 1904.64 1450.39 Q1909.8 1450.39 1912.74 1452.8 Q1915.68 1455.21 1915.68 1459.35 Q1915.68 1462.32 1913.99 1464.38 Q1912.33 1466.44 1909.34 1467.18 Q1912.72 1467.96 1914.59 1470.26 Q1916.49 1472.55 1916.49 1475.86 Q1916.49 1480.88 1913.41 1483.57 Q1910.36 1486.25 1904.64 1486.25 Q1898.92 1486.25 1895.84 1483.57 Q1892.79 1480.88 1892.79 1475.86 Q1892.79 1472.55 1894.69 1470.26 Q1896.58 1467.96 1899.96 1467.18 M1898.25 1459.79 Q1898.25 1462.48 1899.92 1463.98 Q1901.61 1465.49 1904.64 1465.49 Q1907.65 1465.49 1909.34 1463.98 Q1911.05 1462.48 1911.05 1459.79 Q1911.05 1457.11 1909.34 1455.6 Q1907.65 1454.1 1904.64 1454.1 Q1901.61 1454.1 1899.92 1455.6 Q1898.25 1457.11 1898.25 1459.79 Z\" fill=\"#000000\" fill-rule=\"evenodd\" fill-opacity=\"1\" /><path clip-path=\"url(#clip580)\" d=\"M2327.44 1481.64 L2335.08 1481.64 L2335.08 1455.28 L2326.77 1456.95 L2326.77 1452.69 L2335.04 1451.02 L2339.71 1451.02 L2339.71 1481.64 L2347.35 1481.64 L2347.35 1485.58 L2327.44 1485.58 L2327.44 1481.64 Z\" fill=\"#000000\" fill-rule=\"evenodd\" fill-opacity=\"1\" /><path clip-path=\"url(#clip580)\" d=\"M2366.8 1454.1 Q2363.18 1454.1 2361.36 1457.66 Q2359.55 1461.2 2359.55 1468.33 Q2359.55 1475.44 2361.36 1479.01 Q2363.18 1482.55 2366.8 1482.55 Q2370.43 1482.55 2372.23 1479.01 Q2374.06 1475.44 2374.06 1468.33 Q2374.06 1461.2 2372.23 1457.66 Q2370.43 1454.1 2366.8 1454.1 M2366.8 1450.39 Q2372.61 1450.39 2375.66 1455 Q2378.74 1459.58 2378.74 1468.33 Q2378.74 1477.06 2375.66 1481.67 Q2372.61 1486.25 2366.8 1486.25 Q2360.99 1486.25 2357.91 1481.67 Q2354.85 1477.06 2354.85 1468.33 Q2354.85 1459.58 2357.91 1455 Q2360.99 1450.39 2366.8 1450.39 Z\" fill=\"#000000\" fill-rule=\"evenodd\" fill-opacity=\"1\" /><path clip-path=\"url(#clip580)\" d=\"M1231.53 1522.27 L1231.53 1532.4 L1243.59 1532.4 L1243.59 1536.95 L1231.53 1536.95 L1231.53 1556.3 Q1231.53 1560.66 1232.71 1561.9 Q1233.91 1563.14 1237.58 1563.14 L1243.59 1563.14 L1243.59 1568.04 L1237.58 1568.04 Q1230.8 1568.04 1228.22 1565.53 Q1225.64 1562.98 1225.64 1556.3 L1225.64 1536.95 L1221.34 1536.95 L1221.34 1532.4 L1225.64 1532.4 L1225.64 1522.27 L1231.53 1522.27 Z\" fill=\"#000000\" fill-rule=\"evenodd\" fill-opacity=\"1\" /><polyline clip-path=\"url(#clip582)\" style=\"stroke:#000000; stroke-linecap:butt; stroke-linejoin:round; stroke-width:2; stroke-opacity:0.1; fill:none\" points=\"\n",
       "  112.177,1238.89 2352.76,1238.89 \n",
       "  \"/>\n",
       "<polyline clip-path=\"url(#clip582)\" style=\"stroke:#000000; stroke-linecap:butt; stroke-linejoin:round; stroke-width:2; stroke-opacity:0.1; fill:none\" points=\"\n",
       "  112.177,1043.22 2352.76,1043.22 \n",
       "  \"/>\n",
       "<polyline clip-path=\"url(#clip582)\" style=\"stroke:#000000; stroke-linecap:butt; stroke-linejoin:round; stroke-width:2; stroke-opacity:0.1; fill:none\" points=\"\n",
       "  112.177,847.551 2352.76,847.551 \n",
       "  \"/>\n",
       "<polyline clip-path=\"url(#clip582)\" style=\"stroke:#000000; stroke-linecap:butt; stroke-linejoin:round; stroke-width:2; stroke-opacity:0.1; fill:none\" points=\"\n",
       "  112.177,651.879 2352.76,651.879 \n",
       "  \"/>\n",
       "<polyline clip-path=\"url(#clip582)\" style=\"stroke:#000000; stroke-linecap:butt; stroke-linejoin:round; stroke-width:2; stroke-opacity:0.1; fill:none\" points=\"\n",
       "  112.177,456.207 2352.76,456.207 \n",
       "  \"/>\n",
       "<polyline clip-path=\"url(#clip582)\" style=\"stroke:#000000; stroke-linecap:butt; stroke-linejoin:round; stroke-width:2; stroke-opacity:0.1; fill:none\" points=\"\n",
       "  112.177,260.535 2352.76,260.535 \n",
       "  \"/>\n",
       "<polyline clip-path=\"url(#clip582)\" style=\"stroke:#000000; stroke-linecap:butt; stroke-linejoin:round; stroke-width:2; stroke-opacity:0.1; fill:none\" points=\"\n",
       "  112.177,64.8637 2352.76,64.8637 \n",
       "  \"/>\n",
       "<polyline clip-path=\"url(#clip580)\" style=\"stroke:#000000; stroke-linecap:butt; stroke-linejoin:round; stroke-width:4; stroke-opacity:1; fill:none\" points=\"\n",
       "  112.177,1423.18 112.177,47.2441 \n",
       "  \"/>\n",
       "<polyline clip-path=\"url(#clip580)\" style=\"stroke:#000000; stroke-linecap:butt; stroke-linejoin:round; stroke-width:4; stroke-opacity:1; fill:none\" points=\"\n",
       "  112.177,1238.89 131.075,1238.89 \n",
       "  \"/>\n",
       "<polyline clip-path=\"url(#clip580)\" style=\"stroke:#000000; stroke-linecap:butt; stroke-linejoin:round; stroke-width:4; stroke-opacity:1; fill:none\" points=\"\n",
       "  112.177,1043.22 131.075,1043.22 \n",
       "  \"/>\n",
       "<polyline clip-path=\"url(#clip580)\" style=\"stroke:#000000; stroke-linecap:butt; stroke-linejoin:round; stroke-width:4; stroke-opacity:1; fill:none\" points=\"\n",
       "  112.177,847.551 131.075,847.551 \n",
       "  \"/>\n",
       "<polyline clip-path=\"url(#clip580)\" style=\"stroke:#000000; stroke-linecap:butt; stroke-linejoin:round; stroke-width:4; stroke-opacity:1; fill:none\" points=\"\n",
       "  112.177,651.879 131.075,651.879 \n",
       "  \"/>\n",
       "<polyline clip-path=\"url(#clip580)\" style=\"stroke:#000000; stroke-linecap:butt; stroke-linejoin:round; stroke-width:4; stroke-opacity:1; fill:none\" points=\"\n",
       "  112.177,456.207 131.075,456.207 \n",
       "  \"/>\n",
       "<polyline clip-path=\"url(#clip580)\" style=\"stroke:#000000; stroke-linecap:butt; stroke-linejoin:round; stroke-width:4; stroke-opacity:1; fill:none\" points=\"\n",
       "  112.177,260.535 131.075,260.535 \n",
       "  \"/>\n",
       "<polyline clip-path=\"url(#clip580)\" style=\"stroke:#000000; stroke-linecap:butt; stroke-linejoin:round; stroke-width:4; stroke-opacity:1; fill:none\" points=\"\n",
       "  112.177,64.8637 131.075,64.8637 \n",
       "  \"/>\n",
       "<path clip-path=\"url(#clip580)\" d=\"M56.2699 1252.24 L63.9087 1252.24 L63.9087 1225.87 L55.5986 1227.54 L55.5986 1223.28 L63.8624 1221.61 L68.5383 1221.61 L68.5383 1252.24 L76.1772 1252.24 L76.1772 1256.17 L56.2699 1256.17 L56.2699 1252.24 Z\" fill=\"#000000\" fill-rule=\"evenodd\" fill-opacity=\"1\" /><path clip-path=\"url(#clip580)\" d=\"M59.8578 1056.57 L76.1772 1056.57 L76.1772 1060.5 L54.2328 1060.5 L54.2328 1056.57 Q56.8949 1053.81 61.4782 1049.18 Q66.0846 1044.53 67.2652 1043.19 Q69.5105 1040.66 70.3902 1038.93 Q71.2929 1037.17 71.2929 1035.48 Q71.2929 1032.72 69.3485 1030.99 Q67.4272 1029.25 64.3254 1029.25 Q62.1263 1029.25 59.6726 1030.02 Q57.2421 1030.78 54.4643 1032.33 L54.4643 1027.61 Q57.2884 1026.47 59.7421 1025.9 Q62.1958 1025.32 64.2328 1025.32 Q69.6031 1025.32 72.7976 1028 Q75.992 1030.69 75.992 1035.18 Q75.992 1037.31 75.1818 1039.23 Q74.3948 1041.13 72.2883 1043.72 Q71.7096 1044.39 68.6078 1047.61 Q65.5059 1050.8 59.8578 1056.57 Z\" fill=\"#000000\" fill-rule=\"evenodd\" fill-opacity=\"1\" /><path clip-path=\"url(#clip580)\" d=\"M69.0476 846.196 Q72.404 846.914 74.279 849.183 Q76.1772 851.451 76.1772 854.784 Q76.1772 859.9 72.6587 862.701 Q69.1402 865.502 62.6587 865.502 Q60.4828 865.502 58.168 865.062 Q55.8764 864.645 53.4227 863.789 L53.4227 859.275 Q55.3671 860.409 57.6819 860.988 Q59.9967 861.567 62.5198 861.567 Q66.918 861.567 69.2096 859.831 Q71.5244 858.095 71.5244 854.784 Q71.5244 851.729 69.3717 850.016 Q67.242 848.28 63.4226 848.28 L59.3949 848.28 L59.3949 844.437 L63.6078 844.437 Q67.0569 844.437 68.8855 843.071 Q70.7142 841.683 70.7142 839.09 Q70.7142 836.428 68.8161 835.016 Q66.9411 833.581 63.4226 833.581 Q61.5013 833.581 59.3023 833.997 Q57.1032 834.414 54.4643 835.294 L54.4643 831.127 Q57.1264 830.386 59.4412 830.016 Q61.7791 829.646 63.8393 829.646 Q69.1633 829.646 72.2652 832.076 Q75.367 834.484 75.367 838.604 Q75.367 841.474 73.7235 843.465 Q72.08 845.433 69.0476 846.196 Z\" fill=\"#000000\" fill-rule=\"evenodd\" fill-opacity=\"1\" /><path clip-path=\"url(#clip580)\" d=\"M66.5939 638.673 L54.7884 657.122 L66.5939 657.122 L66.5939 638.673 M65.367 634.599 L71.2466 634.599 L71.2466 657.122 L76.1772 657.122 L76.1772 661.011 L71.2466 661.011 L71.2466 669.159 L66.5939 669.159 L66.5939 661.011 L50.9921 661.011 L50.9921 656.497 L65.367 634.599 Z\" fill=\"#000000\" fill-rule=\"evenodd\" fill-opacity=\"1\" /><path clip-path=\"url(#clip580)\" d=\"M55.2745 438.927 L73.6309 438.927 L73.6309 442.862 L59.5569 442.862 L59.5569 451.334 Q60.5754 450.987 61.5939 450.825 Q62.6124 450.64 63.6309 450.64 Q69.418 450.64 72.7976 453.811 Q76.1772 456.983 76.1772 462.399 Q76.1772 467.978 72.705 471.08 Q69.2328 474.158 62.9134 474.158 Q60.7374 474.158 58.4689 473.788 Q56.2236 473.418 53.8162 472.677 L53.8162 467.978 Q55.8995 469.112 58.1217 469.668 Q60.3439 470.223 62.8208 470.223 Q66.8254 470.223 69.1633 468.117 Q71.5013 466.01 71.5013 462.399 Q71.5013 458.788 69.1633 456.682 Q66.8254 454.575 62.8208 454.575 Q60.9458 454.575 59.0708 454.992 Q57.2189 455.409 55.2745 456.288 L55.2745 438.927 Z\" fill=\"#000000\" fill-rule=\"evenodd\" fill-opacity=\"1\" /><path clip-path=\"url(#clip580)\" d=\"M64.6495 258.672 Q61.5013 258.672 59.6495 260.825 Q57.8208 262.978 57.8208 266.728 Q57.8208 270.454 59.6495 272.63 Q61.5013 274.783 64.6495 274.783 Q67.7976 274.783 69.6263 272.63 Q71.4781 270.454 71.4781 266.728 Q71.4781 262.978 69.6263 260.825 Q67.7976 258.672 64.6495 258.672 M73.9318 244.019 L73.9318 248.279 Q72.1726 247.445 70.367 247.005 Q68.5846 246.566 66.8254 246.566 Q62.1958 246.566 59.7421 249.691 Q57.3115 252.816 56.9643 259.135 Q58.33 257.121 60.3902 256.056 Q62.4504 254.968 64.9272 254.968 Q70.1355 254.968 73.1448 258.14 Q76.1772 261.288 76.1772 266.728 Q76.1772 272.052 73.029 275.269 Q69.8809 278.487 64.6495 278.487 Q58.6541 278.487 55.4828 273.903 Q52.3116 269.297 52.3116 260.57 Q52.3116 252.376 56.2004 247.515 Q60.0893 242.63 66.6402 242.63 Q68.3994 242.63 70.1818 242.978 Q71.9874 243.325 73.9318 244.019 Z\" fill=\"#000000\" fill-rule=\"evenodd\" fill-opacity=\"1\" /><path clip-path=\"url(#clip580)\" d=\"M53.9551 47.5837 L76.1772 47.5837 L76.1772 49.5744 L63.6309 82.1437 L58.7467 82.1437 L70.5522 51.5189 L53.9551 51.5189 L53.9551 47.5837 Z\" fill=\"#000000\" fill-rule=\"evenodd\" fill-opacity=\"1\" /><polyline clip-path=\"url(#clip582)\" style=\"stroke:#009af9; stroke-linecap:butt; stroke-linejoin:round; stroke-width:4; stroke-opacity:1; fill:none\" points=\"\n",
       "  112.177,1238.89 134.583,1226.94 156.989,1210.71 179.395,1190.14 201.8,1165 224.206,1134.95 246.612,1099.52 269.018,1058.18 291.423,1010.27 313.829,955.121 \n",
       "  336.235,892.003 358.641,820.209 381.047,739.168 403.452,648.656 425.858,549.021 448.264,441.65 470.67,330.602 493.076,222.874 515.481,133.561 537.887,86.1857 \n",
       "  560.293,109.184 582.699,227.354 605.104,426.699 627.51,657.067 649.916,860.218 672.322,1008.61 694.728,1107.73 717.133,1170.86 739.539,1209.71 761.945,1232.57 \n",
       "  784.351,1244.63 806.757,1248.9 829.162,1247.15 851.568,1240.4 873.974,1229.19 896.38,1213.69 918.786,1193.85 941.191,1169.49 963.597,1140.29 986.003,1105.81 \n",
       "  1008.41,1065.5 1030.81,1018.75 1053.22,964.878 1075.63,903.14 1098.03,832.85 1120.44,753.441 1142.84,664.772 1165.25,566.47 1187.65,460.027 1210.06,349.337 \n",
       "  1232.47,240.666 1254.87,146.598 1277.28,90.4419 1299.68,99.593 1322.09,202.089 1344.5,389.934 1366.9,618.478 1389.31,828.409 1411.71,986.932 1434.12,1092.67 \n",
       "  1456.52,1161.02 1478.93,1203.55 1501.34,1228.86 1523.74,1242.54 1546.15,1247.99 1568.55,1247.22 1590.96,1241.3 1613.36,1230.81 1635.77,1216.02 1658.18,1196.92 \n",
       "  1680.58,1173.34 1702.99,1144.96 1725.39,1111.37 1747.8,1072.05 1770.21,1026.4 1792.61,973.743 1815.02,913.367 1837.42,844.577 1859.83,766.684 1882.23,679.36 \n",
       "  1904.64,582.8 1927.05,478.413 1949.45,367.944 1971.86,258.125 1994.26,161.881 2016.67,98.3297 2039.07,95.2892 2061.48,181.058 2083.89,358.111 2106.29,584.143 \n",
       "  2128.7,799.301 2151.1,965.802 2173.51,1078.97 2195.92,1152.26 2218.32,1198.02 2240.73,1225.47 2263.13,1240.65 2285.54,1247.23 2307.94,1247.31 2330.35,1242.11 \n",
       "  2352.76,1232.29 \n",
       "  \"/>\n",
       "<polyline clip-path=\"url(#clip582)\" style=\"stroke:#e26f46; stroke-linecap:butt; stroke-linejoin:round; stroke-width:4; stroke-opacity:1; fill:none\" points=\"\n",
       "  112.177,1238.89 134.583,1273.9 156.989,1301.69 179.395,1323.64 201.8,1340.88 224.206,1354.31 246.612,1364.66 269.018,1372.47 291.423,1378.14 313.829,1381.92 \n",
       "  336.235,1383.94 358.641,1384.18 381.047,1382.43 403.452,1378.18 425.858,1370.52 448.264,1357.97 470.67,1337.6 493.076,1305.01 515.481,1251.53 537.887,1166.42 \n",
       "  560.293,1040.22 582.699,872.915 605.104,701.795 627.51,578.044 649.916,538.784 672.322,580.613 694.728,669.196 717.133,775.975 739.539,882.183 761.945,978.431 \n",
       "  784.351,1061.2 806.757,1130.17 829.162,1186.58 851.568,1232.08 873.974,1268.46 896.38,1297.38 918.786,1320.24 941.191,1338.21 963.597,1352.23 986.003,1363.05 \n",
       "  1008.41,1371.27 1030.81,1377.28 1053.22,1381.37 1075.63,1383.69 1098.03,1384.24 1120.44,1382.82 1142.84,1378.87 1165.25,1371.93 1187.65,1360.48 1210.06,1341.7 \n",
       "  1232.47,1311.45 1254.87,1262.45 1277.28,1183.27 1299.68,1064.56 1322.09,902.039 1344.5,728.51 1366.9,594.584 1389.31,540.815 1411.71,569.372 1434.12,653.163 \n",
       "  1456.52,757.883 1478.93,864.735 1501.34,962.81 1523.74,1047.85 1546.15,1119.09 1568.55,1177.47 1590.96,1224.7 1613.36,1262.53 1635.77,1292.62 1658.18,1316.43 \n",
       "  1680.58,1335.16 1702.99,1349.83 1725.39,1361.17 1747.8,1369.79 1770.21,1376.15 1792.61,1380.55 1815.02,1383.16 1837.42,1383.98 1859.83,1382.91 1882.23,1379.56 \n",
       "  1904.64,1373.12 1927.05,1362.05 1949.45,1344.54 1971.86,1316.46 1994.26,1270.85 2016.67,1197.88 2039.07,1085.83 2061.48,931.436 2083.89,756.044 2106.29,611.825 \n",
       "  2128.7,544.86 2151.1,562.307 2173.51,639.171 2195.92,741.939 2218.32,849.223 2240.73,948.894 2263.13,1035.93 2285.54,1109.12 2307.94,1169.32 2330.35,1218.1 \n",
       "  2352.76,1257.21 \n",
       "  \"/>\n",
       "<path clip-path=\"url(#clip580)\" d=\"\n",
       "M1921.43 248.629 L2278.07 248.629 L2278.07 93.1086 L1921.43 93.1086  Z\n",
       "  \" fill=\"#ffffff\" fill-rule=\"evenodd\" fill-opacity=\"1\"/>\n",
       "<polyline clip-path=\"url(#clip580)\" style=\"stroke:#000000; stroke-linecap:butt; stroke-linejoin:round; stroke-width:4; stroke-opacity:1; fill:none\" points=\"\n",
       "  1921.43,248.629 2278.07,248.629 2278.07,93.1086 1921.43,93.1086 1921.43,248.629 \n",
       "  \"/>\n",
       "<polyline clip-path=\"url(#clip580)\" style=\"stroke:#009af9; stroke-linecap:butt; stroke-linejoin:round; stroke-width:4; stroke-opacity:1; fill:none\" points=\"\n",
       "  1946.33,144.949 2095.7,144.949 \n",
       "  \"/>\n",
       "<path clip-path=\"url(#clip580)\" d=\"M2120.59 151.997 L2120.59 136.303 L2124.85 136.303 L2124.85 151.835 Q2124.85 155.516 2126.29 157.368 Q2127.72 159.196 2130.59 159.196 Q2134.04 159.196 2136.03 156.997 Q2138.05 154.798 2138.05 151.002 L2138.05 136.303 L2142.31 136.303 L2142.31 162.229 L2138.05 162.229 L2138.05 158.247 Q2136.5 160.608 2134.44 161.766 Q2132.4 162.9 2129.69 162.9 Q2125.22 162.9 2122.91 160.122 Q2120.59 157.344 2120.59 151.997 M2131.31 135.678 L2131.31 135.678 Z\" fill=\"#000000\" fill-rule=\"evenodd\" fill-opacity=\"1\" /><path clip-path=\"url(#clip580)\" d=\"M2152.49 158.293 L2160.13 158.293 L2160.13 131.928 L2151.82 133.595 L2151.82 129.335 L2160.09 127.669 L2164.76 127.669 L2164.76 158.293 L2172.4 158.293 L2172.4 162.229 L2152.49 162.229 L2152.49 158.293 Z\" fill=\"#000000\" fill-rule=\"evenodd\" fill-opacity=\"1\" /><path clip-path=\"url(#clip580)\" d=\"M2191.47 126.257 Q2188.37 131.581 2186.87 136.789 Q2185.36 141.997 2185.36 147.344 Q2185.36 152.692 2186.87 157.946 Q2188.4 163.178 2191.47 168.479 L2187.77 168.479 Q2184.3 163.039 2182.56 157.784 Q2180.85 152.53 2180.85 147.344 Q2180.85 142.182 2182.56 136.951 Q2184.27 131.72 2187.77 126.257 L2191.47 126.257 Z\" fill=\"#000000\" fill-rule=\"evenodd\" fill-opacity=\"1\" /><path clip-path=\"url(#clip580)\" d=\"M2203.95 128.942 L2203.95 136.303 L2212.72 136.303 L2212.72 139.613 L2203.95 139.613 L2203.95 153.687 Q2203.95 156.858 2204.81 157.761 Q2205.69 158.664 2208.35 158.664 L2212.72 158.664 L2212.72 162.229 L2208.35 162.229 Q2203.42 162.229 2201.54 160.4 Q2199.67 158.548 2199.67 153.687 L2199.67 139.613 L2196.54 139.613 L2196.54 136.303 L2199.67 136.303 L2199.67 128.942 L2203.95 128.942 Z\" fill=\"#000000\" fill-rule=\"evenodd\" fill-opacity=\"1\" /><path clip-path=\"url(#clip580)\" d=\"M2217.65 126.257 L2221.36 126.257 Q2224.83 131.72 2226.54 136.951 Q2228.28 142.182 2228.28 147.344 Q2228.28 152.53 2226.54 157.784 Q2224.83 163.039 2221.36 168.479 L2217.65 168.479 Q2220.73 163.178 2222.24 157.946 Q2223.77 152.692 2223.77 147.344 Q2223.77 141.997 2222.24 136.789 Q2220.73 131.581 2217.65 126.257 Z\" fill=\"#000000\" fill-rule=\"evenodd\" fill-opacity=\"1\" /><polyline clip-path=\"url(#clip580)\" style=\"stroke:#e26f46; stroke-linecap:butt; stroke-linejoin:round; stroke-width:4; stroke-opacity:1; fill:none\" points=\"\n",
       "  1946.33,196.789 2095.7,196.789 \n",
       "  \"/>\n",
       "<path clip-path=\"url(#clip580)\" d=\"M2120.59 203.837 L2120.59 188.143 L2124.85 188.143 L2124.85 203.675 Q2124.85 207.356 2126.29 209.208 Q2127.72 211.036 2130.59 211.036 Q2134.04 211.036 2136.03 208.837 Q2138.05 206.638 2138.05 202.842 L2138.05 188.143 L2142.31 188.143 L2142.31 214.069 L2138.05 214.069 L2138.05 210.087 Q2136.5 212.448 2134.44 213.606 Q2132.4 214.74 2129.69 214.74 Q2125.22 214.74 2122.91 211.962 Q2120.59 209.184 2120.59 203.837 M2131.31 187.518 L2131.31 187.518 Z\" fill=\"#000000\" fill-rule=\"evenodd\" fill-opacity=\"1\" /><path clip-path=\"url(#clip580)\" d=\"M2155.71 210.133 L2172.03 210.133 L2172.03 214.069 L2150.09 214.069 L2150.09 210.133 Q2152.75 207.379 2157.33 202.749 Q2161.94 198.096 2163.12 196.754 Q2165.36 194.231 2166.24 192.495 Q2167.15 190.735 2167.15 189.046 Q2167.15 186.291 2165.2 184.555 Q2163.28 182.819 2160.18 182.819 Q2157.98 182.819 2155.53 183.583 Q2153.09 184.347 2150.32 185.897 L2150.32 181.175 Q2153.14 180.041 2155.59 179.462 Q2158.05 178.884 2160.09 178.884 Q2165.46 178.884 2168.65 181.569 Q2171.84 184.254 2171.84 188.745 Q2171.84 190.874 2171.03 192.796 Q2170.25 194.694 2168.14 197.286 Q2167.56 197.958 2164.46 201.175 Q2161.36 204.37 2155.71 210.133 Z\" fill=\"#000000\" fill-rule=\"evenodd\" fill-opacity=\"1\" /><path clip-path=\"url(#clip580)\" d=\"M2191.47 178.097 Q2188.37 183.421 2186.87 188.629 Q2185.36 193.837 2185.36 199.184 Q2185.36 204.532 2186.87 209.786 Q2188.4 215.018 2191.47 220.319 L2187.77 220.319 Q2184.3 214.879 2182.56 209.624 Q2180.85 204.37 2180.85 199.184 Q2180.85 194.022 2182.56 188.791 Q2184.27 183.56 2187.77 178.097 L2191.47 178.097 Z\" fill=\"#000000\" fill-rule=\"evenodd\" fill-opacity=\"1\" /><path clip-path=\"url(#clip580)\" d=\"M2203.95 180.782 L2203.95 188.143 L2212.72 188.143 L2212.72 191.453 L2203.95 191.453 L2203.95 205.527 Q2203.95 208.698 2204.81 209.601 Q2205.69 210.504 2208.35 210.504 L2212.72 210.504 L2212.72 214.069 L2208.35 214.069 Q2203.42 214.069 2201.54 212.24 Q2199.67 210.388 2199.67 205.527 L2199.67 191.453 L2196.54 191.453 L2196.54 188.143 L2199.67 188.143 L2199.67 180.782 L2203.95 180.782 Z\" fill=\"#000000\" fill-rule=\"evenodd\" fill-opacity=\"1\" /><path clip-path=\"url(#clip580)\" d=\"M2217.65 178.097 L2221.36 178.097 Q2224.83 183.56 2226.54 188.791 Q2228.28 194.022 2228.28 199.184 Q2228.28 204.37 2226.54 209.624 Q2224.83 214.879 2221.36 220.319 L2217.65 220.319 Q2220.73 215.018 2222.24 209.786 Q2223.77 204.532 2223.77 199.184 Q2223.77 193.837 2222.24 188.629 Q2220.73 183.421 2217.65 178.097 Z\" fill=\"#000000\" fill-rule=\"evenodd\" fill-opacity=\"1\" /></svg>\n"
      ]
     },
     "execution_count": 5,
     "metadata": {},
     "output_type": "execute_result"
    }
   ],
   "source": [
    "ode_sol = DifferentialEquations.solve(ode_prob, saveat=0.1)\n",
    "Plots.plot(ode_sol)"
   ]
  },
  {
   "cell_type": "markdown",
   "metadata": {},
   "source": [
    "# SciML - DiffEq within NeuralNet\n",
    "\n",
    "Goal: We want to use Differential Equations as part of our Lux model. In other words, now the ODE shall become a Lux layer."
   ]
  },
  {
   "cell_type": "markdown",
   "metadata": {},
   "source": [
    "For Lux we need to define a custom type for our new layer."
   ]
  },
  {
   "cell_type": "code",
   "execution_count": 6,
   "metadata": {},
   "outputs": [
    {
     "data": {
      "text/plain": [
       "ODELayer"
      ]
     },
     "execution_count": 6,
     "metadata": {},
     "output_type": "execute_result"
    }
   ],
   "source": [
    "struct ODELayer{ProblemType, AlgorithmType, KeywordArgumentsType} <: Lux.AbstractExplicitLayer\n",
    "    prob::ProblemType\n",
    "    alg::AlgorithmType\n",
    "    kwargs::KeywordArgumentsType\n",
    "end\n",
    "ODELayer(prob, alg=DifferentialEquations.Tsit5(); kwargs...) = ODELayer(prob, alg, kwargs)"
   ]
  },
  {
   "cell_type": "markdown",
   "metadata": {},
   "source": [
    "The key part is to define, how the model acts on data"
   ]
  },
  {
   "cell_type": "code",
   "execution_count": 22,
   "metadata": {},
   "outputs": [
    {
     "data": {
      "text/plain": [
       "ODELayer"
      ]
     },
     "execution_count": 22,
     "metadata": {},
     "output_type": "execute_result"
    }
   ],
   "source": [
    "\"\"\"\n",
    "a custom lux model needs to be callable with exactly three arguments:\n",
    "1. the input\n",
    "2. the parameters (often abbriviated `ps`)\n",
    "3. the states (often abbriviated `st`)\n",
    "\"\"\" \n",
    "function (l::ODELayer)(input, parameters, states)\n",
    "    # use new parameters\n",
    "    pred = DifferentialEquations.solve(l.prob, l.alg; l.kwargs..., p=parameters)\n",
    "    pred, states\n",
    "end"
   ]
  },
  {
   "cell_type": "markdown",
   "metadata": {},
   "source": [
    "The last todo is to specify initial parameters and states via a predefined Lux interface"
   ]
  },
  {
   "cell_type": "code",
   "execution_count": 14,
   "metadata": {},
   "outputs": [],
   "source": [
    "function Lux.initialparameters(rng::Random.AbstractRNG, l::ODELayer)\n",
    "    Random.rand!(rng, similar(l.prob.p))\n",
    "end\n",
    "Lux.initialstates(::Random.AbstractRNG, ::ODELayer) = NamedTuple()"
   ]
  },
  {
   "cell_type": "markdown",
   "metadata": {},
   "source": [
    "Our Lux model is ready now"
   ]
  },
  {
   "cell_type": "code",
   "execution_count": 15,
   "metadata": {},
   "outputs": [
    {
     "data": {
      "text/plain": [
       "ODELayer()          \u001b[90m# 4 parameters\u001b[39m"
      ]
     },
     "execution_count": 15,
     "metadata": {},
     "output_type": "execute_result"
    }
   ],
   "source": [
    "model = ODELayer(ode_prob, saveat=0.1)"
   ]
  },
  {
   "cell_type": "code",
   "execution_count": 23,
   "metadata": {},
   "outputs": [
    {
     "data": {
      "text/plain": [
       "([0.9223171788742697, 0.040441694559945285, 0.5733819926662398, 0.9813641372820436], NamedTuple())"
      ]
     },
     "execution_count": 23,
     "metadata": {},
     "output_type": "execute_result"
    }
   ],
   "source": [
    "ps, st = Lux.setup(rng, model)"
   ]
  },
  {
   "cell_type": "code",
   "execution_count": 25,
   "metadata": {},
   "outputs": [
    {
     "data": {
      "text/plain": [
       "2×101 Matrix{Float64}:\n",
       " 1.0  1.09209  1.19242  1.30161  1.42032  …  0.0503101  0.0546317  0.059354\n",
       " 1.0  1.04629  1.10511  1.17928  1.2726      2.49458    2.36773    2.24831"
      ]
     },
     "execution_count": 25,
     "metadata": {},
     "output_type": "execute_result"
    }
   ],
   "source": [
    "# we pass a dummy input ()\n",
    "pred, st = Lux.apply(model, (), ps, st)\n",
    "Array(pred)"
   ]
  },
  {
   "cell_type": "markdown",
   "metadata": {},
   "source": [
    "Let's define the loss function"
   ]
  },
  {
   "cell_type": "code",
   "execution_count": 18,
   "metadata": {},
   "outputs": [
    {
     "data": {
      "text/plain": [
       "2×101 Matrix{Float64}:\n",
       " 1.0  1.06108   1.14403   1.24917   1.37764   …  0.956979  0.983561  1.03376\n",
       " 1.0  0.821084  0.679053  0.566893  0.478813     1.35559   1.10629   0.90637"
      ]
     },
     "execution_count": 18,
     "metadata": {},
     "output_type": "execute_result"
    }
   ],
   "source": [
    "data = Array(ode_sol)\n"
   ]
  },
  {
   "cell_type": "code",
   "execution_count": 26,
   "metadata": {},
   "outputs": [
    {
     "data": {
      "text/plain": [
       "188591.24402511283"
      ]
     },
     "execution_count": 26,
     "metadata": {},
     "output_type": "execute_result"
    }
   ],
   "source": [
    "sum(abs2, Array(pred) - data)"
   ]
  },
  {
   "cell_type": "code",
   "execution_count": 28,
   "metadata": {},
   "outputs": [
    {
     "data": {
      "text/plain": [
       "loss_function"
      ]
     },
     "execution_count": 28,
     "metadata": {},
     "output_type": "execute_result"
    }
   ],
   "source": [
    "\"\"\"\n",
    "The function must take 4 inputs – model, parameters, states and data.\n",
    "The function must return 3 values – loss, updated_state, and any computed statistics.\n",
    "\n",
    "See https://lux.csail.mit.edu/dev/api/contrib/#Lux.Training.compute_gradients\n",
    "\"\"\"\n",
    "function loss_function(model, ps, st, data)\n",
    "    pred, st = Lux.apply(model, (), ps, st)\n",
    "    loss = sum(abs2, Array(pred) - data)  # compare them to being constant\n",
    "    statistics = ()\n",
    "    return loss, st, statistics\n",
    "end"
   ]
  },
  {
   "cell_type": "code",
   "execution_count": 29,
   "metadata": {},
   "outputs": [
    {
     "data": {
      "text/plain": [
       "(188591.24402511283, NamedTuple(), ())"
      ]
     },
     "execution_count": 29,
     "metadata": {},
     "output_type": "execute_result"
    }
   ],
   "source": [
    "loss_function(model, ps, st, data)"
   ]
  },
  {
   "cell_type": "markdown",
   "metadata": {},
   "source": [
    "Let's train"
   ]
  },
  {
   "cell_type": "code",
   "execution_count": 48,
   "metadata": {},
   "outputs": [
    {
     "data": {
      "text/latex": [
       "\\begin{verbatim}\n",
       "TrainState\n",
       "\\end{verbatim}\n",
       "Training State containing:\n",
       "\n",
       "\\begin{itemize}\n",
       "\\item \\texttt{model}: \\texttt{Lux}` model.\n",
       "\n",
       "\n",
       "\\item \\texttt{parameters}: Trainable Variables of the \\texttt{model}.\n",
       "\n",
       "\n",
       "\\item \\texttt{states}: Non-trainable Variables of the \\texttt{model}.\n",
       "\n",
       "\n",
       "\\item \\texttt{optimizer\\_state}: Optimizer State.\n",
       "\n",
       "\n",
       "\\item \\texttt{step}: Number of updates of the parameters made.\n",
       "\n",
       "\\end{itemize}\n",
       "\\begin{verbatim}\n",
       "TrainState(rng::Random.AbstractRNG, model::Lux.AbstractExplicitLayer,\n",
       "           optimizer::Optimisers.AbstractRule; transform_variables::Function=Lux.cpu)\n",
       "\\end{verbatim}\n",
       "Constructor for \\texttt{TrainState}.\n",
       "\n",
       "\\subsection{Arguments}\n",
       "\\begin{itemize}\n",
       "\\item \\texttt{rng}: Random Number Generator.\n",
       "\n",
       "\n",
       "\\item \\texttt{model}: \\texttt{Lux} model.\n",
       "\n",
       "\n",
       "\\item \\texttt{optimizer}: Optimizer from \\texttt{Optimisers.jl}.\n",
       "\n",
       "\n",
       "\\item \\texttt{transform\\_variables}: Function to transform the variables of the model. Typically used to transfer variables to \\texttt{gpu}/\\texttt{cpu}.\n",
       "\n",
       "\\end{itemize}\n",
       "\\subsection{Returns}\n",
       "\\texttt{TrainState} object.\n",
       "\n"
      ],
      "text/markdown": [
       "```\n",
       "TrainState\n",
       "```\n",
       "\n",
       "Training State containing:\n",
       "\n",
       "  * `model`: `Lux`` model.\n",
       "  * `parameters`: Trainable Variables of the `model`.\n",
       "  * `states`: Non-trainable Variables of the `model`.\n",
       "  * `optimizer_state`: Optimizer State.\n",
       "  * `step`: Number of updates of the parameters made.\n",
       "\n",
       "```\n",
       "TrainState(rng::Random.AbstractRNG, model::Lux.AbstractExplicitLayer,\n",
       "           optimizer::Optimisers.AbstractRule; transform_variables::Function=Lux.cpu)\n",
       "```\n",
       "\n",
       "Constructor for `TrainState`.\n",
       "\n",
       "## Arguments\n",
       "\n",
       "  * `rng`: Random Number Generator.\n",
       "  * `model`: `Lux` model.\n",
       "  * `optimizer`: Optimizer from `Optimisers.jl`.\n",
       "  * `transform_variables`: Function to transform the variables of the model. Typically used to transfer variables to `gpu`/`cpu`.\n",
       "\n",
       "## Returns\n",
       "\n",
       "`TrainState` object.\n"
      ],
      "text/plain": [
       "\u001b[36m  TrainState\u001b[39m\n",
       "\n",
       "  Training State containing:\n",
       "\n",
       "    •  \u001b[36mmodel\u001b[39m: \u001b[36mLux\u001b[39m` model.\n",
       "\n",
       "    •  \u001b[36mparameters\u001b[39m: Trainable Variables of the \u001b[36mmodel\u001b[39m.\n",
       "\n",
       "    •  \u001b[36mstates\u001b[39m: Non-trainable Variables of the \u001b[36mmodel\u001b[39m.\n",
       "\n",
       "    •  \u001b[36moptimizer_state\u001b[39m: Optimizer State.\n",
       "\n",
       "    •  \u001b[36mstep\u001b[39m: Number of updates of the parameters made.\n",
       "\n",
       "\u001b[36m  TrainState(rng::Random.AbstractRNG, model::Lux.AbstractExplicitLayer,\u001b[39m\n",
       "\u001b[36m             optimizer::Optimisers.AbstractRule; transform_variables::Function=Lux.cpu)\u001b[39m\n",
       "\n",
       "  Constructor for \u001b[36mTrainState\u001b[39m.\n",
       "\n",
       "\u001b[1m  Arguments\u001b[22m\n",
       "\u001b[1m  ===========\u001b[22m\n",
       "\n",
       "    •  \u001b[36mrng\u001b[39m: Random Number Generator.\n",
       "\n",
       "    •  \u001b[36mmodel\u001b[39m: \u001b[36mLux\u001b[39m model.\n",
       "\n",
       "    •  \u001b[36moptimizer\u001b[39m: Optimizer from \u001b[36mOptimisers.jl\u001b[39m.\n",
       "\n",
       "    •  \u001b[36mtransform_variables\u001b[39m: Function to transform the variables of the\n",
       "       model. Typically used to transfer variables to \u001b[36mgpu\u001b[39m/\u001b[36mcpu\u001b[39m.\n",
       "\n",
       "\u001b[1m  Returns\u001b[22m\n",
       "\u001b[1m  =========\u001b[22m\n",
       "\n",
       "  \u001b[36mTrainState\u001b[39m object."
      ]
     },
     "execution_count": 48,
     "metadata": {},
     "output_type": "execute_result"
    }
   ],
   "source": [
    "@doc Lux.Training.TrainState"
   ]
  },
  {
   "cell_type": "code",
   "execution_count": 50,
   "metadata": {},
   "outputs": [
    {
     "name": "stdout",
     "output_type": "stream",
     "text": [
      "module Training\n",
      "\n",
      "# NOTE(@avik-pal): In the long term this will be pulled out into its own package but\n",
      "# currently all the dependencies are met by Lux itself.\n",
      "import ..Lux\n",
      "import Optimisers, Random, Setfield, Zygote\n",
      "\n",
      "\"\"\"\n",
      "    TrainState\n",
      "\n",
      "Training State containing:\n",
      "\n",
      "  - `model`: `Lux`` model.\n",
      "  - `parameters`: Trainable Variables of the `model`.\n",
      "  - `states`: Non-trainable Variables of the `model`.\n",
      "  - `optimizer_state`: Optimizer State.\n",
      "  - `step`: Number of updates of the parameters made.\n",
      "\"\"\"\n",
      "struct TrainState{Ps, St, Ost, M}\n",
      "    model::M\n",
      "    parameters::Ps\n",
      "    states::St\n",
      "    optimizer_state::Ost\n",
      "    step::Int\n",
      "end\n",
      "\n",
      "\"\"\"\n",
      "    TrainState(rng::Random.AbstractRNG, model::Lux.AbstractExplicitLayer,\n",
      "               optimizer::Optimisers.AbstractRule; transform_variables::Function=Lux.cpu)\n",
      "\n",
      "Constructor for `TrainState`.\n",
      "\n",
      "## Arguments\n",
      "\n",
      "  - `rng`: Random Number Generator.\n",
      "  - `model`: `Lux` model.\n",
      "  - `optimizer`: Optimizer from `Optimisers.jl`.\n",
      "  - `transform_variables`: Function to transform the variables of the model. Typically used\n",
      "    to transfer variables to `gpu`/`cpu`.\n",
      "\n",
      "## Returns\n",
      "\n",
      "`TrainState` object.\n",
      "\"\"\"\n",
      "function TrainState(rng::Random.AbstractRNG, model::Lux.AbstractExplicitLayer,\n",
      "                    optimizer::Optimisers.AbstractRule;\n",
      "                    transform_variables::Function=Lux.cpu)\n",
      "    ps, st = Lux.setup(rng, model) .|> transform_variables\n",
      "    st_opt = Optimisers.setup(optimizer, ps)\n",
      "    return TrainState(model, ps, st, st_opt, 0)\n",
      "end\n",
      "\n",
      "\"\"\"\n",
      "    apply_gradients(ts::TrainState, grads)\n",
      "\n",
      "Update the parameters stored in `ts` using the gradients `grads`.\n",
      "\n",
      "## Arguments\n",
      "\n",
      "  - `ts`: `TrainState` object.\n",
      "  - `grads`: Gradients of the loss function wrt `ts.params`.\n",
      "\n",
      "## Returns\n",
      "\n",
      "Updated `TrainState` object.\n",
      "\"\"\"\n",
      "function apply_gradients(ts::TrainState, grads)\n",
      "    optimizer_state, parameters = Optimisers.update(ts.optimizer_state, ts.parameters,\n",
      "                                                    grads)\n",
      "    return TrainState(ts.model, parameters, ts.states, optimizer_state, ts.step + 1)\n",
      "end\n",
      "\n",
      "# VJPs\n",
      "\"\"\"\n",
      "    AbstractVJP\n",
      "\n",
      "Base Type for all Vector-Jacobian Product Backends.\n",
      "\"\"\"\n",
      "abstract type AbstractVJP end\n",
      "\n",
      "\"\"\"\n",
      "    backend(::AbstractVJP)\n",
      "\n",
      "Package used to compute the VJP.\n",
      "\"\"\"\n",
      "function backend(::T) where {T <: AbstractVJP}\n",
      "    throw(ArgumentError(\"`backend` function must be defined for type $T\"))\n",
      "end\n",
      "\n",
      "\"\"\"\n",
      "    compute_gradients(vjp::AbstractVJP, objective_function::Function, data, ts::TrainState)\n",
      "\n",
      "Compute the gradients of the objective function wrt parameters stored in `ts`.\n",
      "\n",
      "## Arguments\n",
      "\n",
      "  - `vjp`: Backend used to compute the gradients. See [`AbstractVJP`](@ref).\n",
      "  - `objective_function`: Objective function. The function must take 4 inputs -- model,\n",
      "    parameters, states and data. The function must return 3 values -- loss, updated_state,\n",
      "    and any computed statistics.\n",
      "  - `data`: Data used to compute the gradients.\n",
      "  - `ts`: Current Training State. See [`TrainState`](@ref).\n",
      "\n",
      "## Return\n",
      "\n",
      "A 4-Tuple containing:\n",
      "\n",
      "  - `grads`: Computed Gradients.\n",
      "  - `loss`: Loss from the objective function.\n",
      "  - `stats`: Any computed statistics from the objective function.\n",
      "  - `ts`: Updated Training State.\n",
      "\"\"\"\n",
      "function compute_gradients(t::T, objective_function::Function, data,\n",
      "                           ts::TrainState) where {T <: AbstractVJP}\n",
      "    throw(ArgumentError(\"Support for AD backend $(backend(t)) has not been implemented \" *\n",
      "                        \"yet!!!\"))\n",
      "end\n",
      "\n",
      "\"\"\"\n",
      "    ZygoteVJP <: AbstractVJP\n",
      "\n",
      "Vector-Jacobian Product using Zygote.\n",
      "\"\"\"\n",
      "struct ZygoteVJP <: AbstractVJP end\n",
      "\n",
      "backend(::ZygoteVJP) = :Zygote\n",
      "\n",
      "function compute_gradients(::ZygoteVJP, objective_function::Function, data, ts::TrainState)\n",
      "    (loss, st, stats), back = Zygote.pullback(ps -> objective_function(ts.model, ps,\n",
      "                                                                       ts.states, data),\n",
      "                                              ts.parameters)\n",
      "    grads = back((one(loss), nothing, nothing))[1]\n",
      "    Setfield.@set! ts.states = st\n",
      "    return grads, loss, stats, ts\n",
      "end\n",
      "\n",
      "\"\"\"\n",
      "    EnzymeVJP <: AbstractVJP\n",
      "\n",
      "Vector-Jacobian Product using Enzyme.\n",
      "\"\"\"\n",
      "struct EnzymeVJP <: AbstractVJP end\n",
      "\n",
      "backend(::EnzymeVJP) = :Enzyme\n",
      "\n",
      "\"\"\"\n",
      "    YotaVJP <: AbstractVJP\n",
      "\n",
      "Vector-Jacobian Product using Yota.\n",
      "\"\"\"\n",
      "struct YotaVJP <: AbstractVJP end\n",
      "\n",
      "backend(::YotaVJP) = :Yota\n",
      "\n",
      "end\n"
     ]
    },
    {
     "name": "stderr",
     "output_type": "stream",
     "text": [
      "stty: Standardeingabe: Inappropriate ioctl for device\n"
     ]
    }
   ],
   "source": [
    "@less Lux.Training.TrainState(rng, model, opt)"
   ]
  },
  {
   "cell_type": "code",
   "execution_count": 35,
   "metadata": {},
   "outputs": [
    {
     "data": {
      "image/svg+xml": [
       "<?xml version=\"1.0\" encoding=\"utf-8\"?>\n",
       "<svg xmlns=\"http://www.w3.org/2000/svg\" xmlns:xlink=\"http://www.w3.org/1999/xlink\" width=\"600\" height=\"400\" viewBox=\"0 0 2400 1600\">\n",
       "<defs>\n",
       "  <clipPath id=\"clip520\">\n",
       "    <rect x=\"0\" y=\"0\" width=\"2400\" height=\"1600\"/>\n",
       "  </clipPath>\n",
       "</defs>\n",
       "<path clip-path=\"url(#clip520)\" d=\"\n",
       "M0 1600 L2400 1600 L2400 0 L0 0  Z\n",
       "  \" fill=\"#ffffff\" fill-rule=\"evenodd\" fill-opacity=\"1\"/>\n",
       "<defs>\n",
       "  <clipPath id=\"clip521\">\n",
       "    <rect x=\"480\" y=\"0\" width=\"1681\" height=\"1600\"/>\n",
       "  </clipPath>\n",
       "</defs>\n",
       "<path clip-path=\"url(#clip520)\" d=\"\n",
       "M282.612 1423.18 L2352.76 1423.18 L2352.76 47.2441 L282.612 47.2441  Z\n",
       "  \" fill=\"#ffffff\" fill-rule=\"evenodd\" fill-opacity=\"1\"/>\n",
       "<defs>\n",
       "  <clipPath id=\"clip522\">\n",
       "    <rect x=\"282\" y=\"47\" width=\"2071\" height=\"1377\"/>\n",
       "  </clipPath>\n",
       "</defs>\n",
       "<polyline clip-path=\"url(#clip522)\" style=\"stroke:#000000; stroke-linecap:butt; stroke-linejoin:round; stroke-width:2; stroke-opacity:0.1; fill:none\" points=\"\n",
       "  331.387,1423.18 331.387,47.2441 \n",
       "  \"/>\n",
       "<polyline clip-path=\"url(#clip522)\" style=\"stroke:#000000; stroke-linecap:butt; stroke-linejoin:round; stroke-width:2; stroke-opacity:0.1; fill:none\" points=\"\n",
       "  822.082,1423.18 822.082,47.2441 \n",
       "  \"/>\n",
       "<polyline clip-path=\"url(#clip522)\" style=\"stroke:#000000; stroke-linecap:butt; stroke-linejoin:round; stroke-width:2; stroke-opacity:0.1; fill:none\" points=\"\n",
       "  1312.78,1423.18 1312.78,47.2441 \n",
       "  \"/>\n",
       "<polyline clip-path=\"url(#clip522)\" style=\"stroke:#000000; stroke-linecap:butt; stroke-linejoin:round; stroke-width:2; stroke-opacity:0.1; fill:none\" points=\"\n",
       "  1803.47,1423.18 1803.47,47.2441 \n",
       "  \"/>\n",
       "<polyline clip-path=\"url(#clip522)\" style=\"stroke:#000000; stroke-linecap:butt; stroke-linejoin:round; stroke-width:2; stroke-opacity:0.1; fill:none\" points=\"\n",
       "  2294.17,1423.18 2294.17,47.2441 \n",
       "  \"/>\n",
       "<polyline clip-path=\"url(#clip520)\" style=\"stroke:#000000; stroke-linecap:butt; stroke-linejoin:round; stroke-width:4; stroke-opacity:1; fill:none\" points=\"\n",
       "  282.612,1423.18 2352.76,1423.18 \n",
       "  \"/>\n",
       "<polyline clip-path=\"url(#clip520)\" style=\"stroke:#000000; stroke-linecap:butt; stroke-linejoin:round; stroke-width:4; stroke-opacity:1; fill:none\" points=\"\n",
       "  331.387,1423.18 331.387,1404.28 \n",
       "  \"/>\n",
       "<polyline clip-path=\"url(#clip520)\" style=\"stroke:#000000; stroke-linecap:butt; stroke-linejoin:round; stroke-width:4; stroke-opacity:1; fill:none\" points=\"\n",
       "  822.082,1423.18 822.082,1404.28 \n",
       "  \"/>\n",
       "<polyline clip-path=\"url(#clip520)\" style=\"stroke:#000000; stroke-linecap:butt; stroke-linejoin:round; stroke-width:4; stroke-opacity:1; fill:none\" points=\"\n",
       "  1312.78,1423.18 1312.78,1404.28 \n",
       "  \"/>\n",
       "<polyline clip-path=\"url(#clip520)\" style=\"stroke:#000000; stroke-linecap:butt; stroke-linejoin:round; stroke-width:4; stroke-opacity:1; fill:none\" points=\"\n",
       "  1803.47,1423.18 1803.47,1404.28 \n",
       "  \"/>\n",
       "<polyline clip-path=\"url(#clip520)\" style=\"stroke:#000000; stroke-linecap:butt; stroke-linejoin:round; stroke-width:4; stroke-opacity:1; fill:none\" points=\"\n",
       "  2294.17,1423.18 2294.17,1404.28 \n",
       "  \"/>\n",
       "<path clip-path=\"url(#clip520)\" d=\"M331.387 1454.1 Q327.776 1454.1 325.947 1457.66 Q324.142 1461.2 324.142 1468.33 Q324.142 1475.44 325.947 1479.01 Q327.776 1482.55 331.387 1482.55 Q335.021 1482.55 336.827 1479.01 Q338.655 1475.44 338.655 1468.33 Q338.655 1461.2 336.827 1457.66 Q335.021 1454.1 331.387 1454.1 M331.387 1450.39 Q337.197 1450.39 340.253 1455 Q343.331 1459.58 343.331 1468.33 Q343.331 1477.06 340.253 1481.67 Q337.197 1486.25 331.387 1486.25 Q325.577 1486.25 322.498 1481.67 Q319.443 1477.06 319.443 1468.33 Q319.443 1459.58 322.498 1455 Q325.577 1450.39 331.387 1450.39 Z\" fill=\"#000000\" fill-rule=\"evenodd\" fill-opacity=\"1\" /><path clip-path=\"url(#clip520)\" d=\"M770.693 1481.64 L787.013 1481.64 L787.013 1485.58 L765.068 1485.58 L765.068 1481.64 Q767.73 1478.89 772.314 1474.26 Q776.92 1469.61 778.101 1468.27 Q780.346 1465.74 781.226 1464.01 Q782.128 1462.25 782.128 1460.56 Q782.128 1457.8 780.184 1456.07 Q778.263 1454.33 775.161 1454.33 Q772.962 1454.33 770.508 1455.09 Q768.078 1455.86 765.3 1457.41 L765.3 1452.69 Q768.124 1451.55 770.578 1450.97 Q773.031 1450.39 775.068 1450.39 Q780.439 1450.39 783.633 1453.08 Q786.828 1455.77 786.828 1460.26 Q786.828 1462.39 786.017 1464.31 Q785.23 1466.2 783.124 1468.8 Q782.545 1469.47 779.443 1472.69 Q776.341 1475.88 770.693 1481.64 Z\" fill=\"#000000\" fill-rule=\"evenodd\" fill-opacity=\"1\" /><path clip-path=\"url(#clip520)\" d=\"M796.874 1451.02 L815.23 1451.02 L815.23 1454.96 L801.156 1454.96 L801.156 1463.43 Q802.175 1463.08 803.193 1462.92 Q804.212 1462.73 805.23 1462.73 Q811.017 1462.73 814.397 1465.9 Q817.776 1469.08 817.776 1474.49 Q817.776 1480.07 814.304 1483.17 Q810.832 1486.25 804.513 1486.25 Q802.337 1486.25 800.068 1485.88 Q797.823 1485.51 795.415 1484.77 L795.415 1480.07 Q797.499 1481.2 799.721 1481.76 Q801.943 1482.32 804.42 1482.32 Q808.425 1482.32 810.763 1480.21 Q813.101 1478.1 813.101 1474.49 Q813.101 1470.88 810.763 1468.77 Q808.425 1466.67 804.42 1466.67 Q802.545 1466.67 800.67 1467.08 Q798.818 1467.5 796.874 1468.38 L796.874 1451.02 Z\" fill=\"#000000\" fill-rule=\"evenodd\" fill-opacity=\"1\" /><path clip-path=\"url(#clip520)\" d=\"M836.989 1454.1 Q833.378 1454.1 831.549 1457.66 Q829.744 1461.2 829.744 1468.33 Q829.744 1475.44 831.549 1479.01 Q833.378 1482.55 836.989 1482.55 Q840.624 1482.55 842.429 1479.01 Q844.258 1475.44 844.258 1468.33 Q844.258 1461.2 842.429 1457.66 Q840.624 1454.1 836.989 1454.1 M836.989 1450.39 Q842.799 1450.39 845.855 1455 Q848.934 1459.58 848.934 1468.33 Q848.934 1477.06 845.855 1481.67 Q842.799 1486.25 836.989 1486.25 Q831.179 1486.25 828.1 1481.67 Q825.045 1477.06 825.045 1468.33 Q825.045 1459.58 828.1 1455 Q831.179 1450.39 836.989 1450.39 Z\" fill=\"#000000\" fill-rule=\"evenodd\" fill-opacity=\"1\" /><path clip-path=\"url(#clip520)\" d=\"M867.151 1454.1 Q863.54 1454.1 861.711 1457.66 Q859.906 1461.2 859.906 1468.33 Q859.906 1475.44 861.711 1479.01 Q863.54 1482.55 867.151 1482.55 Q870.785 1482.55 872.591 1479.01 Q874.42 1475.44 874.42 1468.33 Q874.42 1461.2 872.591 1457.66 Q870.785 1454.1 867.151 1454.1 M867.151 1450.39 Q872.961 1450.39 876.017 1455 Q879.096 1459.58 879.096 1468.33 Q879.096 1477.06 876.017 1481.67 Q872.961 1486.25 867.151 1486.25 Q861.341 1486.25 858.262 1481.67 Q855.207 1477.06 855.207 1468.33 Q855.207 1459.58 858.262 1455 Q861.341 1450.39 867.151 1450.39 Z\" fill=\"#000000\" fill-rule=\"evenodd\" fill-opacity=\"1\" /><path clip-path=\"url(#clip520)\" d=\"M1257.31 1451.02 L1275.67 1451.02 L1275.67 1454.96 L1261.6 1454.96 L1261.6 1463.43 Q1262.62 1463.08 1263.63 1462.92 Q1264.65 1462.73 1265.67 1462.73 Q1271.46 1462.73 1274.84 1465.9 Q1278.22 1469.08 1278.22 1474.49 Q1278.22 1480.07 1274.74 1483.17 Q1271.27 1486.25 1264.95 1486.25 Q1262.78 1486.25 1260.51 1485.88 Q1258.26 1485.51 1255.86 1484.77 L1255.86 1480.07 Q1257.94 1481.2 1260.16 1481.76 Q1262.38 1482.32 1264.86 1482.32 Q1268.87 1482.32 1271.2 1480.21 Q1273.54 1478.1 1273.54 1474.49 Q1273.54 1470.88 1271.2 1468.77 Q1268.87 1466.67 1264.86 1466.67 Q1262.99 1466.67 1261.11 1467.08 Q1259.26 1467.5 1257.31 1468.38 L1257.31 1451.02 Z\" fill=\"#000000\" fill-rule=\"evenodd\" fill-opacity=\"1\" /><path clip-path=\"url(#clip520)\" d=\"M1297.43 1454.1 Q1293.82 1454.1 1291.99 1457.66 Q1290.18 1461.2 1290.18 1468.33 Q1290.18 1475.44 1291.99 1479.01 Q1293.82 1482.55 1297.43 1482.55 Q1301.06 1482.55 1302.87 1479.01 Q1304.7 1475.44 1304.7 1468.33 Q1304.7 1461.2 1302.87 1457.66 Q1301.06 1454.1 1297.43 1454.1 M1297.43 1450.39 Q1303.24 1450.39 1306.3 1455 Q1309.37 1459.58 1309.37 1468.33 Q1309.37 1477.06 1306.3 1481.67 Q1303.24 1486.25 1297.43 1486.25 Q1291.62 1486.25 1288.54 1481.67 Q1285.49 1477.06 1285.49 1468.33 Q1285.49 1459.58 1288.54 1455 Q1291.62 1450.39 1297.43 1450.39 Z\" fill=\"#000000\" fill-rule=\"evenodd\" fill-opacity=\"1\" /><path clip-path=\"url(#clip520)\" d=\"M1327.59 1454.1 Q1323.98 1454.1 1322.15 1457.66 Q1320.35 1461.2 1320.35 1468.33 Q1320.35 1475.44 1322.15 1479.01 Q1323.98 1482.55 1327.59 1482.55 Q1331.23 1482.55 1333.03 1479.01 Q1334.86 1475.44 1334.86 1468.33 Q1334.86 1461.2 1333.03 1457.66 Q1331.23 1454.1 1327.59 1454.1 M1327.59 1450.39 Q1333.4 1450.39 1336.46 1455 Q1339.54 1459.58 1339.54 1468.33 Q1339.54 1477.06 1336.46 1481.67 Q1333.4 1486.25 1327.59 1486.25 Q1321.78 1486.25 1318.7 1481.67 Q1315.65 1477.06 1315.65 1468.33 Q1315.65 1459.58 1318.7 1455 Q1321.78 1450.39 1327.59 1450.39 Z\" fill=\"#000000\" fill-rule=\"evenodd\" fill-opacity=\"1\" /><path clip-path=\"url(#clip520)\" d=\"M1357.75 1454.1 Q1354.14 1454.1 1352.31 1457.66 Q1350.51 1461.2 1350.51 1468.33 Q1350.51 1475.44 1352.31 1479.01 Q1354.14 1482.55 1357.75 1482.55 Q1361.39 1482.55 1363.19 1479.01 Q1365.02 1475.44 1365.02 1468.33 Q1365.02 1461.2 1363.19 1457.66 Q1361.39 1454.1 1357.75 1454.1 M1357.75 1450.39 Q1363.56 1450.39 1366.62 1455 Q1369.7 1459.58 1369.7 1468.33 Q1369.7 1477.06 1366.62 1481.67 Q1363.56 1486.25 1357.75 1486.25 Q1351.94 1486.25 1348.86 1481.67 Q1345.81 1477.06 1345.81 1468.33 Q1345.81 1459.58 1348.86 1455 Q1351.94 1450.39 1357.75 1450.39 Z\" fill=\"#000000\" fill-rule=\"evenodd\" fill-opacity=\"1\" /><path clip-path=\"url(#clip520)\" d=\"M1746.67 1451.02 L1768.89 1451.02 L1768.89 1453.01 L1756.34 1485.58 L1751.46 1485.58 L1763.26 1454.96 L1746.67 1454.96 L1746.67 1451.02 Z\" fill=\"#000000\" fill-rule=\"evenodd\" fill-opacity=\"1\" /><path clip-path=\"url(#clip520)\" d=\"M1778.06 1451.02 L1796.41 1451.02 L1796.41 1454.96 L1782.34 1454.96 L1782.34 1463.43 Q1783.36 1463.08 1784.37 1462.92 Q1785.39 1462.73 1786.41 1462.73 Q1792.2 1462.73 1795.58 1465.9 Q1798.96 1469.08 1798.96 1474.49 Q1798.96 1480.07 1795.49 1483.17 Q1792.01 1486.25 1785.69 1486.25 Q1783.52 1486.25 1781.25 1485.88 Q1779 1485.51 1776.6 1484.77 L1776.6 1480.07 Q1778.68 1481.2 1780.9 1481.76 Q1783.12 1482.32 1785.6 1482.32 Q1789.61 1482.32 1791.94 1480.21 Q1794.28 1478.1 1794.28 1474.49 Q1794.28 1470.88 1791.94 1468.77 Q1789.61 1466.67 1785.6 1466.67 Q1783.73 1466.67 1781.85 1467.08 Q1780 1467.5 1778.06 1468.38 L1778.06 1451.02 Z\" fill=\"#000000\" fill-rule=\"evenodd\" fill-opacity=\"1\" /><path clip-path=\"url(#clip520)\" d=\"M1818.17 1454.1 Q1814.56 1454.1 1812.73 1457.66 Q1810.93 1461.2 1810.93 1468.33 Q1810.93 1475.44 1812.73 1479.01 Q1814.56 1482.55 1818.17 1482.55 Q1821.81 1482.55 1823.61 1479.01 Q1825.44 1475.44 1825.44 1468.33 Q1825.44 1461.2 1823.61 1457.66 Q1821.81 1454.1 1818.17 1454.1 M1818.17 1450.39 Q1823.98 1450.39 1827.04 1455 Q1830.12 1459.58 1830.12 1468.33 Q1830.12 1477.06 1827.04 1481.67 Q1823.98 1486.25 1818.17 1486.25 Q1812.36 1486.25 1809.28 1481.67 Q1806.23 1477.06 1806.23 1468.33 Q1806.23 1459.58 1809.28 1455 Q1812.36 1450.39 1818.17 1450.39 Z\" fill=\"#000000\" fill-rule=\"evenodd\" fill-opacity=\"1\" /><path clip-path=\"url(#clip520)\" d=\"M1848.33 1454.1 Q1844.72 1454.1 1842.89 1457.66 Q1841.09 1461.2 1841.09 1468.33 Q1841.09 1475.44 1842.89 1479.01 Q1844.72 1482.55 1848.33 1482.55 Q1851.97 1482.55 1853.77 1479.01 Q1855.6 1475.44 1855.6 1468.33 Q1855.6 1461.2 1853.77 1457.66 Q1851.97 1454.1 1848.33 1454.1 M1848.33 1450.39 Q1854.14 1450.39 1857.2 1455 Q1860.28 1459.58 1860.28 1468.33 Q1860.28 1477.06 1857.2 1481.67 Q1854.14 1486.25 1848.33 1486.25 Q1842.52 1486.25 1839.44 1481.67 Q1836.39 1477.06 1836.39 1468.33 Q1836.39 1459.58 1839.44 1455 Q1842.52 1450.39 1848.33 1450.39 Z\" fill=\"#000000\" fill-rule=\"evenodd\" fill-opacity=\"1\" /><path clip-path=\"url(#clip520)\" d=\"M2223.61 1481.64 L2231.25 1481.64 L2231.25 1455.28 L2222.94 1456.95 L2222.94 1452.69 L2231.2 1451.02 L2235.88 1451.02 L2235.88 1481.64 L2243.52 1481.64 L2243.52 1485.58 L2223.61 1485.58 L2223.61 1481.64 Z\" fill=\"#000000\" fill-rule=\"evenodd\" fill-opacity=\"1\" /><path clip-path=\"url(#clip520)\" d=\"M2262.96 1454.1 Q2259.35 1454.1 2257.52 1457.66 Q2255.72 1461.2 2255.72 1468.33 Q2255.72 1475.44 2257.52 1479.01 Q2259.35 1482.55 2262.96 1482.55 Q2266.6 1482.55 2268.4 1479.01 Q2270.23 1475.44 2270.23 1468.33 Q2270.23 1461.2 2268.4 1457.66 Q2266.6 1454.1 2262.96 1454.1 M2262.96 1450.39 Q2268.77 1450.39 2271.83 1455 Q2274.91 1459.58 2274.91 1468.33 Q2274.91 1477.06 2271.83 1481.67 Q2268.77 1486.25 2262.96 1486.25 Q2257.15 1486.25 2254.07 1481.67 Q2251.02 1477.06 2251.02 1468.33 Q2251.02 1459.58 2254.07 1455 Q2257.15 1450.39 2262.96 1450.39 Z\" fill=\"#000000\" fill-rule=\"evenodd\" fill-opacity=\"1\" /><path clip-path=\"url(#clip520)\" d=\"M2293.13 1454.1 Q2289.51 1454.1 2287.69 1457.66 Q2285.88 1461.2 2285.88 1468.33 Q2285.88 1475.44 2287.69 1479.01 Q2289.51 1482.55 2293.13 1482.55 Q2296.76 1482.55 2298.57 1479.01 Q2300.39 1475.44 2300.39 1468.33 Q2300.39 1461.2 2298.57 1457.66 Q2296.76 1454.1 2293.13 1454.1 M2293.13 1450.39 Q2298.94 1450.39 2301.99 1455 Q2305.07 1459.58 2305.07 1468.33 Q2305.07 1477.06 2301.99 1481.67 Q2298.94 1486.25 2293.13 1486.25 Q2287.32 1486.25 2284.24 1481.67 Q2281.18 1477.06 2281.18 1468.33 Q2281.18 1459.58 2284.24 1455 Q2287.32 1450.39 2293.13 1450.39 Z\" fill=\"#000000\" fill-rule=\"evenodd\" fill-opacity=\"1\" /><path clip-path=\"url(#clip520)\" d=\"M2323.29 1454.1 Q2319.68 1454.1 2317.85 1457.66 Q2316.04 1461.2 2316.04 1468.33 Q2316.04 1475.44 2317.85 1479.01 Q2319.68 1482.55 2323.29 1482.55 Q2326.92 1482.55 2328.73 1479.01 Q2330.56 1475.44 2330.56 1468.33 Q2330.56 1461.2 2328.73 1457.66 Q2326.92 1454.1 2323.29 1454.1 M2323.29 1450.39 Q2329.1 1450.39 2332.15 1455 Q2335.23 1459.58 2335.23 1468.33 Q2335.23 1477.06 2332.15 1481.67 Q2329.1 1486.25 2323.29 1486.25 Q2317.48 1486.25 2314.4 1481.67 Q2311.34 1477.06 2311.34 1468.33 Q2311.34 1459.58 2314.4 1455 Q2317.48 1450.39 2323.29 1450.39 Z\" fill=\"#000000\" fill-rule=\"evenodd\" fill-opacity=\"1\" /><path clip-path=\"url(#clip520)\" d=\"M2353.45 1454.1 Q2349.84 1454.1 2348.01 1457.66 Q2346.2 1461.2 2346.2 1468.33 Q2346.2 1475.44 2348.01 1479.01 Q2349.84 1482.55 2353.45 1482.55 Q2357.08 1482.55 2358.89 1479.01 Q2360.72 1475.44 2360.72 1468.33 Q2360.72 1461.2 2358.89 1457.66 Q2357.08 1454.1 2353.45 1454.1 M2353.45 1450.39 Q2359.26 1450.39 2362.31 1455 Q2365.39 1459.58 2365.39 1468.33 Q2365.39 1477.06 2362.31 1481.67 Q2359.26 1486.25 2353.45 1486.25 Q2347.64 1486.25 2344.56 1481.67 Q2341.5 1477.06 2341.5 1468.33 Q2341.5 1459.58 2344.56 1455 Q2347.64 1450.39 2353.45 1450.39 Z\" fill=\"#000000\" fill-rule=\"evenodd\" fill-opacity=\"1\" /><path clip-path=\"url(#clip520)\" d=\"M1206.54 1539.37 L1197.28 1539.37 L1194.6 1550 L1203.93 1550 L1206.54 1539.37 M1201.76 1521.26 L1198.45 1534.46 L1207.75 1534.46 L1211.09 1521.26 L1216.18 1521.26 L1212.9 1534.46 L1222.83 1534.46 L1222.83 1539.37 L1211.66 1539.37 L1209.05 1550 L1219.17 1550 L1219.17 1554.87 L1207.81 1554.87 L1204.5 1568.04 L1199.41 1568.04 L1202.69 1554.87 L1193.36 1554.87 L1190.08 1568.04 L1184.96 1568.04 L1188.27 1554.87 L1178.24 1554.87 L1178.24 1550 L1189.45 1550 L1192.12 1539.37 L1181.87 1539.37 L1181.87 1534.46 L1193.36 1534.46 L1196.61 1521.26 L1201.76 1521.26 Z\" fill=\"#000000\" fill-rule=\"evenodd\" fill-opacity=\"1\" /><path clip-path=\"url(#clip520)\" d=\"M1264.47 1548.76 L1264.47 1551.62 L1237.54 1551.62 Q1237.92 1557.67 1241.17 1560.85 Q1244.45 1564 1250.27 1564 Q1253.64 1564 1256.8 1563.17 Q1259.98 1562.35 1263.1 1560.69 L1263.1 1566.23 Q1259.95 1567.57 1256.64 1568.27 Q1253.33 1568.97 1249.92 1568.97 Q1241.39 1568.97 1236.39 1564 Q1231.43 1559.04 1231.43 1550.57 Q1231.43 1541.82 1236.14 1536.69 Q1240.88 1531.54 1248.9 1531.54 Q1256.1 1531.54 1260.27 1536.18 Q1264.47 1540.8 1264.47 1548.76 M1258.61 1547.04 Q1258.55 1542.23 1255.9 1539.37 Q1253.29 1536.5 1248.97 1536.5 Q1244.06 1536.5 1241.1 1539.27 Q1238.18 1542.04 1237.73 1547.07 L1258.61 1547.04 Z\" fill=\"#000000\" fill-rule=\"evenodd\" fill-opacity=\"1\" /><path clip-path=\"url(#clip520)\" d=\"M1279.74 1562.7 L1279.74 1581.6 L1273.86 1581.6 L1273.86 1532.4 L1279.74 1532.4 L1279.74 1537.81 Q1281.59 1534.62 1284.39 1533.1 Q1287.22 1531.54 1291.14 1531.54 Q1297.63 1531.54 1301.67 1536.69 Q1305.75 1541.85 1305.75 1550.25 Q1305.75 1558.65 1301.67 1563.81 Q1297.63 1568.97 1291.14 1568.97 Q1287.22 1568.97 1284.39 1567.44 Q1281.59 1565.88 1279.74 1562.7 M1299.67 1550.25 Q1299.67 1543.79 1297 1540.13 Q1294.35 1536.44 1289.71 1536.44 Q1285.06 1536.44 1282.39 1540.13 Q1279.74 1543.79 1279.74 1550.25 Q1279.74 1556.71 1282.39 1560.4 Q1285.06 1564.07 1289.71 1564.07 Q1294.35 1564.07 1297 1560.4 Q1299.67 1556.71 1299.67 1550.25 Z\" fill=\"#000000\" fill-rule=\"evenodd\" fill-opacity=\"1\" /><path clip-path=\"url(#clip520)\" d=\"M1329.27 1536.5 Q1324.56 1536.5 1321.82 1540.19 Q1319.08 1543.85 1319.08 1550.25 Q1319.08 1556.65 1321.79 1560.34 Q1324.53 1564 1329.27 1564 Q1333.95 1564 1336.69 1560.31 Q1339.42 1556.62 1339.42 1550.25 Q1339.42 1543.92 1336.69 1540.23 Q1333.95 1536.5 1329.27 1536.5 M1329.27 1531.54 Q1336.91 1531.54 1341.27 1536.5 Q1345.63 1541.47 1345.63 1550.25 Q1345.63 1559 1341.27 1564 Q1336.91 1568.97 1329.27 1568.97 Q1321.6 1568.97 1317.24 1564 Q1312.91 1559 1312.91 1550.25 Q1312.91 1541.47 1317.24 1536.5 Q1321.6 1531.54 1329.27 1531.54 Z\" fill=\"#000000\" fill-rule=\"evenodd\" fill-opacity=\"1\" /><path clip-path=\"url(#clip520)\" d=\"M1380.99 1533.76 L1380.99 1539.24 Q1378.51 1537.87 1375.99 1537.2 Q1373.51 1536.5 1370.96 1536.5 Q1365.27 1536.5 1362.12 1540.13 Q1358.97 1543.73 1358.97 1550.25 Q1358.97 1556.78 1362.12 1560.4 Q1365.27 1564 1370.96 1564 Q1373.51 1564 1375.99 1563.33 Q1378.51 1562.63 1380.99 1561.26 L1380.99 1566.68 Q1378.54 1567.82 1375.9 1568.39 Q1373.29 1568.97 1370.33 1568.97 Q1362.28 1568.97 1357.53 1563.91 Q1352.79 1558.85 1352.79 1550.25 Q1352.79 1541.53 1357.57 1536.53 Q1362.37 1531.54 1370.71 1531.54 Q1373.42 1531.54 1375.99 1532.11 Q1378.57 1532.65 1380.99 1533.76 Z\" fill=\"#000000\" fill-rule=\"evenodd\" fill-opacity=\"1\" /><path clip-path=\"url(#clip520)\" d=\"M1420.81 1546.53 L1420.81 1568.04 L1414.95 1568.04 L1414.95 1546.72 Q1414.95 1541.66 1412.98 1539.14 Q1411.01 1536.63 1407.06 1536.63 Q1402.32 1536.63 1399.58 1539.65 Q1396.84 1542.68 1396.84 1547.9 L1396.84 1568.04 L1390.95 1568.04 L1390.95 1518.52 L1396.84 1518.52 L1396.84 1537.93 Q1398.94 1534.72 1401.77 1533.13 Q1404.64 1531.54 1408.36 1531.54 Q1414.51 1531.54 1417.66 1535.36 Q1420.81 1539.14 1420.81 1546.53 Z\" fill=\"#000000\" fill-rule=\"evenodd\" fill-opacity=\"1\" /><path clip-path=\"url(#clip520)\" d=\"M1455.21 1533.45 L1455.21 1538.98 Q1452.73 1537.71 1450.06 1537.07 Q1447.39 1536.44 1444.52 1536.44 Q1440.16 1536.44 1437.96 1537.77 Q1435.8 1539.11 1435.8 1541.79 Q1435.8 1543.82 1437.36 1545 Q1438.92 1546.15 1443.63 1547.2 L1445.63 1547.64 Q1451.87 1548.98 1454.48 1551.43 Q1457.12 1553.85 1457.12 1558.21 Q1457.12 1563.17 1453.18 1566.07 Q1449.26 1568.97 1442.39 1568.97 Q1439.52 1568.97 1436.4 1568.39 Q1433.32 1567.85 1429.88 1566.74 L1429.88 1560.69 Q1433.13 1562.38 1436.28 1563.24 Q1439.43 1564.07 1442.52 1564.07 Q1446.65 1564.07 1448.88 1562.66 Q1451.11 1561.23 1451.11 1558.65 Q1451.11 1556.27 1449.49 1554.99 Q1447.89 1553.72 1442.45 1552.54 L1440.41 1552.07 Q1434.97 1550.92 1432.55 1548.56 Q1430.13 1546.18 1430.13 1542.04 Q1430.13 1537.01 1433.7 1534.27 Q1437.26 1531.54 1443.82 1531.54 Q1447.07 1531.54 1449.93 1532.01 Q1452.8 1532.49 1455.21 1533.45 Z\" fill=\"#000000\" fill-rule=\"evenodd\" fill-opacity=\"1\" /><polyline clip-path=\"url(#clip522)\" style=\"stroke:#000000; stroke-linecap:butt; stroke-linejoin:round; stroke-width:2; stroke-opacity:0.1; fill:none\" points=\"\n",
       "  282.612,1330.92 2352.76,1330.92 \n",
       "  \"/>\n",
       "<polyline clip-path=\"url(#clip522)\" style=\"stroke:#000000; stroke-linecap:butt; stroke-linejoin:round; stroke-width:2; stroke-opacity:0.1; fill:none\" points=\"\n",
       "  282.612,1034.62 2352.76,1034.62 \n",
       "  \"/>\n",
       "<polyline clip-path=\"url(#clip522)\" style=\"stroke:#000000; stroke-linecap:butt; stroke-linejoin:round; stroke-width:2; stroke-opacity:0.1; fill:none\" points=\"\n",
       "  282.612,738.325 2352.76,738.325 \n",
       "  \"/>\n",
       "<polyline clip-path=\"url(#clip522)\" style=\"stroke:#000000; stroke-linecap:butt; stroke-linejoin:round; stroke-width:2; stroke-opacity:0.1; fill:none\" points=\"\n",
       "  282.612,442.027 2352.76,442.027 \n",
       "  \"/>\n",
       "<polyline clip-path=\"url(#clip522)\" style=\"stroke:#000000; stroke-linecap:butt; stroke-linejoin:round; stroke-width:2; stroke-opacity:0.1; fill:none\" points=\"\n",
       "  282.612,145.729 2352.76,145.729 \n",
       "  \"/>\n",
       "<polyline clip-path=\"url(#clip520)\" style=\"stroke:#000000; stroke-linecap:butt; stroke-linejoin:round; stroke-width:4; stroke-opacity:1; fill:none\" points=\"\n",
       "  282.612,1423.18 282.612,47.2441 \n",
       "  \"/>\n",
       "<polyline clip-path=\"url(#clip520)\" style=\"stroke:#000000; stroke-linecap:butt; stroke-linejoin:round; stroke-width:4; stroke-opacity:1; fill:none\" points=\"\n",
       "  282.612,1330.92 301.51,1330.92 \n",
       "  \"/>\n",
       "<polyline clip-path=\"url(#clip520)\" style=\"stroke:#000000; stroke-linecap:butt; stroke-linejoin:round; stroke-width:4; stroke-opacity:1; fill:none\" points=\"\n",
       "  282.612,1034.62 301.51,1034.62 \n",
       "  \"/>\n",
       "<polyline clip-path=\"url(#clip520)\" style=\"stroke:#000000; stroke-linecap:butt; stroke-linejoin:round; stroke-width:4; stroke-opacity:1; fill:none\" points=\"\n",
       "  282.612,738.325 301.51,738.325 \n",
       "  \"/>\n",
       "<polyline clip-path=\"url(#clip520)\" style=\"stroke:#000000; stroke-linecap:butt; stroke-linejoin:round; stroke-width:4; stroke-opacity:1; fill:none\" points=\"\n",
       "  282.612,442.027 301.51,442.027 \n",
       "  \"/>\n",
       "<polyline clip-path=\"url(#clip520)\" style=\"stroke:#000000; stroke-linecap:butt; stroke-linejoin:round; stroke-width:4; stroke-opacity:1; fill:none\" points=\"\n",
       "  282.612,145.729 301.51,145.729 \n",
       "  \"/>\n",
       "<path clip-path=\"url(#clip520)\" d=\"M114.931 1350.71 L122.57 1350.71 L122.57 1324.35 L114.26 1326.02 L114.26 1321.76 L122.524 1320.09 L127.2 1320.09 L127.2 1350.71 L134.839 1350.71 L134.839 1354.65 L114.931 1354.65 L114.931 1350.71 Z\" fill=\"#000000\" fill-rule=\"evenodd\" fill-opacity=\"1\" /><path clip-path=\"url(#clip520)\" d=\"M154.283 1323.17 Q150.672 1323.17 148.843 1326.73 Q147.038 1330.27 147.038 1337.4 Q147.038 1344.51 148.843 1348.08 Q150.672 1351.62 154.283 1351.62 Q157.917 1351.62 159.723 1348.08 Q161.552 1344.51 161.552 1337.4 Q161.552 1330.27 159.723 1326.73 Q157.917 1323.17 154.283 1323.17 M154.283 1319.46 Q160.093 1319.46 163.149 1324.07 Q166.227 1328.65 166.227 1337.4 Q166.227 1346.13 163.149 1350.74 Q160.093 1355.32 154.283 1355.32 Q148.473 1355.32 145.394 1350.74 Q142.339 1346.13 142.339 1337.4 Q142.339 1328.65 145.394 1324.07 Q148.473 1319.46 154.283 1319.46 Z\" fill=\"#000000\" fill-rule=\"evenodd\" fill-opacity=\"1\" /><path clip-path=\"url(#clip520)\" d=\"M170.798 1324.04 L184.057 1324.04 L184.057 1327.24 L166.227 1327.24 L166.227 1324.04 Q168.39 1321.8 172.114 1318.04 Q175.857 1314.26 176.816 1313.17 Q178.641 1311.12 179.355 1309.71 Q180.089 1308.28 180.089 1306.91 Q180.089 1304.67 178.509 1303.26 Q176.948 1301.85 174.428 1301.85 Q172.641 1301.85 170.647 1302.47 Q168.672 1303.09 166.416 1304.35 L166.416 1300.51 Q168.71 1299.59 170.704 1299.12 Q172.697 1298.65 174.352 1298.65 Q178.716 1298.65 181.311 1300.83 Q183.907 1303.01 183.907 1306.66 Q183.907 1308.39 183.249 1309.95 Q182.609 1311.5 180.898 1313.6 Q180.427 1314.15 177.907 1316.76 Q175.387 1319.36 170.798 1324.04 Z\" fill=\"#000000\" fill-rule=\"evenodd\" fill-opacity=\"1\" /><path clip-path=\"url(#clip520)\" d=\"M192.032 1322.46 L196 1322.46 L196 1327.24 L192.032 1327.24 L192.032 1322.46 Z\" fill=\"#000000\" fill-rule=\"evenodd\" fill-opacity=\"1\" /><path clip-path=\"url(#clip520)\" d=\"M212.401 1313.9 Q209.692 1313.9 208.131 1315.35 Q206.589 1316.8 206.589 1319.34 Q206.589 1321.88 208.131 1323.33 Q209.692 1324.78 212.401 1324.78 Q215.109 1324.78 216.67 1323.33 Q218.231 1321.86 218.231 1319.34 Q218.231 1316.8 216.67 1315.35 Q215.128 1313.9 212.401 1313.9 M208.601 1312.29 Q206.156 1311.68 204.783 1310.01 Q203.429 1308.34 203.429 1305.93 Q203.429 1302.56 205.818 1300.61 Q208.225 1298.65 212.401 1298.65 Q216.595 1298.65 218.983 1300.61 Q221.372 1302.56 221.372 1305.93 Q221.372 1308.34 219.999 1310.01 Q218.645 1311.68 216.219 1312.29 Q218.964 1312.93 220.488 1314.79 Q222.03 1316.65 222.03 1319.34 Q222.03 1323.42 219.529 1325.6 Q217.046 1327.78 212.401 1327.78 Q207.755 1327.78 205.254 1325.6 Q202.771 1323.42 202.771 1319.34 Q202.771 1316.65 204.313 1314.79 Q205.855 1312.93 208.601 1312.29 M207.21 1306.29 Q207.21 1308.47 208.564 1309.69 Q209.937 1310.91 212.401 1310.91 Q214.846 1310.91 216.219 1309.69 Q217.61 1308.47 217.61 1306.29 Q217.61 1304.11 216.219 1302.88 Q214.846 1301.66 212.401 1301.66 Q209.937 1301.66 208.564 1302.88 Q207.21 1304.11 207.21 1306.29 Z\" fill=\"#000000\" fill-rule=\"evenodd\" fill-opacity=\"1\" /><path clip-path=\"url(#clip520)\" d=\"M236.907 1301.66 Q233.973 1301.66 232.487 1304.56 Q231.02 1307.43 231.02 1313.23 Q231.02 1319 232.487 1321.9 Q233.973 1324.78 236.907 1324.78 Q239.86 1324.78 241.327 1321.9 Q242.813 1319 242.813 1313.23 Q242.813 1307.43 241.327 1304.56 Q239.86 1301.66 236.907 1301.66 M236.907 1298.65 Q241.628 1298.65 244.11 1302.39 Q246.612 1306.12 246.612 1313.23 Q246.612 1320.32 244.11 1324.06 Q241.628 1327.78 236.907 1327.78 Q232.186 1327.78 229.685 1324.06 Q227.202 1320.32 227.202 1313.23 Q227.202 1306.12 229.685 1302.39 Q232.186 1298.65 236.907 1298.65 Z\" fill=\"#000000\" fill-rule=\"evenodd\" fill-opacity=\"1\" /><path clip-path=\"url(#clip520)\" d=\"M115.74 1054.42 L123.379 1054.42 L123.379 1028.05 L115.069 1029.72 L115.069 1025.46 L123.333 1023.79 L128.009 1023.79 L128.009 1054.42 L135.647 1054.42 L135.647 1058.35 L115.74 1058.35 L115.74 1054.42 Z\" fill=\"#000000\" fill-rule=\"evenodd\" fill-opacity=\"1\" /><path clip-path=\"url(#clip520)\" d=\"M155.092 1026.87 Q151.481 1026.87 149.652 1030.43 Q147.846 1033.98 147.846 1041.11 Q147.846 1048.21 149.652 1051.78 Q151.481 1055.32 155.092 1055.32 Q158.726 1055.32 160.532 1051.78 Q162.36 1048.21 162.36 1041.11 Q162.36 1033.98 160.532 1030.43 Q158.726 1026.87 155.092 1026.87 M155.092 1023.17 Q160.902 1023.17 163.958 1027.77 Q167.036 1032.36 167.036 1041.11 Q167.036 1049.83 163.958 1054.44 Q160.902 1059.02 155.092 1059.02 Q149.282 1059.02 146.203 1054.44 Q143.147 1049.83 143.147 1041.11 Q143.147 1032.36 146.203 1027.77 Q149.282 1023.17 155.092 1023.17 Z\" fill=\"#000000\" fill-rule=\"evenodd\" fill-opacity=\"1\" /><path clip-path=\"url(#clip520)\" d=\"M171.606 1027.74 L184.866 1027.74 L184.866 1030.94 L167.036 1030.94 L167.036 1027.74 Q169.199 1025.51 172.923 1021.74 Q176.666 1017.96 177.625 1016.87 Q179.449 1014.82 180.164 1013.41 Q180.898 1011.98 180.898 1010.61 Q180.898 1008.37 179.318 1006.96 Q177.757 1005.55 175.236 1005.55 Q173.45 1005.55 171.456 1006.17 Q169.481 1006.79 167.224 1008.05 L167.224 1004.21 Q169.519 1003.29 171.512 1002.82 Q173.506 1002.35 175.161 1002.35 Q179.525 1002.35 182.12 1004.53 Q184.716 1006.72 184.716 1010.37 Q184.716 1012.1 184.057 1013.66 Q183.418 1015.2 181.706 1017.31 Q181.236 1017.85 178.716 1020.46 Q176.196 1023.06 171.606 1027.74 Z\" fill=\"#000000\" fill-rule=\"evenodd\" fill-opacity=\"1\" /><path clip-path=\"url(#clip520)\" d=\"M192.84 1026.16 L196.809 1026.16 L196.809 1030.94 L192.84 1030.94 L192.84 1026.16 Z\" fill=\"#000000\" fill-rule=\"evenodd\" fill-opacity=\"1\" /><path clip-path=\"url(#clip520)\" d=\"M213.209 1017.61 Q210.501 1017.61 208.94 1019.05 Q207.398 1020.5 207.398 1023.04 Q207.398 1025.58 208.94 1027.03 Q210.501 1028.48 213.209 1028.48 Q215.918 1028.48 217.479 1027.03 Q219.04 1025.56 219.04 1023.04 Q219.04 1020.5 217.479 1019.05 Q215.936 1017.61 213.209 1017.61 M209.41 1015.99 Q206.965 1015.39 205.592 1013.71 Q204.238 1012.04 204.238 1009.63 Q204.238 1006.26 206.627 1004.31 Q209.034 1002.35 213.209 1002.35 Q217.403 1002.35 219.792 1004.31 Q222.181 1006.26 222.181 1009.63 Q222.181 1012.04 220.808 1013.71 Q219.453 1015.39 217.027 1015.99 Q219.773 1016.63 221.297 1018.49 Q222.839 1020.35 222.839 1023.04 Q222.839 1027.12 220.337 1029.3 Q217.855 1031.49 213.209 1031.49 Q208.564 1031.49 206.062 1029.3 Q203.58 1027.12 203.58 1023.04 Q203.58 1020.35 205.122 1018.49 Q206.664 1016.63 209.41 1015.99 M208.018 1009.99 Q208.018 1012.17 209.372 1013.39 Q210.745 1014.62 213.209 1014.62 Q215.654 1014.62 217.027 1013.39 Q218.419 1012.17 218.419 1009.99 Q218.419 1007.81 217.027 1006.58 Q215.654 1005.36 213.209 1005.36 Q210.745 1005.36 209.372 1006.58 Q208.018 1007.81 208.018 1009.99 Z\" fill=\"#000000\" fill-rule=\"evenodd\" fill-opacity=\"1\" /><path clip-path=\"url(#clip520)\" d=\"M229.628 1002.86 L244.543 1002.86 L244.543 1006.06 L233.108 1006.06 L233.108 1012.94 Q233.935 1012.66 234.763 1012.53 Q235.591 1012.38 236.418 1012.38 Q241.12 1012.38 243.866 1014.95 Q246.612 1017.53 246.612 1021.93 Q246.612 1026.46 243.791 1028.98 Q240.97 1031.49 235.835 1031.49 Q234.067 1031.49 232.224 1031.19 Q230.4 1030.88 228.444 1030.28 L228.444 1026.46 Q230.136 1027.39 231.942 1027.84 Q233.747 1028.29 235.76 1028.29 Q239.014 1028.29 240.913 1026.58 Q242.813 1024.87 242.813 1021.93 Q242.813 1019 240.913 1017.29 Q239.014 1015.57 235.76 1015.57 Q234.236 1015.57 232.713 1015.91 Q231.208 1016.25 229.628 1016.97 L229.628 1002.86 Z\" fill=\"#000000\" fill-rule=\"evenodd\" fill-opacity=\"1\" /><path clip-path=\"url(#clip520)\" d=\"M114.931 758.118 L122.57 758.118 L122.57 731.752 L114.26 733.419 L114.26 729.16 L122.524 727.493 L127.2 727.493 L127.2 758.118 L134.839 758.118 L134.839 762.053 L114.931 762.053 L114.931 758.118 Z\" fill=\"#000000\" fill-rule=\"evenodd\" fill-opacity=\"1\" /><path clip-path=\"url(#clip520)\" d=\"M154.283 730.572 Q150.672 730.572 148.843 734.136 Q147.038 737.678 147.038 744.808 Q147.038 751.914 148.843 755.479 Q150.672 759.021 154.283 759.021 Q157.917 759.021 159.723 755.479 Q161.552 751.914 161.552 744.808 Q161.552 737.678 159.723 734.136 Q157.917 730.572 154.283 730.572 M154.283 726.868 Q160.093 726.868 163.149 731.474 Q166.227 736.058 166.227 744.808 Q166.227 753.535 163.149 758.141 Q160.093 762.724 154.283 762.724 Q148.473 762.724 145.394 758.141 Q142.339 753.535 142.339 744.808 Q142.339 736.058 145.394 731.474 Q148.473 726.868 154.283 726.868 Z\" fill=\"#000000\" fill-rule=\"evenodd\" fill-opacity=\"1\" /><path clip-path=\"url(#clip520)\" d=\"M170.798 731.445 L184.057 731.445 L184.057 734.643 L166.227 734.643 L166.227 731.445 Q168.39 729.207 172.114 725.446 Q175.857 721.665 176.816 720.574 Q178.641 718.524 179.355 717.114 Q180.089 715.684 180.089 714.311 Q180.089 712.073 178.509 710.663 Q176.948 709.252 174.428 709.252 Q172.641 709.252 170.647 709.873 Q168.672 710.493 166.416 711.754 L166.416 707.917 Q168.71 706.995 170.704 706.525 Q172.697 706.055 174.352 706.055 Q178.716 706.055 181.311 708.236 Q183.907 710.418 183.907 714.067 Q183.907 715.797 183.249 717.358 Q182.609 718.9 180.898 721.007 Q180.427 721.552 177.907 724.167 Q175.387 726.762 170.798 731.445 Z\" fill=\"#000000\" fill-rule=\"evenodd\" fill-opacity=\"1\" /><path clip-path=\"url(#clip520)\" d=\"M192.032 729.865 L196 729.865 L196 734.643 L192.032 734.643 L192.032 729.865 Z\" fill=\"#000000\" fill-rule=\"evenodd\" fill-opacity=\"1\" /><path clip-path=\"url(#clip520)\" d=\"M204.388 734.06 L204.388 730.599 Q205.818 731.276 207.285 731.633 Q208.752 731.991 210.162 731.991 Q213.924 731.991 215.899 729.47 Q217.892 726.931 218.175 721.778 Q217.084 723.396 215.41 724.261 Q213.736 725.126 211.705 725.126 Q207.492 725.126 205.028 722.587 Q202.583 720.029 202.583 715.609 Q202.583 711.283 205.141 708.669 Q207.699 706.055 211.949 706.055 Q216.82 706.055 219.378 709.798 Q221.955 713.521 221.955 720.631 Q221.955 727.27 218.795 731.238 Q215.654 735.188 210.332 735.188 Q208.902 735.188 207.435 734.906 Q205.968 734.624 204.388 734.06 M211.949 722.154 Q214.507 722.154 215.993 720.405 Q217.497 718.656 217.497 715.609 Q217.497 712.581 215.993 710.832 Q214.507 709.064 211.949 709.064 Q209.391 709.064 207.887 710.832 Q206.401 712.581 206.401 715.609 Q206.401 718.656 207.887 720.405 Q209.391 722.154 211.949 722.154 Z\" fill=\"#000000\" fill-rule=\"evenodd\" fill-opacity=\"1\" /><path clip-path=\"url(#clip520)\" d=\"M236.907 709.064 Q233.973 709.064 232.487 711.96 Q231.02 714.838 231.02 720.631 Q231.02 726.405 232.487 729.301 Q233.973 732.179 236.907 732.179 Q239.86 732.179 241.327 729.301 Q242.813 726.405 242.813 720.631 Q242.813 714.838 241.327 711.96 Q239.86 709.064 236.907 709.064 M236.907 706.055 Q241.628 706.055 244.11 709.798 Q246.612 713.521 246.612 720.631 Q246.612 727.721 244.11 731.464 Q241.628 735.188 236.907 735.188 Q232.186 735.188 229.685 731.464 Q227.202 727.721 227.202 720.631 Q227.202 713.521 229.685 709.798 Q232.186 706.055 236.907 706.055 Z\" fill=\"#000000\" fill-rule=\"evenodd\" fill-opacity=\"1\" /><path clip-path=\"url(#clip520)\" d=\"M115.74 461.82 L123.379 461.82 L123.379 435.454 L115.069 437.121 L115.069 432.861 L123.333 431.195 L128.009 431.195 L128.009 461.82 L135.647 461.82 L135.647 465.755 L115.74 465.755 L115.74 461.82 Z\" fill=\"#000000\" fill-rule=\"evenodd\" fill-opacity=\"1\" /><path clip-path=\"url(#clip520)\" d=\"M155.092 434.273 Q151.481 434.273 149.652 437.838 Q147.846 441.38 147.846 448.51 Q147.846 455.616 149.652 459.181 Q151.481 462.722 155.092 462.722 Q158.726 462.722 160.532 459.181 Q162.36 455.616 162.36 448.51 Q162.36 441.38 160.532 437.838 Q158.726 434.273 155.092 434.273 M155.092 430.57 Q160.902 430.57 163.958 435.176 Q167.036 439.76 167.036 448.51 Q167.036 457.236 163.958 461.843 Q160.902 466.426 155.092 466.426 Q149.282 466.426 146.203 461.843 Q143.147 457.236 143.147 448.51 Q143.147 439.76 146.203 435.176 Q149.282 430.57 155.092 430.57 Z\" fill=\"#000000\" fill-rule=\"evenodd\" fill-opacity=\"1\" /><path clip-path=\"url(#clip520)\" d=\"M171.606 435.147 L184.866 435.147 L184.866 438.344 L167.036 438.344 L167.036 435.147 Q169.199 432.909 172.923 429.147 Q176.666 425.367 177.625 424.276 Q179.449 422.226 180.164 420.816 Q180.898 419.386 180.898 418.013 Q180.898 415.775 179.318 414.365 Q177.757 412.954 175.236 412.954 Q173.45 412.954 171.456 413.575 Q169.481 414.195 167.224 415.455 L167.224 411.619 Q169.519 410.697 171.512 410.227 Q173.506 409.757 175.161 409.757 Q179.525 409.757 182.12 411.938 Q184.716 414.12 184.716 417.769 Q184.716 419.499 184.057 421.06 Q183.418 422.602 181.706 424.709 Q181.236 425.254 178.716 427.868 Q176.196 430.464 171.606 435.147 Z\" fill=\"#000000\" fill-rule=\"evenodd\" fill-opacity=\"1\" /><path clip-path=\"url(#clip520)\" d=\"M192.84 433.567 L196.809 433.567 L196.809 438.344 L192.84 438.344 L192.84 433.567 Z\" fill=\"#000000\" fill-rule=\"evenodd\" fill-opacity=\"1\" /><path clip-path=\"url(#clip520)\" d=\"M205.197 437.761 L205.197 434.301 Q206.627 434.978 208.094 435.335 Q209.561 435.693 210.971 435.693 Q214.733 435.693 216.708 433.172 Q218.701 430.633 218.983 425.48 Q217.892 427.097 216.219 427.963 Q214.545 428.828 212.513 428.828 Q208.3 428.828 205.837 426.289 Q203.392 423.731 203.392 419.311 Q203.392 414.985 205.949 412.371 Q208.507 409.757 212.758 409.757 Q217.629 409.757 220.187 413.499 Q222.764 417.223 222.764 424.333 Q222.764 430.972 219.604 434.94 Q216.463 438.89 211.14 438.89 Q209.711 438.89 208.244 438.608 Q206.777 438.326 205.197 437.761 M212.758 425.856 Q215.316 425.856 216.802 424.107 Q218.306 422.358 218.306 419.311 Q218.306 416.283 216.802 414.534 Q215.316 412.766 212.758 412.766 Q210.2 412.766 208.695 414.534 Q207.21 416.283 207.21 419.311 Q207.21 422.358 208.695 424.107 Q210.2 425.856 212.758 425.856 Z\" fill=\"#000000\" fill-rule=\"evenodd\" fill-opacity=\"1\" /><path clip-path=\"url(#clip520)\" d=\"M229.628 410.264 L244.543 410.264 L244.543 413.462 L233.108 413.462 L233.108 420.345 Q233.935 420.063 234.763 419.932 Q235.591 419.781 236.418 419.781 Q241.12 419.781 243.866 422.358 Q246.612 424.934 246.612 429.335 Q246.612 433.868 243.791 436.388 Q240.97 438.89 235.835 438.89 Q234.067 438.89 232.224 438.589 Q230.4 438.288 228.444 437.686 L228.444 433.868 Q230.136 434.79 231.942 435.241 Q233.747 435.693 235.76 435.693 Q239.014 435.693 240.913 433.981 Q242.813 432.269 242.813 429.335 Q242.813 426.401 240.913 424.69 Q239.014 422.978 235.76 422.978 Q234.236 422.978 232.713 423.317 Q231.208 423.656 229.628 424.37 L229.628 410.264 Z\" fill=\"#000000\" fill-rule=\"evenodd\" fill-opacity=\"1\" /><path clip-path=\"url(#clip520)\" d=\"M115.044 165.521 L122.683 165.521 L122.683 139.156 L114.373 140.823 L114.373 136.563 L122.637 134.897 L127.313 134.897 L127.313 165.521 L134.952 165.521 L134.952 169.457 L115.044 169.457 L115.044 165.521 Z\" fill=\"#000000\" fill-rule=\"evenodd\" fill-opacity=\"1\" /><path clip-path=\"url(#clip520)\" d=\"M154.396 137.975 Q150.785 137.975 148.956 141.54 Q147.151 145.082 147.151 152.211 Q147.151 159.318 148.956 162.883 Q150.785 166.424 154.396 166.424 Q158.03 166.424 159.836 162.883 Q161.664 159.318 161.664 152.211 Q161.664 145.082 159.836 141.54 Q158.03 137.975 154.396 137.975 M154.396 134.272 Q160.206 134.272 163.262 138.878 Q166.34 143.461 166.34 152.211 Q166.34 160.938 163.262 165.545 Q160.206 170.128 154.396 170.128 Q148.586 170.128 145.507 165.545 Q142.452 160.938 142.452 152.211 Q142.452 143.461 145.507 138.878 Q148.586 134.272 154.396 134.272 Z\" fill=\"#000000\" fill-rule=\"evenodd\" fill-opacity=\"1\" /><path clip-path=\"url(#clip520)\" d=\"M179.036 126.906 Q181.763 127.489 183.286 129.332 Q184.828 131.175 184.828 133.884 Q184.828 138.04 181.97 140.316 Q179.111 142.592 173.845 142.592 Q172.077 142.592 170.196 142.234 Q168.334 141.896 166.34 141.2 L166.34 137.532 Q167.92 138.454 169.801 138.924 Q171.682 139.394 173.732 139.394 Q177.305 139.394 179.167 137.984 Q181.048 136.573 181.048 133.884 Q181.048 131.401 179.299 130.009 Q177.569 128.599 174.465 128.599 L171.193 128.599 L171.193 125.477 L174.616 125.477 Q177.418 125.477 178.904 124.367 Q180.39 123.238 180.39 121.132 Q180.39 118.969 178.847 117.822 Q177.324 116.656 174.465 116.656 Q172.904 116.656 171.117 116.994 Q169.331 117.333 167.187 118.048 L167.187 114.662 Q169.35 114.06 171.23 113.759 Q173.13 113.458 174.804 113.458 Q179.13 113.458 181.65 115.433 Q184.17 117.389 184.17 120.737 Q184.17 123.069 182.835 124.687 Q181.499 126.285 179.036 126.906 Z\" fill=\"#000000\" fill-rule=\"evenodd\" fill-opacity=\"1\" /><path clip-path=\"url(#clip520)\" d=\"M192.032 137.269 L196 137.269 L196 142.046 L192.032 142.046 L192.032 137.269 Z\" fill=\"#000000\" fill-rule=\"evenodd\" fill-opacity=\"1\" /><path clip-path=\"url(#clip520)\" d=\"M212.401 116.468 Q209.467 116.468 207.981 119.364 Q206.514 122.242 206.514 128.034 Q206.514 133.808 207.981 136.705 Q209.467 139.582 212.401 139.582 Q215.353 139.582 216.82 136.705 Q218.306 133.808 218.306 128.034 Q218.306 122.242 216.82 119.364 Q215.353 116.468 212.401 116.468 M212.401 113.458 Q217.121 113.458 219.604 117.201 Q222.105 120.925 222.105 128.034 Q222.105 135.125 219.604 138.868 Q217.121 142.592 212.401 142.592 Q207.68 142.592 205.178 138.868 Q202.696 135.125 202.696 128.034 Q202.696 120.925 205.178 117.201 Q207.68 113.458 212.401 113.458 Z\" fill=\"#000000\" fill-rule=\"evenodd\" fill-opacity=\"1\" /><path clip-path=\"url(#clip520)\" d=\"M236.907 116.468 Q233.973 116.468 232.487 119.364 Q231.02 122.242 231.02 128.034 Q231.02 133.808 232.487 136.705 Q233.973 139.582 236.907 139.582 Q239.86 139.582 241.327 136.705 Q242.813 133.808 242.813 128.034 Q242.813 122.242 241.327 119.364 Q239.86 116.468 236.907 116.468 M236.907 113.458 Q241.628 113.458 244.11 117.201 Q246.612 120.925 246.612 128.034 Q246.612 135.125 244.11 138.868 Q241.628 142.592 236.907 142.592 Q232.186 142.592 229.685 138.868 Q227.202 135.125 227.202 128.034 Q227.202 120.925 229.685 117.201 Q232.186 113.458 236.907 113.458 Z\" fill=\"#000000\" fill-rule=\"evenodd\" fill-opacity=\"1\" /><path clip-path=\"url(#clip520)\" d=\"M14.479 1013.58 L14.479 1007.73 L64.0042 1007.73 L64.0042 1013.58 L14.479 1013.58 Z\" fill=\"#000000\" fill-rule=\"evenodd\" fill-opacity=\"1\" /><path clip-path=\"url(#clip520)\" d=\"M32.4621 981.66 Q32.4621 986.371 36.1542 989.108 Q39.8145 991.845 46.212 991.845 Q52.6095 991.845 56.3017 989.14 Q59.9619 986.403 59.9619 981.66 Q59.9619 976.982 56.2698 974.244 Q52.5777 971.507 46.212 971.507 Q39.8781 971.507 36.186 974.244 Q32.4621 976.982 32.4621 981.66 M27.4968 981.66 Q27.4968 974.021 32.4621 969.661 Q37.4273 965.3 46.212 965.3 Q54.9649 965.3 59.9619 969.661 Q64.9272 974.021 64.9272 981.66 Q64.9272 989.331 59.9619 993.691 Q54.9649 998.02 46.212 998.02 Q37.4273 998.02 32.4621 993.691 Q27.4968 989.331 27.4968 981.66 Z\" fill=\"#000000\" fill-rule=\"evenodd\" fill-opacity=\"1\" /><path clip-path=\"url(#clip520)\" d=\"M29.4065 932.867 L34.9447 932.867 Q33.6716 935.35 33.035 938.023 Q32.3984 940.697 32.3984 943.562 Q32.3984 947.922 33.7352 950.118 Q35.072 952.283 37.7456 952.283 Q39.7826 952.283 40.9603 950.723 Q42.1061 949.163 43.1565 944.453 L43.6021 942.448 Q44.9389 936.209 47.3897 933.599 Q49.8086 930.957 54.1691 930.957 Q59.1344 930.957 62.0308 934.904 Q64.9272 938.819 64.9272 945.694 Q64.9272 948.559 64.3543 951.678 Q63.8132 954.765 62.6992 958.203 L56.6518 958.203 Q58.3387 954.956 59.198 951.805 Q60.0256 948.654 60.0256 945.567 Q60.0256 941.429 58.6251 939.201 Q57.1929 936.973 54.6147 936.973 Q52.2276 936.973 50.9545 938.596 Q49.6813 940.188 48.5037 945.63 L48.0262 947.667 Q46.8804 953.11 44.5251 955.529 Q42.138 957.948 38.0002 957.948 Q32.9713 957.948 30.2341 954.383 Q27.4968 950.818 27.4968 944.262 Q27.4968 941.015 27.9743 938.151 Q28.4517 935.286 29.4065 932.867 Z\" fill=\"#000000\" fill-rule=\"evenodd\" fill-opacity=\"1\" /><path clip-path=\"url(#clip520)\" d=\"M29.4065 898.906 L34.9447 898.906 Q33.6716 901.389 33.035 904.062 Q32.3984 906.736 32.3984 909.601 Q32.3984 913.961 33.7352 916.157 Q35.072 918.322 37.7456 918.322 Q39.7826 918.322 40.9603 916.762 Q42.1061 915.202 43.1565 910.492 L43.6021 908.487 Q44.9389 902.248 47.3897 899.638 Q49.8086 896.996 54.1691 896.996 Q59.1344 896.996 62.0308 900.943 Q64.9272 904.858 64.9272 911.733 Q64.9272 914.598 64.3543 917.717 Q63.8132 920.804 62.6992 924.242 L56.6518 924.242 Q58.3387 920.995 59.198 917.844 Q60.0256 914.693 60.0256 911.606 Q60.0256 907.468 58.6251 905.24 Q57.1929 903.012 54.6147 903.012 Q52.2276 903.012 50.9545 904.635 Q49.6813 906.227 48.5037 911.669 L48.0262 913.706 Q46.8804 919.149 44.5251 921.568 Q42.138 923.987 38.0002 923.987 Q32.9713 923.987 30.2341 920.422 Q27.4968 916.857 27.4968 910.301 Q27.4968 907.054 27.9743 904.19 Q28.4517 901.325 29.4065 898.906 Z\" fill=\"#000000\" fill-rule=\"evenodd\" fill-opacity=\"1\" /><path clip-path=\"url(#clip520)\" d=\"M14.5426 852.882 Q21.8632 857.147 29.0246 859.216 Q36.186 861.285 43.5384 861.285 Q50.8908 861.285 58.1159 859.216 Q65.3091 857.115 72.5979 852.882 L72.5979 857.975 Q65.1182 862.749 57.8931 865.136 Q50.668 867.491 43.5384 867.491 Q36.4406 867.491 29.2474 865.136 Q22.0542 862.781 14.5426 857.975 L14.5426 852.882 Z\" fill=\"#000000\" fill-rule=\"evenodd\" fill-opacity=\"1\" /><path clip-path=\"url(#clip520)\" d=\"M14.479 841.519 L14.479 835.663 L64.0042 835.663 L64.0042 841.519 L14.479 841.519 Z\" fill=\"#000000\" fill-rule=\"evenodd\" fill-opacity=\"1\" /><path clip-path=\"url(#clip520)\" d=\"M32.4621 809.595 Q32.4621 814.306 36.1542 817.043 Q39.8145 819.78 46.212 819.78 Q52.6095 819.78 56.3017 817.075 Q59.9619 814.338 59.9619 809.595 Q59.9619 804.916 56.2698 802.179 Q52.5777 799.442 46.212 799.442 Q39.8781 799.442 36.186 802.179 Q32.4621 804.916 32.4621 809.595 M27.4968 809.595 Q27.4968 801.956 32.4621 797.596 Q37.4273 793.235 46.212 793.235 Q54.9649 793.235 59.9619 797.596 Q64.9272 801.956 64.9272 809.595 Q64.9272 817.266 59.9619 821.626 Q54.9649 825.955 46.212 825.955 Q37.4273 825.955 32.4621 821.626 Q27.4968 817.266 27.4968 809.595 Z\" fill=\"#000000\" fill-rule=\"evenodd\" fill-opacity=\"1\" /><path clip-path=\"url(#clip520)\" d=\"M45.7664 760.07 Q39.4007 760.07 35.8996 762.712 Q32.3984 765.322 32.3984 770.064 Q32.3984 774.775 35.8996 777.417 Q39.4007 780.027 45.7664 780.027 Q52.1003 780.027 55.6014 777.417 Q59.1026 774.775 59.1026 770.064 Q59.1026 765.322 55.6014 762.712 Q52.1003 760.07 45.7664 760.07 M59.58 754.214 Q68.683 754.214 73.1071 758.256 Q77.5631 762.298 77.5631 770.637 Q77.5631 773.724 77.0857 776.462 Q76.6401 779.199 75.6852 781.777 L69.9879 781.777 Q71.3884 779.199 72.0568 776.685 Q72.7252 774.17 72.7252 771.56 Q72.7252 765.799 69.7015 762.935 Q66.7096 760.07 60.6303 760.07 L57.7339 760.07 Q60.885 761.884 62.4446 764.717 Q64.0042 767.55 64.0042 771.496 Q64.0042 778.053 59.0071 782.064 Q54.01 786.074 45.7664 786.074 Q37.491 786.074 32.4939 782.064 Q27.4968 778.053 27.4968 771.496 Q27.4968 767.55 29.0564 764.717 Q30.616 761.884 33.7671 760.07 L28.3562 760.07 L28.3562 754.214 L59.58 754.214 Z\" fill=\"#000000\" fill-rule=\"evenodd\" fill-opacity=\"1\" /><path clip-path=\"url(#clip520)\" d=\"M58.5933 740.209 L58.5933 729.706 L22.3406 729.706 L24.6323 741.132 L18.7758 741.132 L16.4842 729.769 L16.4842 723.34 L58.5933 723.34 L58.5933 712.837 L64.0042 712.837 L64.0042 740.209 L58.5933 740.209 Z\" fill=\"#000000\" fill-rule=\"evenodd\" fill-opacity=\"1\" /><path clip-path=\"url(#clip520)\" d=\"M20.7174 686.101 Q20.7174 691.066 25.6189 693.58 Q30.4887 696.063 40.2919 696.063 Q50.0633 696.063 54.9649 693.58 Q59.8346 691.066 59.8346 686.101 Q59.8346 681.103 54.9649 678.621 Q50.0633 676.106 40.2919 676.106 Q30.4887 676.106 25.6189 678.621 Q20.7174 681.103 20.7174 686.101 M15.6248 686.101 Q15.6248 678.112 21.9587 673.91 Q28.2607 669.677 40.2919 669.677 Q52.2913 669.677 58.6251 673.91 Q64.9272 678.112 64.9272 686.101 Q64.9272 694.09 58.6251 698.323 Q52.2913 702.524 40.2919 702.524 Q28.2607 702.524 21.9587 698.323 Q15.6248 694.09 15.6248 686.101 Z\" fill=\"#000000\" fill-rule=\"evenodd\" fill-opacity=\"1\" /><path clip-path=\"url(#clip520)\" d=\"M29.4065 615.759 L34.9447 615.759 Q33.6716 618.242 33.035 620.916 Q32.3984 623.589 32.3984 626.454 Q32.3984 630.814 33.7352 633.011 Q35.072 635.175 37.7456 635.175 Q39.7826 635.175 40.9603 633.615 Q42.1061 632.056 43.1565 627.345 L43.6021 625.34 Q44.9389 619.101 47.3897 616.492 Q49.8086 613.85 54.1691 613.85 Q59.1344 613.85 62.0308 617.797 Q64.9272 621.711 64.9272 628.586 Q64.9272 631.451 64.3543 634.57 Q63.8132 637.658 62.6992 641.095 L56.6518 641.095 Q58.3387 637.848 59.198 634.697 Q60.0256 631.546 60.0256 628.459 Q60.0256 624.321 58.6251 622.093 Q57.1929 619.865 54.6147 619.865 Q52.2276 619.865 50.9545 621.489 Q49.6813 623.08 48.5037 628.523 L48.0262 630.56 Q46.8804 636.002 44.5251 638.421 Q42.138 640.84 38.0002 640.84 Q32.9713 640.84 30.2341 637.276 Q27.4968 633.711 27.4968 627.154 Q27.4968 623.908 27.9743 621.043 Q28.4517 618.178 29.4065 615.759 Z\" fill=\"#000000\" fill-rule=\"evenodd\" fill-opacity=\"1\" /><path clip-path=\"url(#clip520)\" d=\"M29.7248 578.87 L35.1993 578.87 Q33.8307 581.353 33.1623 583.867 Q32.4621 586.35 32.4621 588.896 Q32.4621 594.594 36.0905 597.745 Q39.6872 600.896 46.212 600.896 Q52.7369 600.896 56.3653 597.745 Q59.9619 594.594 59.9619 588.896 Q59.9619 586.35 59.2935 583.867 Q58.5933 581.353 57.2247 578.87 L62.6355 578.87 Q63.7814 581.321 64.3543 583.963 Q64.9272 586.573 64.9272 589.533 Q64.9272 597.585 59.8664 602.328 Q54.8057 607.07 46.212 607.07 Q37.491 607.07 32.4939 602.296 Q27.4968 597.49 27.4968 589.151 Q27.4968 586.445 28.0697 583.867 Q28.6108 581.289 29.7248 578.87 Z\" fill=\"#000000\" fill-rule=\"evenodd\" fill-opacity=\"1\" /><path clip-path=\"url(#clip520)\" d=\"M46.0847 552.484 Q46.0847 559.582 47.7079 562.319 Q49.3312 565.057 53.2461 565.057 Q56.3653 565.057 58.2114 563.02 Q60.0256 560.951 60.0256 557.418 Q60.0256 552.548 56.5881 549.62 Q53.1188 546.66 47.3897 546.66 L46.0847 546.66 L46.0847 552.484 M43.6657 540.803 L64.0042 540.803 L64.0042 546.66 L58.5933 546.66 Q61.8398 548.665 63.3994 551.657 Q64.9272 554.649 64.9272 558.977 Q64.9272 564.452 61.8716 567.698 Q58.7843 570.913 53.6281 570.913 Q47.6125 570.913 44.5569 566.903 Q41.5014 562.86 41.5014 554.871 L41.5014 546.66 L40.9285 546.66 Q36.8862 546.66 34.6901 549.333 Q32.4621 551.975 32.4621 556.781 Q32.4621 559.837 33.1941 562.733 Q33.9262 565.63 35.3903 568.303 L29.9795 568.303 Q28.7381 565.088 28.1334 562.065 Q27.4968 559.041 27.4968 556.176 Q27.4968 548.442 31.5072 544.623 Q35.5176 540.803 43.6657 540.803 Z\" fill=\"#000000\" fill-rule=\"evenodd\" fill-opacity=\"1\" /><path clip-path=\"url(#clip520)\" d=\"M14.479 528.74 L14.479 522.884 L64.0042 522.884 L64.0042 528.74 L14.479 528.74 Z\" fill=\"#000000\" fill-rule=\"evenodd\" fill-opacity=\"1\" /><path clip-path=\"url(#clip520)\" d=\"M44.7161 480.138 L47.5806 480.138 L47.5806 507.065 Q53.6281 506.683 56.8109 503.437 Q59.9619 500.158 59.9619 494.334 Q59.9619 490.96 59.1344 487.809 Q58.3069 484.626 56.6518 481.507 L62.1899 481.507 Q63.5267 484.658 64.227 487.968 Q64.9272 491.278 64.9272 494.684 Q64.9272 503.214 59.9619 508.211 Q54.9967 513.176 46.5303 513.176 Q37.7774 513.176 32.6531 508.465 Q27.4968 503.723 27.4968 495.702 Q27.4968 488.509 32.1438 484.339 Q36.7589 480.138 44.7161 480.138 M42.9973 485.995 Q38.1912 486.058 35.3266 488.7 Q32.4621 491.31 32.4621 495.639 Q32.4621 500.54 35.2312 503.5 Q38.0002 506.428 43.0292 506.874 L42.9973 485.995 Z\" fill=\"#000000\" fill-rule=\"evenodd\" fill-opacity=\"1\" /><path clip-path=\"url(#clip520)\" d=\"M14.5426 471.449 L14.5426 466.356 Q22.0542 461.582 29.2474 459.227 Q36.4406 456.84 43.5384 456.84 Q50.668 456.84 57.8931 459.227 Q65.1182 461.582 72.5979 466.356 L72.5979 471.449 Q65.3091 467.216 58.1159 465.147 Q50.8908 463.046 43.5384 463.046 Q36.186 463.046 29.0246 465.147 Q21.8632 467.216 14.5426 471.449 Z\" fill=\"#000000\" fill-rule=\"evenodd\" fill-opacity=\"1\" /><polyline clip-path=\"url(#clip522)\" style=\"stroke:#009af9; stroke-linecap:butt; stroke-linejoin:round; stroke-width:4; stroke-opacity:1; fill:none\" points=\"\n",
       "  341.201,86.1857 351.015,373.727 360.829,532.791 370.643,624.23 380.456,689.453 390.27,750.929 400.084,788.226 409.898,820.359 419.712,851.221 429.526,879.751 \n",
       "  439.34,903.98 449.154,922.931 458.968,936.841 468.782,946.881 478.595,954.484 488.409,960.883 498.223,966.914 508.037,973.383 517.851,979.72 527.665,986.35 \n",
       "  537.479,993.018 547.293,1000.54 557.107,1008.38 566.921,1016.55 576.734,1025.13 586.548,1034.13 596.362,1043.54 606.176,1053.35 615.99,1063.55 625.804,1074.1 \n",
       "  635.618,1084.98 645.432,1096.15 655.246,1107.56 665.06,1119.14 674.873,1130.85 684.687,1142.59 694.501,1154.31 704.315,1165.92 714.129,1177.33 723.943,1188.5 \n",
       "  733.757,1199.35 743.571,1209.83 753.385,1219.92 763.199,1229.6 773.012,1238.87 782.826,1247.73 792.64,1256.2 802.454,1264.3 812.268,1272.04 822.082,1279.45 \n",
       "  831.896,1283.28 841.71,1291.54 851.524,1296.39 861.338,1301.15 871.151,1305.85 880.965,1310.34 890.779,1313.04 900.593,1315.84 910.407,1318.6 920.221,1321.37 \n",
       "  930.035,1324.16 939.849,1322.05 949.663,1327.8 959.477,1329.3 969.29,1330.81 979.104,1332.33 988.918,1333.89 998.732,1335.49 1008.55,1337.1 1018.36,1338.53 \n",
       "  1028.17,1339.02 1037.99,1339.98 1047.8,1340.69 1057.62,1341.42 1067.43,1342.16 1077.24,1342.92 1087.06,1343.69 1096.87,1344.48 1106.69,1345.28 1116.5,1346.1 \n",
       "  1126.31,1346.93 1136.13,1347.78 1145.94,1348.65 1155.75,1349.53 1165.57,1350.43 1175.38,1350.87 1185.2,1351.76 1195.01,1352.45 1204.82,1353.14 1214.64,1353.85 \n",
       "  1224.45,1350.55 1234.27,1355.1 1244.08,1355.76 1253.89,1356.24 1263.71,1356.87 1273.52,1357.54 1283.34,1358.08 1293.15,1358.63 1302.96,1359.01 1312.78,1356.89 \n",
       "  1322.59,1360.18 1332.4,1360.22 1342.22,1361.14 1352.03,1360.87 1361.85,1362.04 1371.66,1362.04 1381.47,1359.91 1391.29,1363.26 1401.1,1363.46 1410.92,1363.73 \n",
       "  1420.73,1364.14 1430.54,1364.56 1440.36,1365.32 1450.17,1364.08 1459.99,1363.76 1469.8,1364.97 1479.61,1366.8 1489.43,1367.17 1499.24,1367.04 1509.05,1367.63 \n",
       "  1518.87,1364.86 1528.68,1368.53 1538.5,1368.68 1548.31,1369.14 1558.12,1367.51 1567.94,1369.73 1577.75,1369.73 1587.57,1369.21 1597.38,1370.65 1607.19,1370.93 \n",
       "  1617.01,1371.22 1626.82,1371.13 1636.64,1371.18 1646.45,1371.43 1656.26,1369.63 1666.08,1372.25 1675.89,1370.99 1685.71,1372.94 1695.52,1372.1 1705.33,1372.69 \n",
       "  1715.15,1373.64 1724.96,1374.06 1734.77,1372.27 1744.59,1373.61 1754.4,1374.76 1764.22,1373.7 1774.03,1374.91 1783.84,1374.18 1793.66,1375.49 1803.47,1374.86 \n",
       "  1813.29,1375.81 1823.1,1375.18 1832.91,1376.25 1842.73,1372.59 1852.54,1376.89 1862.36,1376.8 1872.17,1377.12 1881.98,1376.61 1891.8,1377.39 1901.61,1377.69 \n",
       "  1911.42,1378.04 1921.24,1378.27 1931.05,1377.99 1940.87,1378.61 1950.68,1378.84 1960.49,1378.49 1970.31,1378.09 1980.12,1379.32 1989.94,1376.99 1999.75,1379.72 \n",
       "  2009.56,1379.86 2019.38,1379.2 2029.19,1380.2 2039.01,1380.39 2048.82,1380.19 2058.63,1380.7 2068.45,1380.9 2078.26,1379.98 2088.08,1381 2097.89,1380.17 \n",
       "  2107.7,1381.25 2117.52,1379.11 2127.33,1381.76 2137.14,1381.83 2146.96,1380.86 2156.77,1382.22 2166.59,1380.18 2176.4,1382.51 2186.21,1382.52 2196.03,1382.11 \n",
       "  2205.84,1382.01 2215.66,1382.11 2225.47,1382.37 2235.28,1383.45 2245.1,1381.76 2254.91,1382.17 2264.73,1381.86 2274.54,1383.99 2284.35,1384.1 2294.17,1384.24 \n",
       "  \n",
       "  \"/>\n",
       "<path clip-path=\"url(#clip520)\" d=\"\n",
       "M1968.94 196.789 L2283.75 196.789 L2283.75 93.1086 L1968.94 93.1086  Z\n",
       "  \" fill=\"#ffffff\" fill-rule=\"evenodd\" fill-opacity=\"1\"/>\n",
       "<polyline clip-path=\"url(#clip520)\" style=\"stroke:#000000; stroke-linecap:butt; stroke-linejoin:round; stroke-width:4; stroke-opacity:1; fill:none\" points=\"\n",
       "  1968.94,196.789 2283.75,196.789 2283.75,93.1086 1968.94,93.1086 1968.94,196.789 \n",
       "  \"/>\n",
       "<polyline clip-path=\"url(#clip520)\" style=\"stroke:#009af9; stroke-linecap:butt; stroke-linejoin:round; stroke-width:4; stroke-opacity:1; fill:none\" points=\"\n",
       "  1991.95,144.949 2129.96,144.949 \n",
       "  \"/>\n",
       "<path clip-path=\"url(#clip520)\" d=\"M2152.96 126.21 L2157.22 126.21 L2157.22 162.229 L2152.96 162.229 L2152.96 126.21 Z\" fill=\"#000000\" fill-rule=\"evenodd\" fill-opacity=\"1\" /><path clip-path=\"url(#clip520)\" d=\"M2176.17 139.289 Q2172.75 139.289 2170.76 141.974 Q2168.77 144.636 2168.77 149.289 Q2168.77 153.942 2170.73 156.627 Q2172.73 159.289 2176.17 159.289 Q2179.58 159.289 2181.57 156.604 Q2183.56 153.918 2183.56 149.289 Q2183.56 144.682 2181.57 141.997 Q2179.58 139.289 2176.17 139.289 M2176.17 135.678 Q2181.73 135.678 2184.9 139.289 Q2188.07 142.9 2188.07 149.289 Q2188.07 155.655 2184.9 159.289 Q2181.73 162.9 2176.17 162.9 Q2170.6 162.9 2167.42 159.289 Q2164.28 155.655 2164.28 149.289 Q2164.28 142.9 2167.42 139.289 Q2170.6 135.678 2176.17 135.678 Z\" fill=\"#000000\" fill-rule=\"evenodd\" fill-opacity=\"1\" /><path clip-path=\"url(#clip520)\" d=\"M2211.66 137.067 L2211.66 141.094 Q2209.85 140.169 2207.91 139.706 Q2205.97 139.243 2203.88 139.243 Q2200.71 139.243 2199.11 140.215 Q2197.54 141.187 2197.54 143.131 Q2197.54 144.613 2198.67 145.469 Q2199.81 146.303 2203.23 147.067 L2204.69 147.391 Q2209.23 148.363 2211.13 150.145 Q2213.05 151.905 2213.05 155.076 Q2213.05 158.687 2210.18 160.793 Q2207.33 162.9 2202.33 162.9 Q2200.25 162.9 2197.98 162.483 Q2195.73 162.09 2193.23 161.28 L2193.23 156.881 Q2195.6 158.108 2197.89 158.733 Q2200.18 159.335 2202.42 159.335 Q2205.43 159.335 2207.05 158.317 Q2208.67 157.275 2208.67 155.4 Q2208.67 153.664 2207.49 152.738 Q2206.34 151.812 2202.38 150.956 L2200.9 150.608 Q2196.94 149.775 2195.18 148.062 Q2193.42 146.326 2193.42 143.317 Q2193.42 139.659 2196.01 137.669 Q2198.6 135.678 2203.37 135.678 Q2205.73 135.678 2207.82 136.025 Q2209.9 136.372 2211.66 137.067 Z\" fill=\"#000000\" fill-rule=\"evenodd\" fill-opacity=\"1\" /><path clip-path=\"url(#clip520)\" d=\"M2236.36 137.067 L2236.36 141.094 Q2234.55 140.169 2232.61 139.706 Q2230.66 139.243 2228.58 139.243 Q2225.41 139.243 2223.81 140.215 Q2222.24 141.187 2222.24 143.131 Q2222.24 144.613 2223.37 145.469 Q2224.51 146.303 2227.93 147.067 L2229.39 147.391 Q2233.93 148.363 2235.83 150.145 Q2237.75 151.905 2237.75 155.076 Q2237.75 158.687 2234.88 160.793 Q2232.03 162.9 2227.03 162.9 Q2224.95 162.9 2222.68 162.483 Q2220.43 162.09 2217.93 161.28 L2217.93 156.881 Q2220.29 158.108 2222.59 158.733 Q2224.88 159.335 2227.12 159.335 Q2230.13 159.335 2231.75 158.317 Q2233.37 157.275 2233.37 155.4 Q2233.37 153.664 2232.19 152.738 Q2231.03 151.812 2227.08 150.956 L2225.6 150.608 Q2221.64 149.775 2219.88 148.062 Q2218.12 146.326 2218.12 143.317 Q2218.12 139.659 2220.71 137.669 Q2223.3 135.678 2228.07 135.678 Q2230.43 135.678 2232.52 136.025 Q2234.6 136.372 2236.36 137.067 Z\" fill=\"#000000\" fill-rule=\"evenodd\" fill-opacity=\"1\" /></svg>\n"
      ]
     },
     "metadata": {},
     "output_type": "display_data"
    }
   ],
   "source": [
    "ad_backend = Lux.Training.ZygoteVJP()\n",
    "\n",
    "opt = Optimisers.ADAM()\n",
    "trainstate = Lux.Training.TrainState(rng, model, opt)\n",
    "\n",
    "data = Array(ode_sol)\n",
    "n_epochs = 10_000\n",
    "\n",
    "losses = Float64[]\n",
    "epochs = Int[]\n",
    "\n",
    "for epoch in 1:n_epochs\n",
    "    grads, loss, statistics, trainstate = Lux.Training.compute_gradients(\n",
    "        ad_backend, loss_function, data, trainstate)\n",
    "\n",
    "    if epoch % 50 == 0\n",
    "        push!(losses, loss)\n",
    "        push!(epochs, epoch)\n",
    "        Plots.plot(epochs, losses, show = :inline, yscale = :log10,\n",
    "            label = \"loss\", xlabel = \"#epochs\", ylabel=\"loss (log10 scale)\")\n",
    "    end\n",
    "    \n",
    "    if epoch == 5_000\n",
    "        ps, st = Lux.setup(rng, model) .|> transform_variables\n",
    "        st_opt = Optimisers.setup(Optimisers.(), ps)\n",
    "        trainstate = Lux.Training.TrainState(\n",
    "            trainstate.model,\n",
    "            trainstate.parameters,\n",
    "            trainstate.states,\n",
    "            trainstate.\n",
    "        )\n",
    "\n",
    "    trainstate = Lux.Training.apply_gradients(trainstate, grads)\n",
    "end"
   ]
  },
  {
   "cell_type": "code",
   "execution_count": 49,
   "metadata": {},
   "outputs": [
    {
     "data": {
      "text/plain": [
       "Leaf(Adam{Float32}(0.001, (0.9, 0.999), 1.19209f-7), ([-47.0884, 13.1207, -27.2123, 114.853], [2.72427e6, 5.09517e6, 1.3179e7, 5.35207e7], (6.0f-45, 4.5134f-5)))"
      ]
     },
     "execution_count": 49,
     "metadata": {},
     "output_type": "execute_result"
    }
   ],
   "source": [
    "trainstate.optimizer_state"
   ]
  },
  {
   "cell_type": "code",
   "execution_count": 39,
   "metadata": {},
   "outputs": [
    {
     "data": {
      "image/svg+xml": [
       "<?xml version=\"1.0\" encoding=\"utf-8\"?>\n",
       "<svg xmlns=\"http://www.w3.org/2000/svg\" xmlns:xlink=\"http://www.w3.org/1999/xlink\" width=\"600\" height=\"400\" viewBox=\"0 0 2400 1600\">\n",
       "<defs>\n",
       "  <clipPath id=\"clip560\">\n",
       "    <rect x=\"0\" y=\"0\" width=\"2400\" height=\"1600\"/>\n",
       "  </clipPath>\n",
       "</defs>\n",
       "<path clip-path=\"url(#clip560)\" d=\"\n",
       "M0 1600 L2400 1600 L2400 0 L0 0  Z\n",
       "  \" fill=\"#ffffff\" fill-rule=\"evenodd\" fill-opacity=\"1\"/>\n",
       "<defs>\n",
       "  <clipPath id=\"clip561\">\n",
       "    <rect x=\"480\" y=\"0\" width=\"1681\" height=\"1600\"/>\n",
       "  </clipPath>\n",
       "</defs>\n",
       "<path clip-path=\"url(#clip560)\" d=\"\n",
       "M155.765 1423.18 L2352.76 1423.18 L2352.76 47.2441 L155.765 47.2441  Z\n",
       "  \" fill=\"#ffffff\" fill-rule=\"evenodd\" fill-opacity=\"1\"/>\n",
       "<defs>\n",
       "  <clipPath id=\"clip562\">\n",
       "    <rect x=\"155\" y=\"47\" width=\"2198\" height=\"1377\"/>\n",
       "  </clipPath>\n",
       "</defs>\n",
       "<polyline clip-path=\"url(#clip562)\" style=\"stroke:#000000; stroke-linecap:butt; stroke-linejoin:round; stroke-width:2; stroke-opacity:0.1; fill:none\" points=\"\n",
       "  155.765,1423.18 155.765,47.2441 \n",
       "  \"/>\n",
       "<polyline clip-path=\"url(#clip562)\" style=\"stroke:#000000; stroke-linecap:butt; stroke-linejoin:round; stroke-width:2; stroke-opacity:0.1; fill:none\" points=\"\n",
       "  595.163,1423.18 595.163,47.2441 \n",
       "  \"/>\n",
       "<polyline clip-path=\"url(#clip562)\" style=\"stroke:#000000; stroke-linecap:butt; stroke-linejoin:round; stroke-width:2; stroke-opacity:0.1; fill:none\" points=\"\n",
       "  1034.56,1423.18 1034.56,47.2441 \n",
       "  \"/>\n",
       "<polyline clip-path=\"url(#clip562)\" style=\"stroke:#000000; stroke-linecap:butt; stroke-linejoin:round; stroke-width:2; stroke-opacity:0.1; fill:none\" points=\"\n",
       "  1473.96,1423.18 1473.96,47.2441 \n",
       "  \"/>\n",
       "<polyline clip-path=\"url(#clip562)\" style=\"stroke:#000000; stroke-linecap:butt; stroke-linejoin:round; stroke-width:2; stroke-opacity:0.1; fill:none\" points=\"\n",
       "  1913.36,1423.18 1913.36,47.2441 \n",
       "  \"/>\n",
       "<polyline clip-path=\"url(#clip562)\" style=\"stroke:#000000; stroke-linecap:butt; stroke-linejoin:round; stroke-width:2; stroke-opacity:0.1; fill:none\" points=\"\n",
       "  2352.76,1423.18 2352.76,47.2441 \n",
       "  \"/>\n",
       "<polyline clip-path=\"url(#clip560)\" style=\"stroke:#000000; stroke-linecap:butt; stroke-linejoin:round; stroke-width:4; stroke-opacity:1; fill:none\" points=\"\n",
       "  155.765,1423.18 2352.76,1423.18 \n",
       "  \"/>\n",
       "<polyline clip-path=\"url(#clip560)\" style=\"stroke:#000000; stroke-linecap:butt; stroke-linejoin:round; stroke-width:4; stroke-opacity:1; fill:none\" points=\"\n",
       "  155.765,1423.18 155.765,1404.28 \n",
       "  \"/>\n",
       "<polyline clip-path=\"url(#clip560)\" style=\"stroke:#000000; stroke-linecap:butt; stroke-linejoin:round; stroke-width:4; stroke-opacity:1; fill:none\" points=\"\n",
       "  595.163,1423.18 595.163,1404.28 \n",
       "  \"/>\n",
       "<polyline clip-path=\"url(#clip560)\" style=\"stroke:#000000; stroke-linecap:butt; stroke-linejoin:round; stroke-width:4; stroke-opacity:1; fill:none\" points=\"\n",
       "  1034.56,1423.18 1034.56,1404.28 \n",
       "  \"/>\n",
       "<polyline clip-path=\"url(#clip560)\" style=\"stroke:#000000; stroke-linecap:butt; stroke-linejoin:round; stroke-width:4; stroke-opacity:1; fill:none\" points=\"\n",
       "  1473.96,1423.18 1473.96,1404.28 \n",
       "  \"/>\n",
       "<polyline clip-path=\"url(#clip560)\" style=\"stroke:#000000; stroke-linecap:butt; stroke-linejoin:round; stroke-width:4; stroke-opacity:1; fill:none\" points=\"\n",
       "  1913.36,1423.18 1913.36,1404.28 \n",
       "  \"/>\n",
       "<polyline clip-path=\"url(#clip560)\" style=\"stroke:#000000; stroke-linecap:butt; stroke-linejoin:round; stroke-width:4; stroke-opacity:1; fill:none\" points=\"\n",
       "  2352.76,1423.18 2352.76,1404.28 \n",
       "  \"/>\n",
       "<path clip-path=\"url(#clip560)\" d=\"M155.765 1454.1 Q152.154 1454.1 150.325 1457.66 Q148.52 1461.2 148.52 1468.33 Q148.52 1475.44 150.325 1479.01 Q152.154 1482.55 155.765 1482.55 Q159.399 1482.55 161.205 1479.01 Q163.033 1475.44 163.033 1468.33 Q163.033 1461.2 161.205 1457.66 Q159.399 1454.1 155.765 1454.1 M155.765 1450.39 Q161.575 1450.39 164.631 1455 Q167.709 1459.58 167.709 1468.33 Q167.709 1477.06 164.631 1481.67 Q161.575 1486.25 155.765 1486.25 Q149.955 1486.25 146.876 1481.67 Q143.821 1477.06 143.821 1468.33 Q143.821 1459.58 146.876 1455 Q149.955 1450.39 155.765 1450.39 Z\" fill=\"#000000\" fill-rule=\"evenodd\" fill-opacity=\"1\" /><path clip-path=\"url(#clip560)\" d=\"M589.816 1481.64 L606.135 1481.64 L606.135 1485.58 L584.191 1485.58 L584.191 1481.64 Q586.853 1478.89 591.436 1474.26 Q596.043 1469.61 597.223 1468.27 Q599.469 1465.74 600.348 1464.01 Q601.251 1462.25 601.251 1460.56 Q601.251 1457.8 599.307 1456.07 Q597.385 1454.33 594.283 1454.33 Q592.084 1454.33 589.631 1455.09 Q587.2 1455.86 584.422 1457.41 L584.422 1452.69 Q587.246 1451.55 589.7 1450.97 Q592.154 1450.39 594.191 1450.39 Q599.561 1450.39 602.756 1453.08 Q605.95 1455.77 605.95 1460.26 Q605.95 1462.39 605.14 1464.31 Q604.353 1466.2 602.246 1468.8 Q601.668 1469.47 598.566 1472.69 Q595.464 1475.88 589.816 1481.64 Z\" fill=\"#000000\" fill-rule=\"evenodd\" fill-opacity=\"1\" /><path clip-path=\"url(#clip560)\" d=\"M1037.57 1455.09 L1025.77 1473.54 L1037.57 1473.54 L1037.57 1455.09 M1036.34 1451.02 L1042.22 1451.02 L1042.22 1473.54 L1047.15 1473.54 L1047.15 1477.43 L1042.22 1477.43 L1042.22 1485.58 L1037.57 1485.58 L1037.57 1477.43 L1021.97 1477.43 L1021.97 1472.92 L1036.34 1451.02 Z\" fill=\"#000000\" fill-rule=\"evenodd\" fill-opacity=\"1\" /><path clip-path=\"url(#clip560)\" d=\"M1474.36 1466.44 Q1471.22 1466.44 1469.36 1468.59 Q1467.54 1470.74 1467.54 1474.49 Q1467.54 1478.22 1469.36 1480.39 Q1471.22 1482.55 1474.36 1482.55 Q1477.51 1482.55 1479.34 1480.39 Q1481.19 1478.22 1481.19 1474.49 Q1481.19 1470.74 1479.34 1468.59 Q1477.51 1466.44 1474.36 1466.44 M1483.65 1451.78 L1483.65 1456.04 Q1481.89 1455.21 1480.08 1454.77 Q1478.3 1454.33 1476.54 1454.33 Q1471.91 1454.33 1469.46 1457.45 Q1467.03 1460.58 1466.68 1466.9 Q1468.05 1464.89 1470.11 1463.82 Q1472.17 1462.73 1474.64 1462.73 Q1479.85 1462.73 1482.86 1465.9 Q1485.89 1469.05 1485.89 1474.49 Q1485.89 1479.82 1482.74 1483.03 Q1479.6 1486.25 1474.36 1486.25 Q1468.37 1486.25 1465.2 1481.67 Q1462.03 1477.06 1462.03 1468.33 Q1462.03 1460.14 1465.92 1455.28 Q1469.8 1450.39 1476.36 1450.39 Q1478.11 1450.39 1479.9 1450.74 Q1481.7 1451.09 1483.65 1451.78 Z\" fill=\"#000000\" fill-rule=\"evenodd\" fill-opacity=\"1\" /><path clip-path=\"url(#clip560)\" d=\"M1913.36 1469.17 Q1910.02 1469.17 1908.1 1470.95 Q1906.2 1472.73 1906.2 1475.86 Q1906.2 1478.98 1908.1 1480.77 Q1910.02 1482.55 1913.36 1482.55 Q1916.69 1482.55 1918.61 1480.77 Q1920.53 1478.96 1920.53 1475.86 Q1920.53 1472.73 1918.61 1470.95 Q1916.71 1469.17 1913.36 1469.17 M1908.68 1467.18 Q1905.67 1466.44 1903.98 1464.38 Q1902.32 1462.32 1902.32 1459.35 Q1902.32 1455.21 1905.26 1452.8 Q1908.22 1450.39 1913.36 1450.39 Q1918.52 1450.39 1921.46 1452.8 Q1924.4 1455.21 1924.4 1459.35 Q1924.4 1462.32 1922.71 1464.38 Q1921.04 1466.44 1918.06 1467.18 Q1921.44 1467.96 1923.31 1470.26 Q1925.21 1472.55 1925.21 1475.86 Q1925.21 1480.88 1922.13 1483.57 Q1919.08 1486.25 1913.36 1486.25 Q1907.64 1486.25 1904.56 1483.57 Q1901.51 1480.88 1901.51 1475.86 Q1901.51 1472.55 1903.4 1470.26 Q1905.3 1467.96 1908.68 1467.18 M1906.97 1459.79 Q1906.97 1462.48 1908.64 1463.98 Q1910.33 1465.49 1913.36 1465.49 Q1916.37 1465.49 1918.06 1463.98 Q1919.77 1462.48 1919.77 1459.79 Q1919.77 1457.11 1918.06 1455.6 Q1916.37 1454.1 1913.36 1454.1 Q1910.33 1454.1 1908.64 1455.6 Q1906.97 1457.11 1906.97 1459.79 Z\" fill=\"#000000\" fill-rule=\"evenodd\" fill-opacity=\"1\" /><path clip-path=\"url(#clip560)\" d=\"M2327.44 1481.64 L2335.08 1481.64 L2335.08 1455.28 L2326.77 1456.95 L2326.77 1452.69 L2335.04 1451.02 L2339.71 1451.02 L2339.71 1481.64 L2347.35 1481.64 L2347.35 1485.58 L2327.44 1485.58 L2327.44 1481.64 Z\" fill=\"#000000\" fill-rule=\"evenodd\" fill-opacity=\"1\" /><path clip-path=\"url(#clip560)\" d=\"M2366.8 1454.1 Q2363.18 1454.1 2361.36 1457.66 Q2359.55 1461.2 2359.55 1468.33 Q2359.55 1475.44 2361.36 1479.01 Q2363.18 1482.55 2366.8 1482.55 Q2370.43 1482.55 2372.23 1479.01 Q2374.06 1475.44 2374.06 1468.33 Q2374.06 1461.2 2372.23 1457.66 Q2370.43 1454.1 2366.8 1454.1 M2366.8 1450.39 Q2372.61 1450.39 2375.66 1455 Q2378.74 1459.58 2378.74 1468.33 Q2378.74 1477.06 2375.66 1481.67 Q2372.61 1486.25 2366.8 1486.25 Q2360.99 1486.25 2357.91 1481.67 Q2354.85 1477.06 2354.85 1468.33 Q2354.85 1459.58 2357.91 1455 Q2360.99 1450.39 2366.8 1450.39 Z\" fill=\"#000000\" fill-rule=\"evenodd\" fill-opacity=\"1\" /><path clip-path=\"url(#clip560)\" d=\"M1253.32 1522.27 L1253.32 1532.4 L1265.38 1532.4 L1265.38 1536.95 L1253.32 1536.95 L1253.32 1556.3 Q1253.32 1560.66 1254.5 1561.9 Q1255.71 1563.14 1259.37 1563.14 L1265.38 1563.14 L1265.38 1568.04 L1259.37 1568.04 Q1252.59 1568.04 1250.01 1565.53 Q1247.43 1562.98 1247.43 1556.3 L1247.43 1536.95 L1243.14 1536.95 L1243.14 1532.4 L1247.43 1532.4 L1247.43 1522.27 L1253.32 1522.27 Z\" fill=\"#000000\" fill-rule=\"evenodd\" fill-opacity=\"1\" /><polyline clip-path=\"url(#clip562)\" style=\"stroke:#000000; stroke-linecap:butt; stroke-linejoin:round; stroke-width:2; stroke-opacity:0.1; fill:none\" points=\"\n",
       "  155.765,1384.24 2352.76,1384.24 \n",
       "  \"/>\n",
       "<polyline clip-path=\"url(#clip562)\" style=\"stroke:#000000; stroke-linecap:butt; stroke-linejoin:round; stroke-width:2; stroke-opacity:0.1; fill:none\" points=\"\n",
       "  155.765,1105.94 2352.76,1105.94 \n",
       "  \"/>\n",
       "<polyline clip-path=\"url(#clip562)\" style=\"stroke:#000000; stroke-linecap:butt; stroke-linejoin:round; stroke-width:2; stroke-opacity:0.1; fill:none\" points=\"\n",
       "  155.765,827.643 2352.76,827.643 \n",
       "  \"/>\n",
       "<polyline clip-path=\"url(#clip562)\" style=\"stroke:#000000; stroke-linecap:butt; stroke-linejoin:round; stroke-width:2; stroke-opacity:0.1; fill:none\" points=\"\n",
       "  155.765,549.346 2352.76,549.346 \n",
       "  \"/>\n",
       "<polyline clip-path=\"url(#clip562)\" style=\"stroke:#000000; stroke-linecap:butt; stroke-linejoin:round; stroke-width:2; stroke-opacity:0.1; fill:none\" points=\"\n",
       "  155.765,271.049 2352.76,271.049 \n",
       "  \"/>\n",
       "<polyline clip-path=\"url(#clip560)\" style=\"stroke:#000000; stroke-linecap:butt; stroke-linejoin:round; stroke-width:4; stroke-opacity:1; fill:none\" points=\"\n",
       "  155.765,1423.18 155.765,47.2441 \n",
       "  \"/>\n",
       "<polyline clip-path=\"url(#clip560)\" style=\"stroke:#000000; stroke-linecap:butt; stroke-linejoin:round; stroke-width:4; stroke-opacity:1; fill:none\" points=\"\n",
       "  155.765,1384.24 174.663,1384.24 \n",
       "  \"/>\n",
       "<polyline clip-path=\"url(#clip560)\" style=\"stroke:#000000; stroke-linecap:butt; stroke-linejoin:round; stroke-width:4; stroke-opacity:1; fill:none\" points=\"\n",
       "  155.765,1105.94 174.663,1105.94 \n",
       "  \"/>\n",
       "<polyline clip-path=\"url(#clip560)\" style=\"stroke:#000000; stroke-linecap:butt; stroke-linejoin:round; stroke-width:4; stroke-opacity:1; fill:none\" points=\"\n",
       "  155.765,827.643 174.663,827.643 \n",
       "  \"/>\n",
       "<polyline clip-path=\"url(#clip560)\" style=\"stroke:#000000; stroke-linecap:butt; stroke-linejoin:round; stroke-width:4; stroke-opacity:1; fill:none\" points=\"\n",
       "  155.765,549.346 174.663,549.346 \n",
       "  \"/>\n",
       "<polyline clip-path=\"url(#clip560)\" style=\"stroke:#000000; stroke-linecap:butt; stroke-linejoin:round; stroke-width:4; stroke-opacity:1; fill:none\" points=\"\n",
       "  155.765,271.049 174.663,271.049 \n",
       "  \"/>\n",
       "<path clip-path=\"url(#clip560)\" d=\"M53.3995 1397.58 L61.0384 1397.58 L61.0384 1371.22 L52.7282 1372.88 L52.7282 1368.62 L60.9921 1366.96 L65.668 1366.96 L65.668 1397.58 L73.3068 1397.58 L73.3068 1401.52 L53.3995 1401.52 L53.3995 1397.58 Z\" fill=\"#000000\" fill-rule=\"evenodd\" fill-opacity=\"1\" /><path clip-path=\"url(#clip560)\" d=\"M82.7512 1395.64 L87.6354 1395.64 L87.6354 1401.52 L82.7512 1401.52 L82.7512 1395.64 Z\" fill=\"#000000\" fill-rule=\"evenodd\" fill-opacity=\"1\" /><path clip-path=\"url(#clip560)\" d=\"M107.821 1370.04 Q104.209 1370.04 102.381 1373.6 Q100.575 1377.14 100.575 1384.27 Q100.575 1391.38 102.381 1394.94 Q104.209 1398.49 107.821 1398.49 Q111.455 1398.49 113.26 1394.94 Q115.089 1391.38 115.089 1384.27 Q115.089 1377.14 113.26 1373.6 Q111.455 1370.04 107.821 1370.04 M107.821 1366.33 Q113.631 1366.33 116.686 1370.94 Q119.765 1375.52 119.765 1384.27 Q119.765 1393 116.686 1397.61 Q113.631 1402.19 107.821 1402.19 Q102.01 1402.19 98.9317 1397.61 Q95.8761 1393 95.8761 1384.27 Q95.8761 1375.52 98.9317 1370.94 Q102.01 1366.33 107.821 1366.33 Z\" fill=\"#000000\" fill-rule=\"evenodd\" fill-opacity=\"1\" /><path clip-path=\"url(#clip560)\" d=\"M54.3949 1119.29 L62.0337 1119.29 L62.0337 1092.92 L53.7236 1094.59 L53.7236 1090.33 L61.9874 1088.66 L66.6633 1088.66 L66.6633 1119.29 L74.3022 1119.29 L74.3022 1123.22 L54.3949 1123.22 L54.3949 1119.29 Z\" fill=\"#000000\" fill-rule=\"evenodd\" fill-opacity=\"1\" /><path clip-path=\"url(#clip560)\" d=\"M83.7466 1117.34 L88.6308 1117.34 L88.6308 1123.22 L83.7466 1123.22 L83.7466 1117.34 Z\" fill=\"#000000\" fill-rule=\"evenodd\" fill-opacity=\"1\" /><path clip-path=\"url(#clip560)\" d=\"M98.8622 1088.66 L117.219 1088.66 L117.219 1092.6 L103.145 1092.6 L103.145 1101.07 Q104.163 1100.72 105.182 1100.56 Q106.2 1100.37 107.219 1100.37 Q113.006 1100.37 116.385 1103.55 Q119.765 1106.72 119.765 1112.13 Q119.765 1117.71 116.293 1120.81 Q112.82 1123.89 106.501 1123.89 Q104.325 1123.89 102.057 1123.52 Q99.8113 1123.15 97.4039 1122.41 L97.4039 1117.71 Q99.4872 1118.85 101.709 1119.4 Q103.932 1119.96 106.408 1119.96 Q110.413 1119.96 112.751 1117.85 Q115.089 1115.74 115.089 1112.13 Q115.089 1108.52 112.751 1106.42 Q110.413 1104.31 106.408 1104.31 Q104.534 1104.31 102.659 1104.73 Q100.807 1105.14 98.8622 1106.02 L98.8622 1088.66 Z\" fill=\"#000000\" fill-rule=\"evenodd\" fill-opacity=\"1\" /><path clip-path=\"url(#clip560)\" d=\"M56.6171 840.988 L72.9365 840.988 L72.9365 844.923 L50.9921 844.923 L50.9921 840.988 Q53.6541 838.234 58.2375 833.604 Q62.8439 828.951 64.0245 827.609 Q66.2698 825.086 67.1494 823.349 Q68.0522 821.59 68.0522 819.9 Q68.0522 817.146 66.1078 815.41 Q64.1865 813.674 61.0847 813.674 Q58.8856 813.674 56.4319 814.437 Q54.0014 815.201 51.2236 816.752 L51.2236 812.03 Q54.0477 810.896 56.5014 810.317 Q58.955 809.738 60.9921 809.738 Q66.3624 809.738 69.5568 812.424 Q72.7513 815.109 72.7513 819.599 Q72.7513 821.729 71.9411 823.65 Q71.1541 825.548 69.0476 828.141 Q68.4689 828.812 65.367 832.03 Q62.2652 835.224 56.6171 840.988 Z\" fill=\"#000000\" fill-rule=\"evenodd\" fill-opacity=\"1\" /><path clip-path=\"url(#clip560)\" d=\"M82.7512 839.044 L87.6354 839.044 L87.6354 844.923 L82.7512 844.923 L82.7512 839.044 Z\" fill=\"#000000\" fill-rule=\"evenodd\" fill-opacity=\"1\" /><path clip-path=\"url(#clip560)\" d=\"M107.821 813.442 Q104.209 813.442 102.381 817.007 Q100.575 820.549 100.575 827.678 Q100.575 834.785 102.381 838.349 Q104.209 841.891 107.821 841.891 Q111.455 841.891 113.26 838.349 Q115.089 834.785 115.089 827.678 Q115.089 820.549 113.26 817.007 Q111.455 813.442 107.821 813.442 M107.821 809.738 Q113.631 809.738 116.686 814.345 Q119.765 818.928 119.765 827.678 Q119.765 836.405 116.686 841.011 Q113.631 845.595 107.821 845.595 Q102.01 845.595 98.9317 841.011 Q95.8761 836.405 95.8761 827.678 Q95.8761 818.928 98.9317 814.345 Q102.01 809.738 107.821 809.738 Z\" fill=\"#000000\" fill-rule=\"evenodd\" fill-opacity=\"1\" /><path clip-path=\"url(#clip560)\" d=\"M57.6125 562.691 L73.9318 562.691 L73.9318 566.626 L51.9875 566.626 L51.9875 562.691 Q54.6495 559.936 59.2328 555.307 Q63.8393 550.654 65.0198 549.311 Q67.2652 546.788 68.1448 545.052 Q69.0476 543.293 69.0476 541.603 Q69.0476 538.848 67.1032 537.112 Q65.1819 535.376 62.08 535.376 Q59.881 535.376 57.4273 536.14 Q54.9967 536.904 52.219 538.455 L52.219 533.733 Q55.043 532.598 57.4967 532.02 Q59.9504 531.441 61.9874 531.441 Q67.3578 531.441 70.5522 534.126 Q73.7466 536.811 73.7466 541.302 Q73.7466 543.432 72.9365 545.353 Q72.1494 547.251 70.0429 549.844 Q69.4642 550.515 66.3624 553.732 Q63.2606 556.927 57.6125 562.691 Z\" fill=\"#000000\" fill-rule=\"evenodd\" fill-opacity=\"1\" /><path clip-path=\"url(#clip560)\" d=\"M83.7466 560.746 L88.6308 560.746 L88.6308 566.626 L83.7466 566.626 L83.7466 560.746 Z\" fill=\"#000000\" fill-rule=\"evenodd\" fill-opacity=\"1\" /><path clip-path=\"url(#clip560)\" d=\"M98.8622 532.066 L117.219 532.066 L117.219 536.001 L103.145 536.001 L103.145 544.473 Q104.163 544.126 105.182 543.964 Q106.2 543.779 107.219 543.779 Q113.006 543.779 116.385 546.95 Q119.765 550.121 119.765 555.538 Q119.765 561.117 116.293 564.219 Q112.82 567.297 106.501 567.297 Q104.325 567.297 102.057 566.927 Q99.8113 566.557 97.4039 565.816 L97.4039 561.117 Q99.4872 562.251 101.709 562.807 Q103.932 563.362 106.408 563.362 Q110.413 563.362 112.751 561.256 Q115.089 559.149 115.089 555.538 Q115.089 551.927 112.751 549.82 Q110.413 547.714 106.408 547.714 Q104.534 547.714 102.659 548.131 Q100.807 548.547 98.8622 549.427 L98.8622 532.066 Z\" fill=\"#000000\" fill-rule=\"evenodd\" fill-opacity=\"1\" /><path clip-path=\"url(#clip560)\" d=\"M66.7559 269.694 Q70.1124 270.412 71.9874 272.68 Q73.8855 274.949 73.8855 278.282 Q73.8855 283.398 70.367 286.199 Q66.8485 289 60.3671 289 Q58.1912 289 55.8764 288.56 Q53.5847 288.143 51.131 287.287 L51.131 282.773 Q53.0754 283.907 55.3903 284.486 Q57.7051 285.065 60.2282 285.065 Q64.6263 285.065 66.918 283.329 Q69.2328 281.592 69.2328 278.282 Q69.2328 275.227 67.08 273.514 Q64.9504 271.778 61.131 271.778 L57.1032 271.778 L57.1032 267.935 L61.3161 267.935 Q64.7652 267.935 66.5939 266.569 Q68.4226 265.18 68.4226 262.588 Q68.4226 259.926 66.5245 258.514 Q64.6495 257.079 61.131 257.079 Q59.2097 257.079 57.0106 257.495 Q54.8115 257.912 52.1727 258.792 L52.1727 254.625 Q54.8347 253.884 57.1495 253.514 Q59.4875 253.144 61.5476 253.144 Q66.8717 253.144 69.9735 255.574 Q73.0753 257.981 73.0753 262.102 Q73.0753 264.972 71.4318 266.963 Q69.7883 268.93 66.7559 269.694 Z\" fill=\"#000000\" fill-rule=\"evenodd\" fill-opacity=\"1\" /><path clip-path=\"url(#clip560)\" d=\"M82.7512 282.449 L87.6354 282.449 L87.6354 288.329 L82.7512 288.329 L82.7512 282.449 Z\" fill=\"#000000\" fill-rule=\"evenodd\" fill-opacity=\"1\" /><path clip-path=\"url(#clip560)\" d=\"M107.821 256.847 Q104.209 256.847 102.381 260.412 Q100.575 263.954 100.575 271.083 Q100.575 278.19 102.381 281.754 Q104.209 285.296 107.821 285.296 Q111.455 285.296 113.26 281.754 Q115.089 278.19 115.089 271.083 Q115.089 263.954 113.26 260.412 Q111.455 256.847 107.821 256.847 M107.821 253.144 Q113.631 253.144 116.686 257.75 Q119.765 262.333 119.765 271.083 Q119.765 279.81 116.686 284.416 Q113.631 289 107.821 289 Q102.01 289 98.9317 284.416 Q95.8761 279.81 95.8761 271.083 Q95.8761 262.333 98.9317 257.75 Q102.01 253.144 107.821 253.144 Z\" fill=\"#000000\" fill-rule=\"evenodd\" fill-opacity=\"1\" /><polyline clip-path=\"url(#clip562)\" style=\"stroke:#009af9; stroke-linecap:butt; stroke-linejoin:round; stroke-width:4; stroke-opacity:1; fill:none\" points=\"\n",
       "  155.765,1384.24 177.735,1353.69 199.705,1322.41 221.675,1290.45 243.645,1257.89 265.614,1224.78 287.584,1191.19 309.554,1157.21 331.524,1122.9 353.494,1088.35 \n",
       "  375.464,1053.63 397.434,1018.84 419.404,984.042 441.374,949.322 463.344,914.755 485.314,880.418 507.283,846.385 529.253,812.727 551.223,779.51 573.193,746.797 \n",
       "  595.163,714.647 617.133,683.113 639.103,652.245 661.073,622.086 683.043,592.678 705.013,564.054 726.983,536.246 748.952,509.28 770.922,483.177 792.892,457.952 \n",
       "  814.862,433.614 836.832,410.175 858.802,387.638 880.772,366.007 902.742,345.283 924.712,325.462 946.682,306.539 968.652,288.506 990.621,271.351 1012.59,255.06 \n",
       "  1034.56,239.618 1056.53,225.01 1078.5,211.223 1100.47,198.241 1122.44,186.05 1144.41,174.635 1166.38,163.981 1188.35,154.072 1210.32,144.896 1232.29,136.436 \n",
       "  1254.26,128.679 1276.23,121.61 1298.2,115.215 1320.17,109.479 1342.14,104.388 1364.11,99.9347 1386.08,96.1114 1408.05,92.9131 1430.02,90.3355 1451.99,88.3755 \n",
       "  1473.96,87.0309 1495.93,86.3009 1517.9,86.1857 1539.87,86.6866 1561.84,87.8062 1583.81,89.548 1605.78,91.9167 1627.75,94.9183 1649.72,98.5598 1671.69,102.849 \n",
       "  1693.66,107.798 1715.63,113.423 1737.6,119.742 1759.57,126.774 1781.54,134.538 1803.51,143.055 1825.48,152.346 1847.45,162.434 1869.42,173.342 1891.39,185.094 \n",
       "  1913.36,197.716 1935.33,211.234 1957.3,225.675 1979.27,241.067 2001.24,257.438 2023.21,274.819 2045.18,293.241 2067.15,312.733 2089.12,333.326 2111.09,355.049 \n",
       "  2133.06,377.931 2155.03,401.993 2177,427.257 2198.97,453.74 2220.94,481.455 2242.91,510.412 2264.88,540.619 2286.85,572.077 2308.82,604.788 2330.79,638.748 \n",
       "  2352.76,673.95 \n",
       "  \"/>\n",
       "<polyline clip-path=\"url(#clip562)\" style=\"stroke:#e26f46; stroke-linecap:butt; stroke-linejoin:round; stroke-width:4; stroke-opacity:1; fill:none\" points=\"\n",
       "  155.765,1384.24 177.735,1371.71 199.705,1359.18 221.675,1346.65 243.645,1334.15 265.614,1321.71 287.584,1309.32 309.554,1297.02 331.524,1284.82 353.494,1272.75 \n",
       "  375.464,1260.8 397.434,1249.02 419.404,1237.4 441.374,1225.96 463.344,1214.72 485.314,1203.69 507.283,1192.89 529.253,1182.32 551.223,1171.99 573.193,1161.91 \n",
       "  595.163,1152.09 617.133,1142.53 639.103,1133.24 661.073,1124.22 683.043,1115.48 705.013,1107.01 726.983,1098.81 748.952,1090.89 770.922,1083.25 792.892,1075.87 \n",
       "  814.862,1068.76 836.832,1061.91 858.802,1055.31 880.772,1048.97 902.742,1042.87 924.712,1037.01 946.682,1031.38 968.652,1025.97 990.621,1020.78 1012.59,1015.79 \n",
       "  1034.56,1011 1056.53,1006.4 1078.5,1001.98 1100.47,997.732 1122.44,993.643 1144.41,989.709 1166.38,985.919 1188.35,982.265 1210.32,978.738 1232.29,975.329 \n",
       "  1254.26,972.027 1276.23,968.825 1298.2,965.712 1320.17,962.678 1342.14,959.715 1364.11,956.813 1386.08,953.964 1408.05,951.16 1430.02,948.391 1451.99,945.65 \n",
       "  1473.96,942.927 1495.93,940.212 1517.9,937.498 1539.87,934.774 1561.84,932.03 1583.81,929.257 1605.78,926.445 1627.75,923.582 1649.72,920.66 1671.69,917.667 \n",
       "  1693.66,914.592 1715.63,911.424 1737.6,908.154 1759.57,904.769 1781.54,901.256 1803.51,897.603 1825.48,893.795 1847.45,889.818 1869.42,885.657 1891.39,881.297 \n",
       "  1913.36,876.719 1935.33,871.908 1957.3,866.845 1979.27,861.512 2001.24,855.889 2023.21,849.957 2045.18,843.694 2067.15,837.079 2089.12,830.087 2111.09,822.692 \n",
       "  2133.06,814.866 2155.03,806.579 2177,797.801 2198.97,788.5 2220.94,778.641 2242.91,768.189 2264.88,757.108 2286.85,745.359 2308.82,732.902 2330.79,719.696 \n",
       "  2352.76,705.697 \n",
       "  \"/>\n",
       "<path clip-path=\"url(#clip560)\" d=\"\n",
       "M1927.73 248.629 L2279.52 248.629 L2279.52 93.1086 L1927.73 93.1086  Z\n",
       "  \" fill=\"#ffffff\" fill-rule=\"evenodd\" fill-opacity=\"1\"/>\n",
       "<polyline clip-path=\"url(#clip560)\" style=\"stroke:#000000; stroke-linecap:butt; stroke-linejoin:round; stroke-width:4; stroke-opacity:1; fill:none\" points=\"\n",
       "  1927.73,248.629 2279.52,248.629 2279.52,93.1086 1927.73,93.1086 1927.73,248.629 \n",
       "  \"/>\n",
       "<polyline clip-path=\"url(#clip560)\" style=\"stroke:#009af9; stroke-linecap:butt; stroke-linejoin:round; stroke-width:4; stroke-opacity:1; fill:none\" points=\"\n",
       "  1952.14,144.949 2098.61,144.949 \n",
       "  \"/>\n",
       "<path clip-path=\"url(#clip560)\" d=\"M2123.02 151.997 L2123.02 136.303 L2127.28 136.303 L2127.28 151.835 Q2127.28 155.516 2128.71 157.368 Q2130.15 159.196 2133.02 159.196 Q2136.47 159.196 2138.46 156.997 Q2140.47 154.798 2140.47 151.002 L2140.47 136.303 L2144.73 136.303 L2144.73 162.229 L2140.47 162.229 L2140.47 158.247 Q2138.92 160.608 2136.86 161.766 Q2134.82 162.9 2132.11 162.9 Q2127.65 162.9 2125.33 160.122 Q2123.02 157.344 2123.02 151.997 M2133.73 135.678 L2133.73 135.678 Z\" fill=\"#000000\" fill-rule=\"evenodd\" fill-opacity=\"1\" /><path clip-path=\"url(#clip560)\" d=\"M2154.91 158.293 L2162.55 158.293 L2162.55 131.928 L2154.24 133.595 L2154.24 129.335 L2162.51 127.669 L2167.18 127.669 L2167.18 158.293 L2174.82 158.293 L2174.82 162.229 L2154.91 162.229 L2154.91 158.293 Z\" fill=\"#000000\" fill-rule=\"evenodd\" fill-opacity=\"1\" /><path clip-path=\"url(#clip560)\" d=\"M2193.9 126.257 Q2190.79 131.581 2189.29 136.789 Q2187.78 141.997 2187.78 147.344 Q2187.78 152.692 2189.29 157.946 Q2190.82 163.178 2193.9 168.479 L2190.19 168.479 Q2186.72 163.039 2184.98 157.784 Q2183.27 152.53 2183.27 147.344 Q2183.27 142.182 2184.98 136.951 Q2186.7 131.72 2190.19 126.257 L2193.9 126.257 Z\" fill=\"#000000\" fill-rule=\"evenodd\" fill-opacity=\"1\" /><path clip-path=\"url(#clip560)\" d=\"M2206.37 128.942 L2206.37 136.303 L2215.15 136.303 L2215.15 139.613 L2206.37 139.613 L2206.37 153.687 Q2206.37 156.858 2207.23 157.761 Q2208.11 158.664 2210.77 158.664 L2215.15 158.664 L2215.15 162.229 L2210.77 162.229 Q2205.84 162.229 2203.96 160.4 Q2202.09 158.548 2202.09 153.687 L2202.09 139.613 L2198.96 139.613 L2198.96 136.303 L2202.09 136.303 L2202.09 128.942 L2206.37 128.942 Z\" fill=\"#000000\" fill-rule=\"evenodd\" fill-opacity=\"1\" /><path clip-path=\"url(#clip560)\" d=\"M2220.08 126.257 L2223.78 126.257 Q2227.25 131.72 2228.96 136.951 Q2230.7 142.182 2230.7 147.344 Q2230.7 152.53 2228.96 157.784 Q2227.25 163.039 2223.78 168.479 L2220.08 168.479 Q2223.15 163.178 2224.66 157.946 Q2226.19 152.692 2226.19 147.344 Q2226.19 141.997 2224.66 136.789 Q2223.15 131.581 2220.08 126.257 Z\" fill=\"#000000\" fill-rule=\"evenodd\" fill-opacity=\"1\" /><polyline clip-path=\"url(#clip560)\" style=\"stroke:#e26f46; stroke-linecap:butt; stroke-linejoin:round; stroke-width:4; stroke-opacity:1; fill:none\" points=\"\n",
       "  1952.14,196.789 2098.61,196.789 \n",
       "  \"/>\n",
       "<path clip-path=\"url(#clip560)\" d=\"M2123.02 203.837 L2123.02 188.143 L2127.28 188.143 L2127.28 203.675 Q2127.28 207.356 2128.71 209.208 Q2130.15 211.036 2133.02 211.036 Q2136.47 211.036 2138.46 208.837 Q2140.47 206.638 2140.47 202.842 L2140.47 188.143 L2144.73 188.143 L2144.73 214.069 L2140.47 214.069 L2140.47 210.087 Q2138.92 212.448 2136.86 213.606 Q2134.82 214.74 2132.11 214.74 Q2127.65 214.74 2125.33 211.962 Q2123.02 209.184 2123.02 203.837 M2133.73 187.518 L2133.73 187.518 Z\" fill=\"#000000\" fill-rule=\"evenodd\" fill-opacity=\"1\" /><path clip-path=\"url(#clip560)\" d=\"M2158.13 210.133 L2174.45 210.133 L2174.45 214.069 L2152.51 214.069 L2152.51 210.133 Q2155.17 207.379 2159.75 202.749 Q2164.36 198.096 2165.54 196.754 Q2167.78 194.231 2168.66 192.495 Q2169.57 190.735 2169.57 189.046 Q2169.57 186.291 2167.62 184.555 Q2165.7 182.819 2162.6 182.819 Q2160.4 182.819 2157.95 183.583 Q2155.52 184.347 2152.74 185.897 L2152.74 181.175 Q2155.56 180.041 2158.02 179.462 Q2160.47 178.884 2162.51 178.884 Q2167.88 178.884 2171.07 181.569 Q2174.27 184.254 2174.27 188.745 Q2174.27 190.874 2173.46 192.796 Q2172.67 194.694 2170.56 197.286 Q2169.98 197.958 2166.88 201.175 Q2163.78 204.37 2158.13 210.133 Z\" fill=\"#000000\" fill-rule=\"evenodd\" fill-opacity=\"1\" /><path clip-path=\"url(#clip560)\" d=\"M2193.9 178.097 Q2190.79 183.421 2189.29 188.629 Q2187.78 193.837 2187.78 199.184 Q2187.78 204.532 2189.29 209.786 Q2190.82 215.018 2193.9 220.319 L2190.19 220.319 Q2186.72 214.879 2184.98 209.624 Q2183.27 204.37 2183.27 199.184 Q2183.27 194.022 2184.98 188.791 Q2186.7 183.56 2190.19 178.097 L2193.9 178.097 Z\" fill=\"#000000\" fill-rule=\"evenodd\" fill-opacity=\"1\" /><path clip-path=\"url(#clip560)\" d=\"M2206.37 180.782 L2206.37 188.143 L2215.15 188.143 L2215.15 191.453 L2206.37 191.453 L2206.37 205.527 Q2206.37 208.698 2207.23 209.601 Q2208.11 210.504 2210.77 210.504 L2215.15 210.504 L2215.15 214.069 L2210.77 214.069 Q2205.84 214.069 2203.96 212.24 Q2202.09 210.388 2202.09 205.527 L2202.09 191.453 L2198.96 191.453 L2198.96 188.143 L2202.09 188.143 L2202.09 180.782 L2206.37 180.782 Z\" fill=\"#000000\" fill-rule=\"evenodd\" fill-opacity=\"1\" /><path clip-path=\"url(#clip560)\" d=\"M2220.08 178.097 L2223.78 178.097 Q2227.25 183.56 2228.96 188.791 Q2230.7 194.022 2230.7 199.184 Q2230.7 204.37 2228.96 209.624 Q2227.25 214.879 2223.78 220.319 L2220.08 220.319 Q2223.15 215.018 2224.66 209.786 Q2226.19 204.532 2226.19 199.184 Q2226.19 193.837 2224.66 188.629 Q2223.15 183.421 2220.08 178.097 Z\" fill=\"#000000\" fill-rule=\"evenodd\" fill-opacity=\"1\" /></svg>\n"
      ]
     },
     "execution_count": 39,
     "metadata": {},
     "output_type": "execute_result"
    }
   ],
   "source": [
    "ode_pred, st = Lux.apply(trainstate.model, (), trainstate.parameters, trainstate.states)\n",
    "\n",
    "Plots.plot(ode_pred)"
   ]
  },
  {
   "cell_type": "code",
   "execution_count": 42,
   "metadata": {},
   "outputs": [
    {
     "data": {
      "image/svg+xml": [
       "<?xml version=\"1.0\" encoding=\"utf-8\"?>\n",
       "<svg xmlns=\"http://www.w3.org/2000/svg\" xmlns:xlink=\"http://www.w3.org/1999/xlink\" width=\"600\" height=\"400\" viewBox=\"0 0 2400 1600\">\n",
       "<defs>\n",
       "  <clipPath id=\"clip640\">\n",
       "    <rect x=\"0\" y=\"0\" width=\"2400\" height=\"1600\"/>\n",
       "  </clipPath>\n",
       "</defs>\n",
       "<path clip-path=\"url(#clip640)\" d=\"\n",
       "M0 1600 L2400 1600 L2400 0 L0 0  Z\n",
       "  \" fill=\"#ffffff\" fill-rule=\"evenodd\" fill-opacity=\"1\"/>\n",
       "<defs>\n",
       "  <clipPath id=\"clip641\">\n",
       "    <rect x=\"480\" y=\"0\" width=\"1681\" height=\"1600\"/>\n",
       "  </clipPath>\n",
       "</defs>\n",
       "<path clip-path=\"url(#clip640)\" d=\"\n",
       "M112.177 1423.18 L2352.76 1423.18 L2352.76 47.2441 L112.177 47.2441  Z\n",
       "  \" fill=\"#ffffff\" fill-rule=\"evenodd\" fill-opacity=\"1\"/>\n",
       "<defs>\n",
       "  <clipPath id=\"clip642\">\n",
       "    <rect x=\"112\" y=\"47\" width=\"2242\" height=\"1377\"/>\n",
       "  </clipPath>\n",
       "</defs>\n",
       "<polyline clip-path=\"url(#clip642)\" style=\"stroke:#000000; stroke-linecap:butt; stroke-linejoin:round; stroke-width:2; stroke-opacity:0.1; fill:none\" points=\"\n",
       "  112.177,1423.18 112.177,47.2441 \n",
       "  \"/>\n",
       "<polyline clip-path=\"url(#clip642)\" style=\"stroke:#000000; stroke-linecap:butt; stroke-linejoin:round; stroke-width:2; stroke-opacity:0.1; fill:none\" points=\"\n",
       "  560.293,1423.18 560.293,47.2441 \n",
       "  \"/>\n",
       "<polyline clip-path=\"url(#clip642)\" style=\"stroke:#000000; stroke-linecap:butt; stroke-linejoin:round; stroke-width:2; stroke-opacity:0.1; fill:none\" points=\"\n",
       "  1008.41,1423.18 1008.41,47.2441 \n",
       "  \"/>\n",
       "<polyline clip-path=\"url(#clip642)\" style=\"stroke:#000000; stroke-linecap:butt; stroke-linejoin:round; stroke-width:2; stroke-opacity:0.1; fill:none\" points=\"\n",
       "  1456.52,1423.18 1456.52,47.2441 \n",
       "  \"/>\n",
       "<polyline clip-path=\"url(#clip642)\" style=\"stroke:#000000; stroke-linecap:butt; stroke-linejoin:round; stroke-width:2; stroke-opacity:0.1; fill:none\" points=\"\n",
       "  1904.64,1423.18 1904.64,47.2441 \n",
       "  \"/>\n",
       "<polyline clip-path=\"url(#clip642)\" style=\"stroke:#000000; stroke-linecap:butt; stroke-linejoin:round; stroke-width:2; stroke-opacity:0.1; fill:none\" points=\"\n",
       "  2352.76,1423.18 2352.76,47.2441 \n",
       "  \"/>\n",
       "<polyline clip-path=\"url(#clip640)\" style=\"stroke:#000000; stroke-linecap:butt; stroke-linejoin:round; stroke-width:4; stroke-opacity:1; fill:none\" points=\"\n",
       "  112.177,1423.18 2352.76,1423.18 \n",
       "  \"/>\n",
       "<polyline clip-path=\"url(#clip640)\" style=\"stroke:#000000; stroke-linecap:butt; stroke-linejoin:round; stroke-width:4; stroke-opacity:1; fill:none\" points=\"\n",
       "  112.177,1423.18 112.177,1404.28 \n",
       "  \"/>\n",
       "<polyline clip-path=\"url(#clip640)\" style=\"stroke:#000000; stroke-linecap:butt; stroke-linejoin:round; stroke-width:4; stroke-opacity:1; fill:none\" points=\"\n",
       "  560.293,1423.18 560.293,1404.28 \n",
       "  \"/>\n",
       "<polyline clip-path=\"url(#clip640)\" style=\"stroke:#000000; stroke-linecap:butt; stroke-linejoin:round; stroke-width:4; stroke-opacity:1; fill:none\" points=\"\n",
       "  1008.41,1423.18 1008.41,1404.28 \n",
       "  \"/>\n",
       "<polyline clip-path=\"url(#clip640)\" style=\"stroke:#000000; stroke-linecap:butt; stroke-linejoin:round; stroke-width:4; stroke-opacity:1; fill:none\" points=\"\n",
       "  1456.52,1423.18 1456.52,1404.28 \n",
       "  \"/>\n",
       "<polyline clip-path=\"url(#clip640)\" style=\"stroke:#000000; stroke-linecap:butt; stroke-linejoin:round; stroke-width:4; stroke-opacity:1; fill:none\" points=\"\n",
       "  1904.64,1423.18 1904.64,1404.28 \n",
       "  \"/>\n",
       "<polyline clip-path=\"url(#clip640)\" style=\"stroke:#000000; stroke-linecap:butt; stroke-linejoin:round; stroke-width:4; stroke-opacity:1; fill:none\" points=\"\n",
       "  2352.76,1423.18 2352.76,1404.28 \n",
       "  \"/>\n",
       "<path clip-path=\"url(#clip640)\" d=\"M112.177 1454.1 Q108.566 1454.1 106.737 1457.66 Q104.932 1461.2 104.932 1468.33 Q104.932 1475.44 106.737 1479.01 Q108.566 1482.55 112.177 1482.55 Q115.811 1482.55 117.617 1479.01 Q119.446 1475.44 119.446 1468.33 Q119.446 1461.2 117.617 1457.66 Q115.811 1454.1 112.177 1454.1 M112.177 1450.39 Q117.987 1450.39 121.043 1455 Q124.122 1459.58 124.122 1468.33 Q124.122 1477.06 121.043 1481.67 Q117.987 1486.25 112.177 1486.25 Q106.367 1486.25 103.288 1481.67 Q100.233 1477.06 100.233 1468.33 Q100.233 1459.58 103.288 1455 Q106.367 1450.39 112.177 1450.39 Z\" fill=\"#000000\" fill-rule=\"evenodd\" fill-opacity=\"1\" /><path clip-path=\"url(#clip640)\" d=\"M554.946 1481.64 L571.265 1481.64 L571.265 1485.58 L549.321 1485.58 L549.321 1481.64 Q551.983 1478.89 556.566 1474.26 Q561.173 1469.61 562.353 1468.27 Q564.598 1465.74 565.478 1464.01 Q566.381 1462.25 566.381 1460.56 Q566.381 1457.8 564.436 1456.07 Q562.515 1454.33 559.413 1454.33 Q557.214 1454.33 554.761 1455.09 Q552.33 1455.86 549.552 1457.41 L549.552 1452.69 Q552.376 1451.55 554.83 1450.97 Q557.284 1450.39 559.321 1450.39 Q564.691 1450.39 567.885 1453.08 Q571.08 1455.77 571.08 1460.26 Q571.08 1462.39 570.27 1464.31 Q569.483 1466.2 567.376 1468.8 Q566.798 1469.47 563.696 1472.69 Q560.594 1475.88 554.946 1481.64 Z\" fill=\"#000000\" fill-rule=\"evenodd\" fill-opacity=\"1\" /><path clip-path=\"url(#clip640)\" d=\"M1011.42 1455.09 L999.612 1473.54 L1011.42 1473.54 L1011.42 1455.09 M1010.19 1451.02 L1016.07 1451.02 L1016.07 1473.54 L1021 1473.54 L1021 1477.43 L1016.07 1477.43 L1016.07 1485.58 L1011.42 1485.58 L1011.42 1477.43 L995.816 1477.43 L995.816 1472.92 L1010.19 1451.02 Z\" fill=\"#000000\" fill-rule=\"evenodd\" fill-opacity=\"1\" /><path clip-path=\"url(#clip640)\" d=\"M1456.93 1466.44 Q1453.78 1466.44 1451.93 1468.59 Q1450.1 1470.74 1450.1 1474.49 Q1450.1 1478.22 1451.93 1480.39 Q1453.78 1482.55 1456.93 1482.55 Q1460.08 1482.55 1461.91 1480.39 Q1463.76 1478.22 1463.76 1474.49 Q1463.76 1470.74 1461.91 1468.59 Q1460.08 1466.44 1456.93 1466.44 M1466.21 1451.78 L1466.21 1456.04 Q1464.45 1455.21 1462.65 1454.77 Q1460.86 1454.33 1459.11 1454.33 Q1454.48 1454.33 1452.02 1457.45 Q1449.59 1460.58 1449.24 1466.9 Q1450.61 1464.89 1452.67 1463.82 Q1454.73 1462.73 1457.21 1462.73 Q1462.42 1462.73 1465.42 1465.9 Q1468.46 1469.05 1468.46 1474.49 Q1468.46 1479.82 1465.31 1483.03 Q1462.16 1486.25 1456.93 1486.25 Q1450.93 1486.25 1447.76 1481.67 Q1444.59 1477.06 1444.59 1468.33 Q1444.59 1460.14 1448.48 1455.28 Q1452.37 1450.39 1458.92 1450.39 Q1460.68 1450.39 1462.46 1450.74 Q1464.27 1451.09 1466.21 1451.78 Z\" fill=\"#000000\" fill-rule=\"evenodd\" fill-opacity=\"1\" /><path clip-path=\"url(#clip640)\" d=\"M1904.64 1469.17 Q1901.31 1469.17 1899.39 1470.95 Q1897.49 1472.73 1897.49 1475.86 Q1897.49 1478.98 1899.39 1480.77 Q1901.31 1482.55 1904.64 1482.55 Q1907.97 1482.55 1909.89 1480.77 Q1911.82 1478.96 1911.82 1475.86 Q1911.82 1472.73 1909.89 1470.95 Q1908 1469.17 1904.64 1469.17 M1899.96 1467.18 Q1896.96 1466.44 1895.27 1464.38 Q1893.6 1462.32 1893.6 1459.35 Q1893.6 1455.21 1896.54 1452.8 Q1899.5 1450.39 1904.64 1450.39 Q1909.8 1450.39 1912.74 1452.8 Q1915.68 1455.21 1915.68 1459.35 Q1915.68 1462.32 1913.99 1464.38 Q1912.33 1466.44 1909.34 1467.18 Q1912.72 1467.96 1914.59 1470.26 Q1916.49 1472.55 1916.49 1475.86 Q1916.49 1480.88 1913.41 1483.57 Q1910.36 1486.25 1904.64 1486.25 Q1898.92 1486.25 1895.84 1483.57 Q1892.79 1480.88 1892.79 1475.86 Q1892.79 1472.55 1894.69 1470.26 Q1896.58 1467.96 1899.96 1467.18 M1898.25 1459.79 Q1898.25 1462.48 1899.92 1463.98 Q1901.61 1465.49 1904.64 1465.49 Q1907.65 1465.49 1909.34 1463.98 Q1911.05 1462.48 1911.05 1459.79 Q1911.05 1457.11 1909.34 1455.6 Q1907.65 1454.1 1904.64 1454.1 Q1901.61 1454.1 1899.92 1455.6 Q1898.25 1457.11 1898.25 1459.79 Z\" fill=\"#000000\" fill-rule=\"evenodd\" fill-opacity=\"1\" /><path clip-path=\"url(#clip640)\" d=\"M2327.44 1481.64 L2335.08 1481.64 L2335.08 1455.28 L2326.77 1456.95 L2326.77 1452.69 L2335.04 1451.02 L2339.71 1451.02 L2339.71 1481.64 L2347.35 1481.64 L2347.35 1485.58 L2327.44 1485.58 L2327.44 1481.64 Z\" fill=\"#000000\" fill-rule=\"evenodd\" fill-opacity=\"1\" /><path clip-path=\"url(#clip640)\" d=\"M2366.8 1454.1 Q2363.18 1454.1 2361.36 1457.66 Q2359.55 1461.2 2359.55 1468.33 Q2359.55 1475.44 2361.36 1479.01 Q2363.18 1482.55 2366.8 1482.55 Q2370.43 1482.55 2372.23 1479.01 Q2374.06 1475.44 2374.06 1468.33 Q2374.06 1461.2 2372.23 1457.66 Q2370.43 1454.1 2366.8 1454.1 M2366.8 1450.39 Q2372.61 1450.39 2375.66 1455 Q2378.74 1459.58 2378.74 1468.33 Q2378.74 1477.06 2375.66 1481.67 Q2372.61 1486.25 2366.8 1486.25 Q2360.99 1486.25 2357.91 1481.67 Q2354.85 1477.06 2354.85 1468.33 Q2354.85 1459.58 2357.91 1455 Q2360.99 1450.39 2366.8 1450.39 Z\" fill=\"#000000\" fill-rule=\"evenodd\" fill-opacity=\"1\" /><path clip-path=\"url(#clip640)\" d=\"M1231.53 1522.27 L1231.53 1532.4 L1243.59 1532.4 L1243.59 1536.95 L1231.53 1536.95 L1231.53 1556.3 Q1231.53 1560.66 1232.71 1561.9 Q1233.91 1563.14 1237.58 1563.14 L1243.59 1563.14 L1243.59 1568.04 L1237.58 1568.04 Q1230.8 1568.04 1228.22 1565.53 Q1225.64 1562.98 1225.64 1556.3 L1225.64 1536.95 L1221.34 1536.95 L1221.34 1532.4 L1225.64 1532.4 L1225.64 1522.27 L1231.53 1522.27 Z\" fill=\"#000000\" fill-rule=\"evenodd\" fill-opacity=\"1\" /><polyline clip-path=\"url(#clip642)\" style=\"stroke:#000000; stroke-linecap:butt; stroke-linejoin:round; stroke-width:2; stroke-opacity:0.1; fill:none\" points=\"\n",
       "  112.177,1238.89 2352.76,1238.89 \n",
       "  \"/>\n",
       "<polyline clip-path=\"url(#clip642)\" style=\"stroke:#000000; stroke-linecap:butt; stroke-linejoin:round; stroke-width:2; stroke-opacity:0.1; fill:none\" points=\"\n",
       "  112.177,1043.22 2352.76,1043.22 \n",
       "  \"/>\n",
       "<polyline clip-path=\"url(#clip642)\" style=\"stroke:#000000; stroke-linecap:butt; stroke-linejoin:round; stroke-width:2; stroke-opacity:0.1; fill:none\" points=\"\n",
       "  112.177,847.551 2352.76,847.551 \n",
       "  \"/>\n",
       "<polyline clip-path=\"url(#clip642)\" style=\"stroke:#000000; stroke-linecap:butt; stroke-linejoin:round; stroke-width:2; stroke-opacity:0.1; fill:none\" points=\"\n",
       "  112.177,651.879 2352.76,651.879 \n",
       "  \"/>\n",
       "<polyline clip-path=\"url(#clip642)\" style=\"stroke:#000000; stroke-linecap:butt; stroke-linejoin:round; stroke-width:2; stroke-opacity:0.1; fill:none\" points=\"\n",
       "  112.177,456.207 2352.76,456.207 \n",
       "  \"/>\n",
       "<polyline clip-path=\"url(#clip642)\" style=\"stroke:#000000; stroke-linecap:butt; stroke-linejoin:round; stroke-width:2; stroke-opacity:0.1; fill:none\" points=\"\n",
       "  112.177,260.535 2352.76,260.535 \n",
       "  \"/>\n",
       "<polyline clip-path=\"url(#clip642)\" style=\"stroke:#000000; stroke-linecap:butt; stroke-linejoin:round; stroke-width:2; stroke-opacity:0.1; fill:none\" points=\"\n",
       "  112.177,64.8637 2352.76,64.8637 \n",
       "  \"/>\n",
       "<polyline clip-path=\"url(#clip640)\" style=\"stroke:#000000; stroke-linecap:butt; stroke-linejoin:round; stroke-width:4; stroke-opacity:1; fill:none\" points=\"\n",
       "  112.177,1423.18 112.177,47.2441 \n",
       "  \"/>\n",
       "<polyline clip-path=\"url(#clip640)\" style=\"stroke:#000000; stroke-linecap:butt; stroke-linejoin:round; stroke-width:4; stroke-opacity:1; fill:none\" points=\"\n",
       "  112.177,1238.89 131.075,1238.89 \n",
       "  \"/>\n",
       "<polyline clip-path=\"url(#clip640)\" style=\"stroke:#000000; stroke-linecap:butt; stroke-linejoin:round; stroke-width:4; stroke-opacity:1; fill:none\" points=\"\n",
       "  112.177,1043.22 131.075,1043.22 \n",
       "  \"/>\n",
       "<polyline clip-path=\"url(#clip640)\" style=\"stroke:#000000; stroke-linecap:butt; stroke-linejoin:round; stroke-width:4; stroke-opacity:1; fill:none\" points=\"\n",
       "  112.177,847.551 131.075,847.551 \n",
       "  \"/>\n",
       "<polyline clip-path=\"url(#clip640)\" style=\"stroke:#000000; stroke-linecap:butt; stroke-linejoin:round; stroke-width:4; stroke-opacity:1; fill:none\" points=\"\n",
       "  112.177,651.879 131.075,651.879 \n",
       "  \"/>\n",
       "<polyline clip-path=\"url(#clip640)\" style=\"stroke:#000000; stroke-linecap:butt; stroke-linejoin:round; stroke-width:4; stroke-opacity:1; fill:none\" points=\"\n",
       "  112.177,456.207 131.075,456.207 \n",
       "  \"/>\n",
       "<polyline clip-path=\"url(#clip640)\" style=\"stroke:#000000; stroke-linecap:butt; stroke-linejoin:round; stroke-width:4; stroke-opacity:1; fill:none\" points=\"\n",
       "  112.177,260.535 131.075,260.535 \n",
       "  \"/>\n",
       "<polyline clip-path=\"url(#clip640)\" style=\"stroke:#000000; stroke-linecap:butt; stroke-linejoin:round; stroke-width:4; stroke-opacity:1; fill:none\" points=\"\n",
       "  112.177,64.8637 131.075,64.8637 \n",
       "  \"/>\n",
       "<path clip-path=\"url(#clip640)\" d=\"M56.2699 1252.24 L63.9087 1252.24 L63.9087 1225.87 L55.5986 1227.54 L55.5986 1223.28 L63.8624 1221.61 L68.5383 1221.61 L68.5383 1252.24 L76.1772 1252.24 L76.1772 1256.17 L56.2699 1256.17 L56.2699 1252.24 Z\" fill=\"#000000\" fill-rule=\"evenodd\" fill-opacity=\"1\" /><path clip-path=\"url(#clip640)\" d=\"M59.8578 1056.57 L76.1772 1056.57 L76.1772 1060.5 L54.2328 1060.5 L54.2328 1056.57 Q56.8949 1053.81 61.4782 1049.18 Q66.0846 1044.53 67.2652 1043.19 Q69.5105 1040.66 70.3902 1038.93 Q71.2929 1037.17 71.2929 1035.48 Q71.2929 1032.72 69.3485 1030.99 Q67.4272 1029.25 64.3254 1029.25 Q62.1263 1029.25 59.6726 1030.02 Q57.2421 1030.78 54.4643 1032.33 L54.4643 1027.61 Q57.2884 1026.47 59.7421 1025.9 Q62.1958 1025.32 64.2328 1025.32 Q69.6031 1025.32 72.7976 1028 Q75.992 1030.69 75.992 1035.18 Q75.992 1037.31 75.1818 1039.23 Q74.3948 1041.13 72.2883 1043.72 Q71.7096 1044.39 68.6078 1047.61 Q65.5059 1050.8 59.8578 1056.57 Z\" fill=\"#000000\" fill-rule=\"evenodd\" fill-opacity=\"1\" /><path clip-path=\"url(#clip640)\" d=\"M69.0476 846.196 Q72.404 846.914 74.279 849.183 Q76.1772 851.451 76.1772 854.784 Q76.1772 859.9 72.6587 862.701 Q69.1402 865.502 62.6587 865.502 Q60.4828 865.502 58.168 865.062 Q55.8764 864.645 53.4227 863.789 L53.4227 859.275 Q55.3671 860.409 57.6819 860.988 Q59.9967 861.567 62.5198 861.567 Q66.918 861.567 69.2096 859.831 Q71.5244 858.095 71.5244 854.784 Q71.5244 851.729 69.3717 850.016 Q67.242 848.28 63.4226 848.28 L59.3949 848.28 L59.3949 844.437 L63.6078 844.437 Q67.0569 844.437 68.8855 843.071 Q70.7142 841.683 70.7142 839.09 Q70.7142 836.428 68.8161 835.016 Q66.9411 833.581 63.4226 833.581 Q61.5013 833.581 59.3023 833.997 Q57.1032 834.414 54.4643 835.294 L54.4643 831.127 Q57.1264 830.386 59.4412 830.016 Q61.7791 829.646 63.8393 829.646 Q69.1633 829.646 72.2652 832.076 Q75.367 834.484 75.367 838.604 Q75.367 841.474 73.7235 843.465 Q72.08 845.433 69.0476 846.196 Z\" fill=\"#000000\" fill-rule=\"evenodd\" fill-opacity=\"1\" /><path clip-path=\"url(#clip640)\" d=\"M66.5939 638.673 L54.7884 657.122 L66.5939 657.122 L66.5939 638.673 M65.367 634.599 L71.2466 634.599 L71.2466 657.122 L76.1772 657.122 L76.1772 661.011 L71.2466 661.011 L71.2466 669.159 L66.5939 669.159 L66.5939 661.011 L50.9921 661.011 L50.9921 656.497 L65.367 634.599 Z\" fill=\"#000000\" fill-rule=\"evenodd\" fill-opacity=\"1\" /><path clip-path=\"url(#clip640)\" d=\"M55.2745 438.927 L73.6309 438.927 L73.6309 442.862 L59.5569 442.862 L59.5569 451.334 Q60.5754 450.987 61.5939 450.825 Q62.6124 450.64 63.6309 450.64 Q69.418 450.64 72.7976 453.811 Q76.1772 456.983 76.1772 462.399 Q76.1772 467.978 72.705 471.08 Q69.2328 474.158 62.9134 474.158 Q60.7374 474.158 58.4689 473.788 Q56.2236 473.418 53.8162 472.677 L53.8162 467.978 Q55.8995 469.112 58.1217 469.668 Q60.3439 470.223 62.8208 470.223 Q66.8254 470.223 69.1633 468.117 Q71.5013 466.01 71.5013 462.399 Q71.5013 458.788 69.1633 456.682 Q66.8254 454.575 62.8208 454.575 Q60.9458 454.575 59.0708 454.992 Q57.2189 455.409 55.2745 456.288 L55.2745 438.927 Z\" fill=\"#000000\" fill-rule=\"evenodd\" fill-opacity=\"1\" /><path clip-path=\"url(#clip640)\" d=\"M64.6495 258.672 Q61.5013 258.672 59.6495 260.825 Q57.8208 262.978 57.8208 266.728 Q57.8208 270.454 59.6495 272.63 Q61.5013 274.783 64.6495 274.783 Q67.7976 274.783 69.6263 272.63 Q71.4781 270.454 71.4781 266.728 Q71.4781 262.978 69.6263 260.825 Q67.7976 258.672 64.6495 258.672 M73.9318 244.019 L73.9318 248.279 Q72.1726 247.445 70.367 247.005 Q68.5846 246.566 66.8254 246.566 Q62.1958 246.566 59.7421 249.691 Q57.3115 252.816 56.9643 259.135 Q58.33 257.121 60.3902 256.056 Q62.4504 254.968 64.9272 254.968 Q70.1355 254.968 73.1448 258.14 Q76.1772 261.288 76.1772 266.728 Q76.1772 272.052 73.029 275.269 Q69.8809 278.487 64.6495 278.487 Q58.6541 278.487 55.4828 273.903 Q52.3116 269.297 52.3116 260.57 Q52.3116 252.376 56.2004 247.515 Q60.0893 242.63 66.6402 242.63 Q68.3994 242.63 70.1818 242.978 Q71.9874 243.325 73.9318 244.019 Z\" fill=\"#000000\" fill-rule=\"evenodd\" fill-opacity=\"1\" /><path clip-path=\"url(#clip640)\" d=\"M53.9551 47.5837 L76.1772 47.5837 L76.1772 49.5744 L63.6309 82.1437 L58.7467 82.1437 L70.5522 51.5189 L53.9551 51.5189 L53.9551 47.5837 Z\" fill=\"#000000\" fill-rule=\"evenodd\" fill-opacity=\"1\" /><polyline clip-path=\"url(#clip642)\" style=\"stroke:#009af9; stroke-linecap:butt; stroke-linejoin:round; stroke-width:4; stroke-opacity:1; fill:none\" points=\"\n",
       "  112.177,1238.89 134.583,1226.94 156.989,1210.71 179.395,1190.14 201.8,1165 224.206,1134.95 246.612,1099.52 269.018,1058.18 291.423,1010.27 313.829,955.121 \n",
       "  336.235,892.003 358.641,820.209 381.047,739.168 403.452,648.656 425.858,549.021 448.264,441.65 470.67,330.602 493.076,222.874 515.481,133.561 537.887,86.1857 \n",
       "  560.293,109.184 582.699,227.354 605.104,426.699 627.51,657.067 649.916,860.218 672.322,1008.61 694.728,1107.73 717.133,1170.86 739.539,1209.71 761.945,1232.57 \n",
       "  784.351,1244.63 806.757,1248.9 829.162,1247.15 851.568,1240.4 873.974,1229.19 896.38,1213.69 918.786,1193.85 941.191,1169.49 963.597,1140.29 986.003,1105.81 \n",
       "  1008.41,1065.5 1030.81,1018.75 1053.22,964.878 1075.63,903.14 1098.03,832.85 1120.44,753.441 1142.84,664.772 1165.25,566.47 1187.65,460.027 1210.06,349.337 \n",
       "  1232.47,240.666 1254.87,146.598 1277.28,90.4419 1299.68,99.593 1322.09,202.089 1344.5,389.934 1366.9,618.478 1389.31,828.409 1411.71,986.932 1434.12,1092.67 \n",
       "  1456.52,1161.02 1478.93,1203.55 1501.34,1228.86 1523.74,1242.54 1546.15,1247.99 1568.55,1247.22 1590.96,1241.3 1613.36,1230.81 1635.77,1216.02 1658.18,1196.92 \n",
       "  1680.58,1173.34 1702.99,1144.96 1725.39,1111.37 1747.8,1072.05 1770.21,1026.4 1792.61,973.743 1815.02,913.367 1837.42,844.577 1859.83,766.684 1882.23,679.36 \n",
       "  1904.64,582.8 1927.05,478.413 1949.45,367.944 1971.86,258.125 1994.26,161.881 2016.67,98.3297 2039.07,95.2892 2061.48,181.058 2083.89,358.111 2106.29,584.143 \n",
       "  2128.7,799.301 2151.1,965.802 2173.51,1078.97 2195.92,1152.26 2218.32,1198.02 2240.73,1225.47 2263.13,1240.65 2285.54,1247.23 2307.94,1247.31 2330.35,1242.11 \n",
       "  2352.76,1232.29 \n",
       "  \"/>\n",
       "<polyline clip-path=\"url(#clip642)\" style=\"stroke:#e26f46; stroke-linecap:butt; stroke-linejoin:round; stroke-width:4; stroke-opacity:1; fill:none\" points=\"\n",
       "  112.177,1238.89 134.583,1273.9 156.989,1301.69 179.395,1323.64 201.8,1340.88 224.206,1354.31 246.612,1364.66 269.018,1372.47 291.423,1378.14 313.829,1381.92 \n",
       "  336.235,1383.94 358.641,1384.18 381.047,1382.43 403.452,1378.18 425.858,1370.52 448.264,1357.97 470.67,1337.6 493.076,1305.01 515.481,1251.53 537.887,1166.42 \n",
       "  560.293,1040.22 582.699,872.915 605.104,701.795 627.51,578.044 649.916,538.784 672.322,580.613 694.728,669.196 717.133,775.975 739.539,882.183 761.945,978.431 \n",
       "  784.351,1061.2 806.757,1130.17 829.162,1186.58 851.568,1232.08 873.974,1268.46 896.38,1297.38 918.786,1320.24 941.191,1338.21 963.597,1352.23 986.003,1363.05 \n",
       "  1008.41,1371.27 1030.81,1377.28 1053.22,1381.37 1075.63,1383.69 1098.03,1384.24 1120.44,1382.82 1142.84,1378.87 1165.25,1371.93 1187.65,1360.48 1210.06,1341.7 \n",
       "  1232.47,1311.45 1254.87,1262.45 1277.28,1183.27 1299.68,1064.56 1322.09,902.039 1344.5,728.51 1366.9,594.584 1389.31,540.815 1411.71,569.372 1434.12,653.163 \n",
       "  1456.52,757.883 1478.93,864.735 1501.34,962.81 1523.74,1047.85 1546.15,1119.09 1568.55,1177.47 1590.96,1224.7 1613.36,1262.53 1635.77,1292.62 1658.18,1316.43 \n",
       "  1680.58,1335.16 1702.99,1349.83 1725.39,1361.17 1747.8,1369.79 1770.21,1376.15 1792.61,1380.55 1815.02,1383.16 1837.42,1383.98 1859.83,1382.91 1882.23,1379.56 \n",
       "  1904.64,1373.12 1927.05,1362.05 1949.45,1344.54 1971.86,1316.46 1994.26,1270.85 2016.67,1197.88 2039.07,1085.83 2061.48,931.436 2083.89,756.044 2106.29,611.825 \n",
       "  2128.7,544.86 2151.1,562.307 2173.51,639.171 2195.92,741.939 2218.32,849.223 2240.73,948.894 2263.13,1035.93 2285.54,1109.12 2307.94,1169.32 2330.35,1218.1 \n",
       "  2352.76,1257.21 \n",
       "  \"/>\n",
       "<path clip-path=\"url(#clip640)\" d=\"\n",
       "M1921.43 248.629 L2278.07 248.629 L2278.07 93.1086 L1921.43 93.1086  Z\n",
       "  \" fill=\"#ffffff\" fill-rule=\"evenodd\" fill-opacity=\"1\"/>\n",
       "<polyline clip-path=\"url(#clip640)\" style=\"stroke:#000000; stroke-linecap:butt; stroke-linejoin:round; stroke-width:4; stroke-opacity:1; fill:none\" points=\"\n",
       "  1921.43,248.629 2278.07,248.629 2278.07,93.1086 1921.43,93.1086 1921.43,248.629 \n",
       "  \"/>\n",
       "<polyline clip-path=\"url(#clip640)\" style=\"stroke:#009af9; stroke-linecap:butt; stroke-linejoin:round; stroke-width:4; stroke-opacity:1; fill:none\" points=\"\n",
       "  1946.33,144.949 2095.7,144.949 \n",
       "  \"/>\n",
       "<path clip-path=\"url(#clip640)\" d=\"M2120.59 151.997 L2120.59 136.303 L2124.85 136.303 L2124.85 151.835 Q2124.85 155.516 2126.29 157.368 Q2127.72 159.196 2130.59 159.196 Q2134.04 159.196 2136.03 156.997 Q2138.05 154.798 2138.05 151.002 L2138.05 136.303 L2142.31 136.303 L2142.31 162.229 L2138.05 162.229 L2138.05 158.247 Q2136.5 160.608 2134.44 161.766 Q2132.4 162.9 2129.69 162.9 Q2125.22 162.9 2122.91 160.122 Q2120.59 157.344 2120.59 151.997 M2131.31 135.678 L2131.31 135.678 Z\" fill=\"#000000\" fill-rule=\"evenodd\" fill-opacity=\"1\" /><path clip-path=\"url(#clip640)\" d=\"M2152.49 158.293 L2160.13 158.293 L2160.13 131.928 L2151.82 133.595 L2151.82 129.335 L2160.09 127.669 L2164.76 127.669 L2164.76 158.293 L2172.4 158.293 L2172.4 162.229 L2152.49 162.229 L2152.49 158.293 Z\" fill=\"#000000\" fill-rule=\"evenodd\" fill-opacity=\"1\" /><path clip-path=\"url(#clip640)\" d=\"M2191.47 126.257 Q2188.37 131.581 2186.87 136.789 Q2185.36 141.997 2185.36 147.344 Q2185.36 152.692 2186.87 157.946 Q2188.4 163.178 2191.47 168.479 L2187.77 168.479 Q2184.3 163.039 2182.56 157.784 Q2180.85 152.53 2180.85 147.344 Q2180.85 142.182 2182.56 136.951 Q2184.27 131.72 2187.77 126.257 L2191.47 126.257 Z\" fill=\"#000000\" fill-rule=\"evenodd\" fill-opacity=\"1\" /><path clip-path=\"url(#clip640)\" d=\"M2203.95 128.942 L2203.95 136.303 L2212.72 136.303 L2212.72 139.613 L2203.95 139.613 L2203.95 153.687 Q2203.95 156.858 2204.81 157.761 Q2205.69 158.664 2208.35 158.664 L2212.72 158.664 L2212.72 162.229 L2208.35 162.229 Q2203.42 162.229 2201.54 160.4 Q2199.67 158.548 2199.67 153.687 L2199.67 139.613 L2196.54 139.613 L2196.54 136.303 L2199.67 136.303 L2199.67 128.942 L2203.95 128.942 Z\" fill=\"#000000\" fill-rule=\"evenodd\" fill-opacity=\"1\" /><path clip-path=\"url(#clip640)\" d=\"M2217.65 126.257 L2221.36 126.257 Q2224.83 131.72 2226.54 136.951 Q2228.28 142.182 2228.28 147.344 Q2228.28 152.53 2226.54 157.784 Q2224.83 163.039 2221.36 168.479 L2217.65 168.479 Q2220.73 163.178 2222.24 157.946 Q2223.77 152.692 2223.77 147.344 Q2223.77 141.997 2222.24 136.789 Q2220.73 131.581 2217.65 126.257 Z\" fill=\"#000000\" fill-rule=\"evenodd\" fill-opacity=\"1\" /><polyline clip-path=\"url(#clip640)\" style=\"stroke:#e26f46; stroke-linecap:butt; stroke-linejoin:round; stroke-width:4; stroke-opacity:1; fill:none\" points=\"\n",
       "  1946.33,196.789 2095.7,196.789 \n",
       "  \"/>\n",
       "<path clip-path=\"url(#clip640)\" d=\"M2120.59 203.837 L2120.59 188.143 L2124.85 188.143 L2124.85 203.675 Q2124.85 207.356 2126.29 209.208 Q2127.72 211.036 2130.59 211.036 Q2134.04 211.036 2136.03 208.837 Q2138.05 206.638 2138.05 202.842 L2138.05 188.143 L2142.31 188.143 L2142.31 214.069 L2138.05 214.069 L2138.05 210.087 Q2136.5 212.448 2134.44 213.606 Q2132.4 214.74 2129.69 214.74 Q2125.22 214.74 2122.91 211.962 Q2120.59 209.184 2120.59 203.837 M2131.31 187.518 L2131.31 187.518 Z\" fill=\"#000000\" fill-rule=\"evenodd\" fill-opacity=\"1\" /><path clip-path=\"url(#clip640)\" d=\"M2155.71 210.133 L2172.03 210.133 L2172.03 214.069 L2150.09 214.069 L2150.09 210.133 Q2152.75 207.379 2157.33 202.749 Q2161.94 198.096 2163.12 196.754 Q2165.36 194.231 2166.24 192.495 Q2167.15 190.735 2167.15 189.046 Q2167.15 186.291 2165.2 184.555 Q2163.28 182.819 2160.18 182.819 Q2157.98 182.819 2155.53 183.583 Q2153.09 184.347 2150.32 185.897 L2150.32 181.175 Q2153.14 180.041 2155.59 179.462 Q2158.05 178.884 2160.09 178.884 Q2165.46 178.884 2168.65 181.569 Q2171.84 184.254 2171.84 188.745 Q2171.84 190.874 2171.03 192.796 Q2170.25 194.694 2168.14 197.286 Q2167.56 197.958 2164.46 201.175 Q2161.36 204.37 2155.71 210.133 Z\" fill=\"#000000\" fill-rule=\"evenodd\" fill-opacity=\"1\" /><path clip-path=\"url(#clip640)\" d=\"M2191.47 178.097 Q2188.37 183.421 2186.87 188.629 Q2185.36 193.837 2185.36 199.184 Q2185.36 204.532 2186.87 209.786 Q2188.4 215.018 2191.47 220.319 L2187.77 220.319 Q2184.3 214.879 2182.56 209.624 Q2180.85 204.37 2180.85 199.184 Q2180.85 194.022 2182.56 188.791 Q2184.27 183.56 2187.77 178.097 L2191.47 178.097 Z\" fill=\"#000000\" fill-rule=\"evenodd\" fill-opacity=\"1\" /><path clip-path=\"url(#clip640)\" d=\"M2203.95 180.782 L2203.95 188.143 L2212.72 188.143 L2212.72 191.453 L2203.95 191.453 L2203.95 205.527 Q2203.95 208.698 2204.81 209.601 Q2205.69 210.504 2208.35 210.504 L2212.72 210.504 L2212.72 214.069 L2208.35 214.069 Q2203.42 214.069 2201.54 212.24 Q2199.67 210.388 2199.67 205.527 L2199.67 191.453 L2196.54 191.453 L2196.54 188.143 L2199.67 188.143 L2199.67 180.782 L2203.95 180.782 Z\" fill=\"#000000\" fill-rule=\"evenodd\" fill-opacity=\"1\" /><path clip-path=\"url(#clip640)\" d=\"M2217.65 178.097 L2221.36 178.097 Q2224.83 183.56 2226.54 188.791 Q2228.28 194.022 2228.28 199.184 Q2228.28 204.37 2226.54 209.624 Q2224.83 214.879 2221.36 220.319 L2217.65 220.319 Q2220.73 215.018 2222.24 209.786 Q2223.77 204.532 2223.77 199.184 Q2223.77 193.837 2222.24 188.629 Q2220.73 183.421 2217.65 178.097 Z\" fill=\"#000000\" fill-rule=\"evenodd\" fill-opacity=\"1\" /></svg>\n"
      ]
     },
     "execution_count": 42,
     "metadata": {},
     "output_type": "execute_result"
    }
   ],
   "source": [
    "Plots.plot(ode_sol)"
   ]
  },
  {
   "cell_type": "markdown",
   "metadata": {},
   "source": [
    "# SciML - NeuralNet within DiffEq"
   ]
  },
  {
   "cell_type": "markdown",
   "metadata": {},
   "source": [
    "https://lux.csail.mit.edu/dev/examples/generated/intermediate/NeuralODE/main/"
   ]
  },
  {
   "cell_type": "markdown",
   "metadata": {},
   "source": []
  }
 ],
 "metadata": {
  "kernelspec": {
   "display_name": "Julia 1.7.2",
   "language": "julia",
   "name": "julia-1.7"
  },
  "language_info": {
   "file_extension": ".jl",
   "mimetype": "application/julia",
   "name": "julia",
   "version": "1.7.2"
  },
  "vscode": {
   "interpreter": {
    "hash": "520e995520d0f28b9f1e7cacfd9ba1493aa60b57e5f0cc1543205df7dd9220a2"
   }
  }
 },
 "nbformat": 4,
 "nbformat_minor": 2
}
